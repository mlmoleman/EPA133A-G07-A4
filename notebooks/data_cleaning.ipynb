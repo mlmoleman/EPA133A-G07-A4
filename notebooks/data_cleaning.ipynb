{
 "cells": [
  {
   "cell_type": "markdown",
   "source": [
    "# Bangladesh Network Analysis"
   ],
   "metadata": {
    "collapsed": false
   },
   "id": "44c354576f84a51c"
  },
  {
   "cell_type": "markdown",
   "source": [
    "## Data cleaning"
   ],
   "metadata": {
    "collapsed": false
   },
   "id": "93e2ae47ea33b197"
  },
  {
   "cell_type": "code",
   "outputs": [],
   "source": [
    "# import libraries\n",
    "import pandas as pd\n",
    "from bs4 import BeautifulSoup"
   ],
   "metadata": {
    "collapsed": false,
    "ExecuteTime": {
     "end_time": "2024-03-26T14:29:37.216477Z",
     "start_time": "2024-03-26T14:29:37.212754Z"
    }
   },
   "id": "a9564427b338be25",
   "execution_count": 15
  },
  {
   "cell_type": "code",
   "outputs": [
    {
     "name": "stdout",
     "output_type": "stream",
     "text": [
      "Requirement already satisfied: lxml in /Users/milanmoleman/Desktop/EPA133A-G07-A4/venv/lib/python3.11/site-packages (5.1.0)\r\n",
      "\r\n",
      "\u001B[1m[\u001B[0m\u001B[34;49mnotice\u001B[0m\u001B[1;39;49m]\u001B[0m\u001B[39;49m A new release of pip is available: \u001B[0m\u001B[31;49m23.2.1\u001B[0m\u001B[39;49m -> \u001B[0m\u001B[32;49m24.0\u001B[0m\r\n",
      "\u001B[1m[\u001B[0m\u001B[34;49mnotice\u001B[0m\u001B[1;39;49m]\u001B[0m\u001B[39;49m To update, run: \u001B[0m\u001B[32;49mpip install --upgrade pip\u001B[0m\r\n",
      "Note: you may need to restart the kernel to use updated packages.\n"
     ]
    }
   ],
   "source": [
    "pip install lxml"
   ],
   "metadata": {
    "collapsed": false,
    "ExecuteTime": {
     "end_time": "2024-03-26T14:31:30.482092Z",
     "start_time": "2024-03-26T14:31:27.413346Z"
    }
   },
   "id": "b174df2480107e51",
   "execution_count": 18
  },
  {
   "cell_type": "code",
   "outputs": [],
   "source": [
    "# import bridges data\n",
    "data_bridges = pd.read_excel('../data/bridges.xlsx')"
   ],
   "metadata": {
    "collapsed": false,
    "ExecuteTime": {
     "end_time": "2024-03-25T14:20:02.406092Z",
     "start_time": "2024-03-25T14:19:57.276469Z"
    }
   },
   "id": "12bfcb0af36c3cc8",
   "execution_count": 7
  },
  {
   "cell_type": "code",
   "outputs": [
    {
     "data": {
      "text/plain": "  road      km              type  LRPName               name  length  \\\n0   N1   1.800       Box Culvert  LRP001a                  .   11.30   \n1   N1   4.925       Box Culvert  LRP004b                  .    6.60   \n2   N1   8.976  PC Girder Bridge  LRP008b  Kanch pur Bridge.  394.23   \n3   N1  10.880       Box Culvert  LRP010b   NOYAPARA CULVERT    6.30   \n4   N1  10.897       Box Culvert  LRP010c     ADUPUR CULVERT    6.30   \n\n  condition  structureNr                                           roadName  \\\n0         A       117861  Dhaka (Jatrabari)-Comilla (Mainamati)-Chittago...   \n1         A       117862  Dhaka (Jatrabari)-Comilla (Mainamati)-Chittago...   \n2         A       119889  Dhaka (Jatrabari)-Comilla (Mainamati)-Chittago...   \n3         A       112531  Dhaka (Jatrabari)-Comilla (Mainamati)-Chittago...   \n4         A       112532  Dhaka (Jatrabari)-Comilla (Mainamati)-Chittago...   \n\n   chainage  width  constructionYear  spans   zone circle     division  \\\n0     1.800   19.5            2005.0    2.0  Dhaka  Dhaka  Narayanganj   \n1     4.925   35.4            2006.0    1.0  Dhaka  Dhaka  Narayanganj   \n2     8.976    NaN               NaN    NaN  Dhaka  Dhaka  Narayanganj   \n3    10.880   12.2            1992.0    2.0  Dhaka  Dhaka  Narayanganj   \n4    10.897   12.2            1984.0    2.0  Dhaka  Dhaka  Narayanganj   \n\n    sub-division        lat        lon EstimatedLoc  \n0  Narayanganj-1  23.698739  90.458861  interpolate  \n1  Narayanganj-1  23.694664  90.487775  interpolate  \n2  Narayanganj-1  23.705060  90.523214  interpolate  \n3      Vitikandi  23.694391  90.537574  interpolate  \n4      Vitikandi  23.694302  90.537707  interpolate  ",
      "text/html": "<div>\n<style scoped>\n    .dataframe tbody tr th:only-of-type {\n        vertical-align: middle;\n    }\n\n    .dataframe tbody tr th {\n        vertical-align: top;\n    }\n\n    .dataframe thead th {\n        text-align: right;\n    }\n</style>\n<table border=\"1\" class=\"dataframe\">\n  <thead>\n    <tr style=\"text-align: right;\">\n      <th></th>\n      <th>road</th>\n      <th>km</th>\n      <th>type</th>\n      <th>LRPName</th>\n      <th>name</th>\n      <th>length</th>\n      <th>condition</th>\n      <th>structureNr</th>\n      <th>roadName</th>\n      <th>chainage</th>\n      <th>width</th>\n      <th>constructionYear</th>\n      <th>spans</th>\n      <th>zone</th>\n      <th>circle</th>\n      <th>division</th>\n      <th>sub-division</th>\n      <th>lat</th>\n      <th>lon</th>\n      <th>EstimatedLoc</th>\n    </tr>\n  </thead>\n  <tbody>\n    <tr>\n      <th>0</th>\n      <td>N1</td>\n      <td>1.800</td>\n      <td>Box Culvert</td>\n      <td>LRP001a</td>\n      <td>.</td>\n      <td>11.30</td>\n      <td>A</td>\n      <td>117861</td>\n      <td>Dhaka (Jatrabari)-Comilla (Mainamati)-Chittago...</td>\n      <td>1.800</td>\n      <td>19.5</td>\n      <td>2005.0</td>\n      <td>2.0</td>\n      <td>Dhaka</td>\n      <td>Dhaka</td>\n      <td>Narayanganj</td>\n      <td>Narayanganj-1</td>\n      <td>23.698739</td>\n      <td>90.458861</td>\n      <td>interpolate</td>\n    </tr>\n    <tr>\n      <th>1</th>\n      <td>N1</td>\n      <td>4.925</td>\n      <td>Box Culvert</td>\n      <td>LRP004b</td>\n      <td>.</td>\n      <td>6.60</td>\n      <td>A</td>\n      <td>117862</td>\n      <td>Dhaka (Jatrabari)-Comilla (Mainamati)-Chittago...</td>\n      <td>4.925</td>\n      <td>35.4</td>\n      <td>2006.0</td>\n      <td>1.0</td>\n      <td>Dhaka</td>\n      <td>Dhaka</td>\n      <td>Narayanganj</td>\n      <td>Narayanganj-1</td>\n      <td>23.694664</td>\n      <td>90.487775</td>\n      <td>interpolate</td>\n    </tr>\n    <tr>\n      <th>2</th>\n      <td>N1</td>\n      <td>8.976</td>\n      <td>PC Girder Bridge</td>\n      <td>LRP008b</td>\n      <td>Kanch pur Bridge.</td>\n      <td>394.23</td>\n      <td>A</td>\n      <td>119889</td>\n      <td>Dhaka (Jatrabari)-Comilla (Mainamati)-Chittago...</td>\n      <td>8.976</td>\n      <td>NaN</td>\n      <td>NaN</td>\n      <td>NaN</td>\n      <td>Dhaka</td>\n      <td>Dhaka</td>\n      <td>Narayanganj</td>\n      <td>Narayanganj-1</td>\n      <td>23.705060</td>\n      <td>90.523214</td>\n      <td>interpolate</td>\n    </tr>\n    <tr>\n      <th>3</th>\n      <td>N1</td>\n      <td>10.880</td>\n      <td>Box Culvert</td>\n      <td>LRP010b</td>\n      <td>NOYAPARA CULVERT</td>\n      <td>6.30</td>\n      <td>A</td>\n      <td>112531</td>\n      <td>Dhaka (Jatrabari)-Comilla (Mainamati)-Chittago...</td>\n      <td>10.880</td>\n      <td>12.2</td>\n      <td>1992.0</td>\n      <td>2.0</td>\n      <td>Dhaka</td>\n      <td>Dhaka</td>\n      <td>Narayanganj</td>\n      <td>Vitikandi</td>\n      <td>23.694391</td>\n      <td>90.537574</td>\n      <td>interpolate</td>\n    </tr>\n    <tr>\n      <th>4</th>\n      <td>N1</td>\n      <td>10.897</td>\n      <td>Box Culvert</td>\n      <td>LRP010c</td>\n      <td>ADUPUR CULVERT</td>\n      <td>6.30</td>\n      <td>A</td>\n      <td>112532</td>\n      <td>Dhaka (Jatrabari)-Comilla (Mainamati)-Chittago...</td>\n      <td>10.897</td>\n      <td>12.2</td>\n      <td>1984.0</td>\n      <td>2.0</td>\n      <td>Dhaka</td>\n      <td>Dhaka</td>\n      <td>Narayanganj</td>\n      <td>Vitikandi</td>\n      <td>23.694302</td>\n      <td>90.537707</td>\n      <td>interpolate</td>\n    </tr>\n  </tbody>\n</table>\n</div>"
     },
     "execution_count": 8,
     "metadata": {},
     "output_type": "execute_result"
    }
   ],
   "source": [
    "data_bridges.head()"
   ],
   "metadata": {
    "collapsed": false,
    "ExecuteTime": {
     "end_time": "2024-03-25T14:20:58.717119Z",
     "start_time": "2024-03-25T14:20:58.672993Z"
    }
   },
   "id": "a91beaaf43ebd75c",
   "execution_count": 8
  },
  {
   "cell_type": "code",
   "outputs": [],
   "source": [
    "# import roads data\n",
    "data_roads = pd.read_csv('../data/roads.csv')"
   ],
   "metadata": {
    "collapsed": false,
    "ExecuteTime": {
     "end_time": "2024-03-25T14:21:11.850447Z",
     "start_time": "2024-03-25T14:21:11.759308Z"
    }
   },
   "id": "e82d2dda0db83be0",
   "execution_count": 11
  },
  {
   "cell_type": "code",
   "outputs": [
    {
     "data": {
      "text/plain": "  road  chainage     lrp        lat        lon  gap       type  \\\n0   N1     0.000    LRPS  23.706028  90.443333  NaN     Others   \n1   N1     0.814   LRPSa  23.702917  90.450417  NaN    Culvert   \n2   N1     0.822   LRPSb  23.702778  90.450472  NaN  CrossRoad   \n3   N1     1.000  LRP001  23.702139  90.451972  NaN     KmPost   \n4   N1     2.000  LRP002  23.697889  90.460583  NaN     KmPost   \n\n                                                name  \n0  Start of Road  after Jatrabari Flyover infront...  \n1                                        Box Culvert  \n2                            Intersection with Z1101  \n3                                    Km post missing  \n4                                    Km post missing  ",
      "text/html": "<div>\n<style scoped>\n    .dataframe tbody tr th:only-of-type {\n        vertical-align: middle;\n    }\n\n    .dataframe tbody tr th {\n        vertical-align: top;\n    }\n\n    .dataframe thead th {\n        text-align: right;\n    }\n</style>\n<table border=\"1\" class=\"dataframe\">\n  <thead>\n    <tr style=\"text-align: right;\">\n      <th></th>\n      <th>road</th>\n      <th>chainage</th>\n      <th>lrp</th>\n      <th>lat</th>\n      <th>lon</th>\n      <th>gap</th>\n      <th>type</th>\n      <th>name</th>\n    </tr>\n  </thead>\n  <tbody>\n    <tr>\n      <th>0</th>\n      <td>N1</td>\n      <td>0.000</td>\n      <td>LRPS</td>\n      <td>23.706028</td>\n      <td>90.443333</td>\n      <td>NaN</td>\n      <td>Others</td>\n      <td>Start of Road  after Jatrabari Flyover infront...</td>\n    </tr>\n    <tr>\n      <th>1</th>\n      <td>N1</td>\n      <td>0.814</td>\n      <td>LRPSa</td>\n      <td>23.702917</td>\n      <td>90.450417</td>\n      <td>NaN</td>\n      <td>Culvert</td>\n      <td>Box Culvert</td>\n    </tr>\n    <tr>\n      <th>2</th>\n      <td>N1</td>\n      <td>0.822</td>\n      <td>LRPSb</td>\n      <td>23.702778</td>\n      <td>90.450472</td>\n      <td>NaN</td>\n      <td>CrossRoad</td>\n      <td>Intersection with Z1101</td>\n    </tr>\n    <tr>\n      <th>3</th>\n      <td>N1</td>\n      <td>1.000</td>\n      <td>LRP001</td>\n      <td>23.702139</td>\n      <td>90.451972</td>\n      <td>NaN</td>\n      <td>KmPost</td>\n      <td>Km post missing</td>\n    </tr>\n    <tr>\n      <th>4</th>\n      <td>N1</td>\n      <td>2.000</td>\n      <td>LRP002</td>\n      <td>23.697889</td>\n      <td>90.460583</td>\n      <td>NaN</td>\n      <td>KmPost</td>\n      <td>Km post missing</td>\n    </tr>\n  </tbody>\n</table>\n</div>"
     },
     "execution_count": 12,
     "metadata": {},
     "output_type": "execute_result"
    }
   ],
   "source": [
    "data_roads.head()"
   ],
   "metadata": {
    "collapsed": false,
    "ExecuteTime": {
     "end_time": "2024-03-25T14:21:15.452026Z",
     "start_time": "2024-03-25T14:21:15.437226Z"
    }
   },
   "id": "55be413e06c3736e",
   "execution_count": 12
  },
  {
   "cell_type": "code",
   "outputs": [],
   "source": [
    "df_traffic = pd.read_html(\"../data/N1_traffic.htm\")"
   ],
   "metadata": {
    "collapsed": false,
    "ExecuteTime": {
     "end_time": "2024-03-26T14:59:04.259474Z",
     "start_time": "2024-03-26T14:59:03.972692Z"
    }
   },
   "id": "6ca65c2455564219",
   "execution_count": 23
  },
  {
   "cell_type": "code",
   "outputs": [
    {
     "data": {
      "text/plain": "                                           0   \\\n0    List of links of N1 (  what is a link  )   \n1                                     Link no   \n2                                         NaN   \n3                                       N1-1L   \n4                                       N1-1R   \n..                                        ...   \n103                                     N1-65   \n104                                     N1-66   \n105                                     N1-67   \n106                                     N1-68   \n107                                     N1-69   \n\n                                            1   \\\n0     List of links of N1 (  what is a link  )   \n1                                         Name   \n2                                          NaN   \n3     Jatrabari - Int.with Z1101 (Left) (Left)   \n4    Jatrabari - Int.with Z1101 (Left) (Right)   \n..                                         ...   \n103     Coxsbazar Link Road N110-Maricha Z1009   \n104        Maricha Z1009-Ukhia Dakbanglo Z1503   \n105       Ukhia Dakbanglo Z1503 - Gundum Z1504   \n106         GundumGundum Z1504 - Whykong Z1133   \n107                     Whykong Z1133 - Teknaf   \n\n                                           2   \\\n0    List of links of N1 (  what is a link  )   \n1                              Start location   \n2                                         LRP   \n3                                        LRPS   \n4                                        LRPS   \n..                                        ...   \n103                                    LRP386   \n104                                    LRP403   \n105                                    LRP413   \n106                                    LRP420   \n107                                    LRP433   \n\n                                           3   \\\n0    List of links of N1 (  what is a link  )   \n1                              Start location   \n2                                      Offset   \n3                                           0   \n4                                           0   \n..                                        ...   \n103                                       724   \n104                                       217   \n105                                       300   \n106                                       900   \n107                                       521   \n\n                                           4   \\\n0    List of links of N1 (  what is a link  )   \n1                              Start location   \n2                                    Chainage   \n3                                           0   \n4                                           0   \n..                                        ...   \n103                                   381.481   \n104                                   398.205   \n105                                   408.434   \n106                                   416.044   \n107                                   428.908   \n\n                                           5   \\\n0    List of links of N1 (  what is a link  )   \n1                                End location   \n2                                         LRP   \n3                                        LRPS   \n4                                        LRPS   \n..                                        ...   \n103                                    LRP403   \n104                                    LRP413   \n105                                    LRP420   \n106                                    LRP433   \n107                                    LRP467   \n\n                                           6   \\\n0    List of links of N1 (  what is a link  )   \n1                                End location   \n2                                      Offset   \n3                                         822   \n4                                         822   \n..                                        ...   \n103                                       217   \n104                                       300   \n105                                       900   \n106                                       521   \n107                                       130   \n\n                                           7   \\\n0    List of links of N1 (  what is a link  )   \n1                                End location   \n2                                    Chainage   \n3                                       0.822   \n4                                       0.822   \n..                                        ...   \n103                                   398.205   \n104                                   408.434   \n105                                   416.044   \n106                                   428.908   \n107                                   462.254   \n\n                                           8   \\\n0    List of links of N1 (  what is a link  )   \n1                                      Length   \n2                                        (Km)   \n3                                       0.822   \n4                                       0.822   \n..                                        ...   \n103                                    16.724   \n104                                    10.229   \n105                                     7.610   \n106                                    12.864   \n107                                    33.346   \n\n                                           9   ...  \\\n0    List of links of N1 (  what is a link  )  ...   \n1                                Traffic Data  ...   \n2                                 Heavy Truck  ...   \n3                                       402.0  ...   \n4                                       660.0  ...   \n..                                        ...  ...   \n103                                      24.0  ...   \n104                                      24.0  ...   \n105                                      24.0  ...   \n106                                      24.0  ...   \n107                                      24.0  ...   \n\n                                           16  \\\n0    List of links of N1 (  what is a link  )   \n1                                Traffic Data   \n2                                         Car   \n3                                      1851.0   \n4                                      2608.0   \n..                                        ...   \n103                                     142.0   \n104                                     142.0   \n105                                     142.0   \n106                                     142.0   \n107                                     142.0   \n\n                                           17  \\\n0    List of links of N1 (  what is a link  )   \n1                                Traffic Data   \n2                               Auto Rickshaw   \n3                                      2980.0   \n4                                      2508.0   \n..                                        ...   \n103                                    2476.0   \n104                                    2476.0   \n105                                    2476.0   \n106                                    2476.0   \n107                                    2476.0   \n\n                                           18  \\\n0    List of links of N1 (  what is a link  )   \n1                                Traffic Data   \n2                                 Motor Cycle   \n3                                       398.0   \n4                                       436.0   \n..                                        ...   \n103                                     419.0   \n104                                     419.0   \n105                                     419.0   \n106                                     419.0   \n107                                     419.0   \n\n                                           19  \\\n0    List of links of N1 (  what is a link  )   \n1                                Traffic Data   \n2                                    Bi-Cycle   \n3                                       232.0   \n4                                       213.0   \n..                                        ...   \n103                                      97.0   \n104                                      97.0   \n105                                      97.0   \n106                                      97.0   \n107                                      97.0   \n\n                                           20  \\\n0    List of links of N1 (  what is a link  )   \n1                                Traffic Data   \n2                              Cycle Rickshaw   \n3                                       889.0   \n4                                      1088.0   \n..                                        ...   \n103                                    1042.0   \n104                                    1042.0   \n105                                    1042.0   \n106                                    1042.0   \n107                                    1042.0   \n\n                                           21  \\\n0    List of links of N1 (  what is a link  )   \n1                                Traffic Data   \n2                                        Cart   \n3                                         0.0   \n4                                         0.0   \n..                                        ...   \n103                                       0.0   \n104                                       0.0   \n105                                       0.0   \n106                                       0.0   \n107                                       0.0   \n\n                                           22  \\\n0    List of links of N1 (  what is a link  )   \n1                                       Total   \n2                                   Motorized   \n3                                     18236.0   \n4                                     20236.0   \n..                                        ...   \n103                                    4681.0   \n104                                    4681.0   \n105                                    4681.0   \n106                                    4681.0   \n107                                    4681.0   \n\n                                           23  \\\n0    List of links of N1 (  what is a link  )   \n1                                       Total   \n2                               Non Motorized   \n3                                      1121.0   \n4                                      1301.0   \n..                                        ...   \n103                                    1139.0   \n104                                    1139.0   \n105                                    1139.0   \n106                                    1139.0   \n107                                    1139.0   \n\n                                           24  \\\n0    List of links of N1 (  what is a link  )   \n1                                       Total   \n2                                  Total AADT   \n3                                     19357.0   \n4                                     21537.0   \n..                                        ...   \n103                                    5820.0   \n104                                    5820.0   \n105                                    5820.0   \n106                                    5820.0   \n107                                    5820.0   \n\n                                           25  \n0    List of links of N1 (  what is a link  )  \n1                                     Traffic  \n2                                      (AADT)  \n3                                     19357.0  \n4                                     21537.0  \n..                                        ...  \n103                                    5820.0  \n104                                    5820.0  \n105                                    5820.0  \n106                                    5820.0  \n107                                    5820.0  \n\n[108 rows x 26 columns]",
      "text/html": "<div>\n<style scoped>\n    .dataframe tbody tr th:only-of-type {\n        vertical-align: middle;\n    }\n\n    .dataframe tbody tr th {\n        vertical-align: top;\n    }\n\n    .dataframe thead th {\n        text-align: right;\n    }\n</style>\n<table border=\"1\" class=\"dataframe\">\n  <thead>\n    <tr style=\"text-align: right;\">\n      <th></th>\n      <th>0</th>\n      <th>1</th>\n      <th>2</th>\n      <th>3</th>\n      <th>4</th>\n      <th>5</th>\n      <th>6</th>\n      <th>7</th>\n      <th>8</th>\n      <th>9</th>\n      <th>...</th>\n      <th>16</th>\n      <th>17</th>\n      <th>18</th>\n      <th>19</th>\n      <th>20</th>\n      <th>21</th>\n      <th>22</th>\n      <th>23</th>\n      <th>24</th>\n      <th>25</th>\n    </tr>\n  </thead>\n  <tbody>\n    <tr>\n      <th>0</th>\n      <td>List of links of N1 (  what is a link  )</td>\n      <td>List of links of N1 (  what is a link  )</td>\n      <td>List of links of N1 (  what is a link  )</td>\n      <td>List of links of N1 (  what is a link  )</td>\n      <td>List of links of N1 (  what is a link  )</td>\n      <td>List of links of N1 (  what is a link  )</td>\n      <td>List of links of N1 (  what is a link  )</td>\n      <td>List of links of N1 (  what is a link  )</td>\n      <td>List of links of N1 (  what is a link  )</td>\n      <td>List of links of N1 (  what is a link  )</td>\n      <td>...</td>\n      <td>List of links of N1 (  what is a link  )</td>\n      <td>List of links of N1 (  what is a link  )</td>\n      <td>List of links of N1 (  what is a link  )</td>\n      <td>List of links of N1 (  what is a link  )</td>\n      <td>List of links of N1 (  what is a link  )</td>\n      <td>List of links of N1 (  what is a link  )</td>\n      <td>List of links of N1 (  what is a link  )</td>\n      <td>List of links of N1 (  what is a link  )</td>\n      <td>List of links of N1 (  what is a link  )</td>\n      <td>List of links of N1 (  what is a link  )</td>\n    </tr>\n    <tr>\n      <th>1</th>\n      <td>Link no</td>\n      <td>Name</td>\n      <td>Start location</td>\n      <td>Start location</td>\n      <td>Start location</td>\n      <td>End location</td>\n      <td>End location</td>\n      <td>End location</td>\n      <td>Length</td>\n      <td>Traffic Data</td>\n      <td>...</td>\n      <td>Traffic Data</td>\n      <td>Traffic Data</td>\n      <td>Traffic Data</td>\n      <td>Traffic Data</td>\n      <td>Traffic Data</td>\n      <td>Traffic Data</td>\n      <td>Total</td>\n      <td>Total</td>\n      <td>Total</td>\n      <td>Traffic</td>\n    </tr>\n    <tr>\n      <th>2</th>\n      <td>NaN</td>\n      <td>NaN</td>\n      <td>LRP</td>\n      <td>Offset</td>\n      <td>Chainage</td>\n      <td>LRP</td>\n      <td>Offset</td>\n      <td>Chainage</td>\n      <td>(Km)</td>\n      <td>Heavy Truck</td>\n      <td>...</td>\n      <td>Car</td>\n      <td>Auto Rickshaw</td>\n      <td>Motor Cycle</td>\n      <td>Bi-Cycle</td>\n      <td>Cycle Rickshaw</td>\n      <td>Cart</td>\n      <td>Motorized</td>\n      <td>Non Motorized</td>\n      <td>Total AADT</td>\n      <td>(AADT)</td>\n    </tr>\n    <tr>\n      <th>3</th>\n      <td>N1-1L</td>\n      <td>Jatrabari - Int.with Z1101 (Left) (Left)</td>\n      <td>LRPS</td>\n      <td>0</td>\n      <td>0</td>\n      <td>LRPS</td>\n      <td>822</td>\n      <td>0.822</td>\n      <td>0.822</td>\n      <td>402.0</td>\n      <td>...</td>\n      <td>1851.0</td>\n      <td>2980.0</td>\n      <td>398.0</td>\n      <td>232.0</td>\n      <td>889.0</td>\n      <td>0.0</td>\n      <td>18236.0</td>\n      <td>1121.0</td>\n      <td>19357.0</td>\n      <td>19357.0</td>\n    </tr>\n    <tr>\n      <th>4</th>\n      <td>N1-1R</td>\n      <td>Jatrabari - Int.with Z1101 (Left) (Right)</td>\n      <td>LRPS</td>\n      <td>0</td>\n      <td>0</td>\n      <td>LRPS</td>\n      <td>822</td>\n      <td>0.822</td>\n      <td>0.822</td>\n      <td>660.0</td>\n      <td>...</td>\n      <td>2608.0</td>\n      <td>2508.0</td>\n      <td>436.0</td>\n      <td>213.0</td>\n      <td>1088.0</td>\n      <td>0.0</td>\n      <td>20236.0</td>\n      <td>1301.0</td>\n      <td>21537.0</td>\n      <td>21537.0</td>\n    </tr>\n    <tr>\n      <th>...</th>\n      <td>...</td>\n      <td>...</td>\n      <td>...</td>\n      <td>...</td>\n      <td>...</td>\n      <td>...</td>\n      <td>...</td>\n      <td>...</td>\n      <td>...</td>\n      <td>...</td>\n      <td>...</td>\n      <td>...</td>\n      <td>...</td>\n      <td>...</td>\n      <td>...</td>\n      <td>...</td>\n      <td>...</td>\n      <td>...</td>\n      <td>...</td>\n      <td>...</td>\n      <td>...</td>\n    </tr>\n    <tr>\n      <th>103</th>\n      <td>N1-65</td>\n      <td>Coxsbazar Link Road N110-Maricha Z1009</td>\n      <td>LRP386</td>\n      <td>724</td>\n      <td>381.481</td>\n      <td>LRP403</td>\n      <td>217</td>\n      <td>398.205</td>\n      <td>16.724</td>\n      <td>24.0</td>\n      <td>...</td>\n      <td>142.0</td>\n      <td>2476.0</td>\n      <td>419.0</td>\n      <td>97.0</td>\n      <td>1042.0</td>\n      <td>0.0</td>\n      <td>4681.0</td>\n      <td>1139.0</td>\n      <td>5820.0</td>\n      <td>5820.0</td>\n    </tr>\n    <tr>\n      <th>104</th>\n      <td>N1-66</td>\n      <td>Maricha Z1009-Ukhia Dakbanglo Z1503</td>\n      <td>LRP403</td>\n      <td>217</td>\n      <td>398.205</td>\n      <td>LRP413</td>\n      <td>300</td>\n      <td>408.434</td>\n      <td>10.229</td>\n      <td>24.0</td>\n      <td>...</td>\n      <td>142.0</td>\n      <td>2476.0</td>\n      <td>419.0</td>\n      <td>97.0</td>\n      <td>1042.0</td>\n      <td>0.0</td>\n      <td>4681.0</td>\n      <td>1139.0</td>\n      <td>5820.0</td>\n      <td>5820.0</td>\n    </tr>\n    <tr>\n      <th>105</th>\n      <td>N1-67</td>\n      <td>Ukhia Dakbanglo Z1503 - Gundum Z1504</td>\n      <td>LRP413</td>\n      <td>300</td>\n      <td>408.434</td>\n      <td>LRP420</td>\n      <td>900</td>\n      <td>416.044</td>\n      <td>7.610</td>\n      <td>24.0</td>\n      <td>...</td>\n      <td>142.0</td>\n      <td>2476.0</td>\n      <td>419.0</td>\n      <td>97.0</td>\n      <td>1042.0</td>\n      <td>0.0</td>\n      <td>4681.0</td>\n      <td>1139.0</td>\n      <td>5820.0</td>\n      <td>5820.0</td>\n    </tr>\n    <tr>\n      <th>106</th>\n      <td>N1-68</td>\n      <td>GundumGundum Z1504 - Whykong Z1133</td>\n      <td>LRP420</td>\n      <td>900</td>\n      <td>416.044</td>\n      <td>LRP433</td>\n      <td>521</td>\n      <td>428.908</td>\n      <td>12.864</td>\n      <td>24.0</td>\n      <td>...</td>\n      <td>142.0</td>\n      <td>2476.0</td>\n      <td>419.0</td>\n      <td>97.0</td>\n      <td>1042.0</td>\n      <td>0.0</td>\n      <td>4681.0</td>\n      <td>1139.0</td>\n      <td>5820.0</td>\n      <td>5820.0</td>\n    </tr>\n    <tr>\n      <th>107</th>\n      <td>N1-69</td>\n      <td>Whykong Z1133 - Teknaf</td>\n      <td>LRP433</td>\n      <td>521</td>\n      <td>428.908</td>\n      <td>LRP467</td>\n      <td>130</td>\n      <td>462.254</td>\n      <td>33.346</td>\n      <td>24.0</td>\n      <td>...</td>\n      <td>142.0</td>\n      <td>2476.0</td>\n      <td>419.0</td>\n      <td>97.0</td>\n      <td>1042.0</td>\n      <td>0.0</td>\n      <td>4681.0</td>\n      <td>1139.0</td>\n      <td>5820.0</td>\n      <td>5820.0</td>\n    </tr>\n  </tbody>\n</table>\n<p>108 rows × 26 columns</p>\n</div>"
     },
     "execution_count": 32,
     "metadata": {},
     "output_type": "execute_result"
    }
   ],
   "source": [
    "df_traffic[4]"
   ],
   "metadata": {
    "collapsed": false,
    "ExecuteTime": {
     "end_time": "2024-03-26T15:01:47.805018Z",
     "start_time": "2024-03-26T15:01:47.775016Z"
    }
   },
   "id": "1b9789d124a57184",
   "execution_count": 32
  },
  {
   "cell_type": "code",
   "outputs": [
    {
     "data": {
      "text/plain": "5"
     },
     "execution_count": 33,
     "metadata": {},
     "output_type": "execute_result"
    }
   ],
   "source": [
    "len(df_traffic)"
   ],
   "metadata": {
    "collapsed": false,
    "ExecuteTime": {
     "end_time": "2024-03-26T15:02:30.345750Z",
     "start_time": "2024-03-26T15:02:30.333825Z"
    }
   },
   "id": "56b7365acab6cdfb",
   "execution_count": 33
  },
  {
   "cell_type": "code",
   "outputs": [],
   "source": [
    "df_traffic_lines = df_traffic[4]"
   ],
   "metadata": {
    "collapsed": false,
    "ExecuteTime": {
     "end_time": "2024-03-26T15:03:42.459668Z",
     "start_time": "2024-03-26T15:03:42.455546Z"
    }
   },
   "id": "32d960945b7c03d5",
   "execution_count": 34
  },
  {
   "cell_type": "code",
   "outputs": [
    {
     "name": "stdout",
     "output_type": "stream",
     "text": [
      "<class 'pandas.core.frame.DataFrame'>\n",
      "RangeIndex: 108 entries, 0 to 107\n",
      "Data columns (total 26 columns):\n",
      " #   Column  Non-Null Count  Dtype \n",
      "---  ------  --------------  ----- \n",
      " 0   0       107 non-null    object\n",
      " 1   1       107 non-null    object\n",
      " 2   2       108 non-null    object\n",
      " 3   3       108 non-null    object\n",
      " 4   4       108 non-null    object\n",
      " 5   5       108 non-null    object\n",
      " 6   6       108 non-null    object\n",
      " 7   7       108 non-null    object\n",
      " 8   8       108 non-null    object\n",
      " 9   9       108 non-null    object\n",
      " 10  10      108 non-null    object\n",
      " 11  11      108 non-null    object\n",
      " 12  12      108 non-null    object\n",
      " 13  13      108 non-null    object\n",
      " 14  14      108 non-null    object\n",
      " 15  15      108 non-null    object\n",
      " 16  16      108 non-null    object\n",
      " 17  17      108 non-null    object\n",
      " 18  18      108 non-null    object\n",
      " 19  19      108 non-null    object\n",
      " 20  20      108 non-null    object\n",
      " 21  21      108 non-null    object\n",
      " 22  22      108 non-null    object\n",
      " 23  23      108 non-null    object\n",
      " 24  24      108 non-null    object\n",
      " 25  25      108 non-null    object\n",
      "dtypes: object(26)\n",
      "memory usage: 22.1+ KB\n"
     ]
    }
   ],
   "source": [
    "df_traffic_lines.info()"
   ],
   "metadata": {
    "collapsed": false,
    "ExecuteTime": {
     "end_time": "2024-03-26T15:03:47.117698Z",
     "start_time": "2024-03-26T15:03:46.988454Z"
    }
   },
   "id": "295a07dbf8930856",
   "execution_count": 35
  },
  {
   "cell_type": "code",
   "outputs": [
    {
     "data": {
      "text/plain": "                                          0   \\\n0   List of links of N1 (  what is a link  )   \n1                                    Link no   \n2                                        NaN   \n3                                      N1-1L   \n4                                      N1-1R   \n5                                      N1-2L   \n6                                      N1-2R   \n7                                      N1-3L   \n8                                      N1-3R   \n9                                      N1-4L   \n10                                     N1-4R   \n11                                     N1-5L   \n12                                     N1-5R   \n13                                     N1-6L   \n14                                     N1-6R   \n15                                     N1-7L   \n16                                     N1-7R   \n17                                     N1-8L   \n18                                     N1-8R   \n19                                     N1-9L   \n\n                                                   1   \\\n0            List of links of N1 (  what is a link  )   \n1                                                Name   \n2                                                 NaN   \n3            Jatrabari - Int.with Z1101 (Left) (Left)   \n4           Jatrabari - Int.with Z1101 (Left) (Right)   \n5       Int.with Z1101 - Signboard (Left) R111 (Left)   \n6      Int.with Z1101 - Signboard (Left) R111 (Right)   \n7              Signboard - Shimrail (Left)R110 (Left)   \n8             Signboard - Shimrail (Left)R110 (Right)   \n9                 Shimrail - Katchpur (Left)N2 (Left)   \n10               Shimrail - Katchpur (Left)N2 (Right)   \n11              Katchpur - Madanpur (Left)N105 (Left)   \n12             Katchpur - Madanpur (Left)N105 (Right)   \n13           Madanpur - Langalband (Left)Z1061 (Left)   \n14          Madanpur - Langalband (Left)Z1061 (Right)   \n15  Langalband - Mograpara Chowrasta (Left)Z1089 (...   \n16  Langalband - Mograpara Chowrasta (Left)Z1089 (...   \n17  Mograpara(Int.with Z1089)-Meghna Bridge West E...   \n18  Mograpara(Int.with Z1089)-Meghna Bridge West E...   \n19  Meghna Bridge Satrt-Bhaberchar (Left) z1063 (L...   \n\n                                          2   \\\n0   List of links of N1 (  what is a link  )   \n1                             Start location   \n2                                        LRP   \n3                                       LRPS   \n4                                       LRPS   \n5                                       LRPS   \n6                                       LRPS   \n7                                       LRPS   \n8                                       LRPS   \n9                                       LRPS   \n10                                      LRPS   \n11                                    LRP009   \n12                                    LRP009   \n13                                    LRP012   \n14                                    LRP012   \n15                                    LRP013   \n16                                    LRP013   \n17                                    LRP013   \n18                                    LRP013   \n19                                    LRP022   \n\n                                          3   \\\n0   List of links of N1 (  what is a link  )   \n1                             Start location   \n2                                     Offset   \n3                                          0   \n4                                          0   \n5                                        822   \n6                                        822   \n7                                       4175   \n8                                       4175   \n9                                       7181   \n10                                      7181   \n11                                       260   \n12                                       260   \n13                                       439   \n14                                       439   \n15                                      3411   \n16                                      3411   \n17                                      7520   \n18                                      7520   \n19                                      1935   \n\n                                          4   \\\n0   List of links of N1 (  what is a link  )   \n1                             Start location   \n2                                   Chainage   \n3                                          0   \n4                                          0   \n5                                      0.822   \n6                                      0.822   \n7                                      4.175   \n8                                      4.175   \n9                                      7.181   \n10                                     7.181   \n11                                     8.763   \n12                                     8.763   \n13                                    11.936   \n14                                    11.936   \n15                                    15.935   \n16                                    15.935   \n17                                    20.044   \n18                                    20.044   \n19                                    23.564   \n\n                                          5   \\\n0   List of links of N1 (  what is a link  )   \n1                               End location   \n2                                        LRP   \n3                                       LRPS   \n4                                       LRPS   \n5                                       LRPS   \n6                                       LRPS   \n7                                       LRPS   \n8                                       LRPS   \n9                                     LRP009   \n10                                    LRP009   \n11                                    LRP012   \n12                                    LRP012   \n13                                    LRP013   \n14                                    LRP013   \n15                                    LRP013   \n16                                    LRP013   \n17                                    LRP022   \n18                                    LRP022   \n19                                    LRP031   \n\n                                          6   \\\n0   List of links of N1 (  what is a link  )   \n1                               End location   \n2                                     Offset   \n3                                        822   \n4                                        822   \n5                                       4175   \n6                                       4175   \n7                                       7181   \n8                                       7181   \n9                                        260   \n10                                       260   \n11                                       439   \n12                                       439   \n13                                      3411   \n14                                      3411   \n15                                      7520   \n16                                      7520   \n17                                      1935   \n18                                      1935   \n19                                       162   \n\n                                          7   \\\n0   List of links of N1 (  what is a link  )   \n1                               End location   \n2                                   Chainage   \n3                                      0.822   \n4                                      0.822   \n5                                      4.175   \n6                                      4.175   \n7                                      7.181   \n8                                      7.181   \n9                                      8.763   \n10                                     8.763   \n11                                    11.936   \n12                                    11.936   \n13                                    15.935   \n14                                    15.935   \n15                                    20.044   \n16                                    20.044   \n17                                    23.564   \n18                                    23.564   \n19                                    30.936   \n\n                                          8   \\\n0   List of links of N1 (  what is a link  )   \n1                                     Length   \n2                                       (Km)   \n3                                      0.822   \n4                                      0.822   \n5                                      3.353   \n6                                      3.353   \n7                                      3.006   \n8                                      3.006   \n9                                      1.582   \n10                                     1.582   \n11                                     3.173   \n12                                     3.173   \n13                                     3.999   \n14                                     3.999   \n15                                     4.109   \n16                                     4.109   \n17                                     3.520   \n18                                     3.520   \n19                                     7.372   \n\n                                          9   ...  \\\n0   List of links of N1 (  what is a link  )  ...   \n1                               Traffic Data  ...   \n2                                Heavy Truck  ...   \n3                                      402.0  ...   \n4                                      660.0  ...   \n5                                      660.0  ...   \n6                                      402.0  ...   \n7                                       91.0  ...   \n8                                       85.0  ...   \n9                                      174.0  ...   \n10                                     153.0  ...   \n11                                     174.0  ...   \n12                                     153.0  ...   \n13                                     153.0  ...   \n14                                     174.0  ...   \n15                                     153.0  ...   \n16                                     174.0  ...   \n17                                     355.0  ...   \n18                                     244.0  ...   \n19                                     244.0  ...   \n\n                                          16  \\\n0   List of links of N1 (  what is a link  )   \n1                               Traffic Data   \n2                                        Car   \n3                                     1851.0   \n4                                     2608.0   \n5                                     2608.0   \n6                                     1851.0   \n7                                     1690.0   \n8                                     1609.0   \n9                                     1579.0   \n10                                    1948.0   \n11                                    1579.0   \n12                                    2105.0   \n13                                    2105.0   \n14                                    1579.0   \n15                                    2105.0   \n16                                    1579.0   \n17                                    2137.0   \n18                                    1961.0   \n19                                    1961.0   \n\n                                          17  \\\n0   List of links of N1 (  what is a link  )   \n1                               Traffic Data   \n2                              Auto Rickshaw   \n3                                     2980.0   \n4                                     2508.0   \n5                                     2508.0   \n6                                     2980.0   \n7                                     2266.0   \n8                                     2157.0   \n9                                     3154.0   \n10                                    2693.0   \n11                                    3154.0   \n12                                    3080.0   \n13                                    3080.0   \n14                                    3154.0   \n15                                    3080.0   \n16                                    3154.0   \n17                                    1364.0   \n18                                    1120.0   \n19                                    1120.0   \n\n                                          18  \\\n0   List of links of N1 (  what is a link  )   \n1                               Traffic Data   \n2                                Motor Cycle   \n3                                      398.0   \n4                                      436.0   \n5                                      436.0   \n6                                      398.0   \n7                                     1087.0   \n8                                     1035.0   \n9                                     1162.0   \n10                                    1143.0   \n11                                    1154.0   \n12                                    1143.0   \n13                                    1143.0   \n14                                    1154.0   \n15                                    1143.0   \n16                                    1154.0   \n17                                     110.0   \n18                                     314.0   \n19                                     314.0   \n\n                                          19  \\\n0   List of links of N1 (  what is a link  )   \n1                               Traffic Data   \n2                                   Bi-Cycle   \n3                                      232.0   \n4                                      213.0   \n5                                      213.0   \n6                                      232.0   \n7                                       75.0   \n8                                       72.0   \n9                                      211.0   \n10                                     517.0   \n11                                     211.0   \n12                                     517.0   \n13                                     517.0   \n14                                     211.0   \n15                                     517.0   \n16                                     211.0   \n17                                      37.0   \n18                                      31.0   \n19                                      31.0   \n\n                                          20  \\\n0   List of links of N1 (  what is a link  )   \n1                               Traffic Data   \n2                             Cycle Rickshaw   \n3                                      889.0   \n4                                     1088.0   \n5                                     1088.0   \n6                                      889.0   \n7                                     1198.0   \n8                                     1140.0   \n9                                     1077.0   \n10                                    1531.0   \n11                                    1077.0   \n12                                    1531.0   \n13                                    1531.0   \n14                                    1077.0   \n15                                    1531.0   \n16                                    1077.0   \n17                                     196.0   \n18                                     131.0   \n19                                     131.0   \n\n                                          21  \\\n0   List of links of N1 (  what is a link  )   \n1                               Traffic Data   \n2                                       Cart   \n3                                        0.0   \n4                                        0.0   \n5                                        0.0   \n6                                        0.0   \n7                                        0.0   \n8                                        0.0   \n9                                        0.0   \n10                                       0.0   \n11                                       0.0   \n12                                       0.0   \n13                                       0.0   \n14                                       0.0   \n15                                       0.0   \n16                                       0.0   \n17                                       0.0   \n18                                       0.0   \n19                                       0.0   \n\n                                          22  \\\n0   List of links of N1 (  what is a link  )   \n1                                      Total   \n2                                  Motorized   \n3                                    18236.0   \n4                                    20236.0   \n5                                    20236.0   \n6                                    18236.0   \n7                                    16288.0   \n8                                    15445.0   \n9                                    16001.0   \n10                                   15996.0   \n11                                   22591.0   \n12                                   22541.0   \n13                                   22541.0   \n14                                   22591.0   \n15                                   22541.0   \n16                                   22591.0   \n17                                   14589.0   \n18                                   14389.0   \n19                                   14389.0   \n\n                                          23  \\\n0   List of links of N1 (  what is a link  )   \n1                                      Total   \n2                              Non Motorized   \n3                                     1121.0   \n4                                     1301.0   \n5                                     1301.0   \n6                                     1121.0   \n7                                     1273.0   \n8                                     1212.0   \n9                                     1288.0   \n10                                    2048.0   \n11                                    1288.0   \n12                                    2048.0   \n13                                    2048.0   \n14                                    1288.0   \n15                                    2048.0   \n16                                    1288.0   \n17                                     233.0   \n18                                     162.0   \n19                                     162.0   \n\n                                          24  \\\n0   List of links of N1 (  what is a link  )   \n1                                      Total   \n2                                 Total AADT   \n3                                    19357.0   \n4                                    21537.0   \n5                                    21537.0   \n6                                    19357.0   \n7                                    17561.0   \n8                                    16657.0   \n9                                    17289.0   \n10                                   18044.0   \n11                                   23879.0   \n12                                   24589.0   \n13                                   24589.0   \n14                                   23879.0   \n15                                   24589.0   \n16                                   23879.0   \n17                                   14822.0   \n18                                   14551.0   \n19                                   14551.0   \n\n                                          25  \n0   List of links of N1 (  what is a link  )  \n1                                    Traffic  \n2                                     (AADT)  \n3                                    19357.0  \n4                                    21537.0  \n5                                    21537.0  \n6                                    19357.0  \n7                                    17561.0  \n8                                    16657.0  \n9                                    17289.0  \n10                                   18044.0  \n11                                   23879.0  \n12                                   24589.0  \n13                                   24589.0  \n14                                   23879.0  \n15                                   24589.0  \n16                                   23879.0  \n17                                   14822.0  \n18                                   14551.0  \n19                                   14551.0  \n\n[20 rows x 26 columns]",
      "text/html": "<div>\n<style scoped>\n    .dataframe tbody tr th:only-of-type {\n        vertical-align: middle;\n    }\n\n    .dataframe tbody tr th {\n        vertical-align: top;\n    }\n\n    .dataframe thead th {\n        text-align: right;\n    }\n</style>\n<table border=\"1\" class=\"dataframe\">\n  <thead>\n    <tr style=\"text-align: right;\">\n      <th></th>\n      <th>0</th>\n      <th>1</th>\n      <th>2</th>\n      <th>3</th>\n      <th>4</th>\n      <th>5</th>\n      <th>6</th>\n      <th>7</th>\n      <th>8</th>\n      <th>9</th>\n      <th>...</th>\n      <th>16</th>\n      <th>17</th>\n      <th>18</th>\n      <th>19</th>\n      <th>20</th>\n      <th>21</th>\n      <th>22</th>\n      <th>23</th>\n      <th>24</th>\n      <th>25</th>\n    </tr>\n  </thead>\n  <tbody>\n    <tr>\n      <th>0</th>\n      <td>List of links of N1 (  what is a link  )</td>\n      <td>List of links of N1 (  what is a link  )</td>\n      <td>List of links of N1 (  what is a link  )</td>\n      <td>List of links of N1 (  what is a link  )</td>\n      <td>List of links of N1 (  what is a link  )</td>\n      <td>List of links of N1 (  what is a link  )</td>\n      <td>List of links of N1 (  what is a link  )</td>\n      <td>List of links of N1 (  what is a link  )</td>\n      <td>List of links of N1 (  what is a link  )</td>\n      <td>List of links of N1 (  what is a link  )</td>\n      <td>...</td>\n      <td>List of links of N1 (  what is a link  )</td>\n      <td>List of links of N1 (  what is a link  )</td>\n      <td>List of links of N1 (  what is a link  )</td>\n      <td>List of links of N1 (  what is a link  )</td>\n      <td>List of links of N1 (  what is a link  )</td>\n      <td>List of links of N1 (  what is a link  )</td>\n      <td>List of links of N1 (  what is a link  )</td>\n      <td>List of links of N1 (  what is a link  )</td>\n      <td>List of links of N1 (  what is a link  )</td>\n      <td>List of links of N1 (  what is a link  )</td>\n    </tr>\n    <tr>\n      <th>1</th>\n      <td>Link no</td>\n      <td>Name</td>\n      <td>Start location</td>\n      <td>Start location</td>\n      <td>Start location</td>\n      <td>End location</td>\n      <td>End location</td>\n      <td>End location</td>\n      <td>Length</td>\n      <td>Traffic Data</td>\n      <td>...</td>\n      <td>Traffic Data</td>\n      <td>Traffic Data</td>\n      <td>Traffic Data</td>\n      <td>Traffic Data</td>\n      <td>Traffic Data</td>\n      <td>Traffic Data</td>\n      <td>Total</td>\n      <td>Total</td>\n      <td>Total</td>\n      <td>Traffic</td>\n    </tr>\n    <tr>\n      <th>2</th>\n      <td>NaN</td>\n      <td>NaN</td>\n      <td>LRP</td>\n      <td>Offset</td>\n      <td>Chainage</td>\n      <td>LRP</td>\n      <td>Offset</td>\n      <td>Chainage</td>\n      <td>(Km)</td>\n      <td>Heavy Truck</td>\n      <td>...</td>\n      <td>Car</td>\n      <td>Auto Rickshaw</td>\n      <td>Motor Cycle</td>\n      <td>Bi-Cycle</td>\n      <td>Cycle Rickshaw</td>\n      <td>Cart</td>\n      <td>Motorized</td>\n      <td>Non Motorized</td>\n      <td>Total AADT</td>\n      <td>(AADT)</td>\n    </tr>\n    <tr>\n      <th>3</th>\n      <td>N1-1L</td>\n      <td>Jatrabari - Int.with Z1101 (Left) (Left)</td>\n      <td>LRPS</td>\n      <td>0</td>\n      <td>0</td>\n      <td>LRPS</td>\n      <td>822</td>\n      <td>0.822</td>\n      <td>0.822</td>\n      <td>402.0</td>\n      <td>...</td>\n      <td>1851.0</td>\n      <td>2980.0</td>\n      <td>398.0</td>\n      <td>232.0</td>\n      <td>889.0</td>\n      <td>0.0</td>\n      <td>18236.0</td>\n      <td>1121.0</td>\n      <td>19357.0</td>\n      <td>19357.0</td>\n    </tr>\n    <tr>\n      <th>4</th>\n      <td>N1-1R</td>\n      <td>Jatrabari - Int.with Z1101 (Left) (Right)</td>\n      <td>LRPS</td>\n      <td>0</td>\n      <td>0</td>\n      <td>LRPS</td>\n      <td>822</td>\n      <td>0.822</td>\n      <td>0.822</td>\n      <td>660.0</td>\n      <td>...</td>\n      <td>2608.0</td>\n      <td>2508.0</td>\n      <td>436.0</td>\n      <td>213.0</td>\n      <td>1088.0</td>\n      <td>0.0</td>\n      <td>20236.0</td>\n      <td>1301.0</td>\n      <td>21537.0</td>\n      <td>21537.0</td>\n    </tr>\n    <tr>\n      <th>5</th>\n      <td>N1-2L</td>\n      <td>Int.with Z1101 - Signboard (Left) R111 (Left)</td>\n      <td>LRPS</td>\n      <td>822</td>\n      <td>0.822</td>\n      <td>LRPS</td>\n      <td>4175</td>\n      <td>4.175</td>\n      <td>3.353</td>\n      <td>660.0</td>\n      <td>...</td>\n      <td>2608.0</td>\n      <td>2508.0</td>\n      <td>436.0</td>\n      <td>213.0</td>\n      <td>1088.0</td>\n      <td>0.0</td>\n      <td>20236.0</td>\n      <td>1301.0</td>\n      <td>21537.0</td>\n      <td>21537.0</td>\n    </tr>\n    <tr>\n      <th>6</th>\n      <td>N1-2R</td>\n      <td>Int.with Z1101 - Signboard (Left) R111 (Right)</td>\n      <td>LRPS</td>\n      <td>822</td>\n      <td>0.822</td>\n      <td>LRPS</td>\n      <td>4175</td>\n      <td>4.175</td>\n      <td>3.353</td>\n      <td>402.0</td>\n      <td>...</td>\n      <td>1851.0</td>\n      <td>2980.0</td>\n      <td>398.0</td>\n      <td>232.0</td>\n      <td>889.0</td>\n      <td>0.0</td>\n      <td>18236.0</td>\n      <td>1121.0</td>\n      <td>19357.0</td>\n      <td>19357.0</td>\n    </tr>\n    <tr>\n      <th>7</th>\n      <td>N1-3L</td>\n      <td>Signboard - Shimrail (Left)R110 (Left)</td>\n      <td>LRPS</td>\n      <td>4175</td>\n      <td>4.175</td>\n      <td>LRPS</td>\n      <td>7181</td>\n      <td>7.181</td>\n      <td>3.006</td>\n      <td>91.0</td>\n      <td>...</td>\n      <td>1690.0</td>\n      <td>2266.0</td>\n      <td>1087.0</td>\n      <td>75.0</td>\n      <td>1198.0</td>\n      <td>0.0</td>\n      <td>16288.0</td>\n      <td>1273.0</td>\n      <td>17561.0</td>\n      <td>17561.0</td>\n    </tr>\n    <tr>\n      <th>8</th>\n      <td>N1-3R</td>\n      <td>Signboard - Shimrail (Left)R110 (Right)</td>\n      <td>LRPS</td>\n      <td>4175</td>\n      <td>4.175</td>\n      <td>LRPS</td>\n      <td>7181</td>\n      <td>7.181</td>\n      <td>3.006</td>\n      <td>85.0</td>\n      <td>...</td>\n      <td>1609.0</td>\n      <td>2157.0</td>\n      <td>1035.0</td>\n      <td>72.0</td>\n      <td>1140.0</td>\n      <td>0.0</td>\n      <td>15445.0</td>\n      <td>1212.0</td>\n      <td>16657.0</td>\n      <td>16657.0</td>\n    </tr>\n    <tr>\n      <th>9</th>\n      <td>N1-4L</td>\n      <td>Shimrail - Katchpur (Left)N2 (Left)</td>\n      <td>LRPS</td>\n      <td>7181</td>\n      <td>7.181</td>\n      <td>LRP009</td>\n      <td>260</td>\n      <td>8.763</td>\n      <td>1.582</td>\n      <td>174.0</td>\n      <td>...</td>\n      <td>1579.0</td>\n      <td>3154.0</td>\n      <td>1162.0</td>\n      <td>211.0</td>\n      <td>1077.0</td>\n      <td>0.0</td>\n      <td>16001.0</td>\n      <td>1288.0</td>\n      <td>17289.0</td>\n      <td>17289.0</td>\n    </tr>\n    <tr>\n      <th>10</th>\n      <td>N1-4R</td>\n      <td>Shimrail - Katchpur (Left)N2 (Right)</td>\n      <td>LRPS</td>\n      <td>7181</td>\n      <td>7.181</td>\n      <td>LRP009</td>\n      <td>260</td>\n      <td>8.763</td>\n      <td>1.582</td>\n      <td>153.0</td>\n      <td>...</td>\n      <td>1948.0</td>\n      <td>2693.0</td>\n      <td>1143.0</td>\n      <td>517.0</td>\n      <td>1531.0</td>\n      <td>0.0</td>\n      <td>15996.0</td>\n      <td>2048.0</td>\n      <td>18044.0</td>\n      <td>18044.0</td>\n    </tr>\n    <tr>\n      <th>11</th>\n      <td>N1-5L</td>\n      <td>Katchpur - Madanpur (Left)N105 (Left)</td>\n      <td>LRP009</td>\n      <td>260</td>\n      <td>8.763</td>\n      <td>LRP012</td>\n      <td>439</td>\n      <td>11.936</td>\n      <td>3.173</td>\n      <td>174.0</td>\n      <td>...</td>\n      <td>1579.0</td>\n      <td>3154.0</td>\n      <td>1154.0</td>\n      <td>211.0</td>\n      <td>1077.0</td>\n      <td>0.0</td>\n      <td>22591.0</td>\n      <td>1288.0</td>\n      <td>23879.0</td>\n      <td>23879.0</td>\n    </tr>\n    <tr>\n      <th>12</th>\n      <td>N1-5R</td>\n      <td>Katchpur - Madanpur (Left)N105 (Right)</td>\n      <td>LRP009</td>\n      <td>260</td>\n      <td>8.763</td>\n      <td>LRP012</td>\n      <td>439</td>\n      <td>11.936</td>\n      <td>3.173</td>\n      <td>153.0</td>\n      <td>...</td>\n      <td>2105.0</td>\n      <td>3080.0</td>\n      <td>1143.0</td>\n      <td>517.0</td>\n      <td>1531.0</td>\n      <td>0.0</td>\n      <td>22541.0</td>\n      <td>2048.0</td>\n      <td>24589.0</td>\n      <td>24589.0</td>\n    </tr>\n    <tr>\n      <th>13</th>\n      <td>N1-6L</td>\n      <td>Madanpur - Langalband (Left)Z1061 (Left)</td>\n      <td>LRP012</td>\n      <td>439</td>\n      <td>11.936</td>\n      <td>LRP013</td>\n      <td>3411</td>\n      <td>15.935</td>\n      <td>3.999</td>\n      <td>153.0</td>\n      <td>...</td>\n      <td>2105.0</td>\n      <td>3080.0</td>\n      <td>1143.0</td>\n      <td>517.0</td>\n      <td>1531.0</td>\n      <td>0.0</td>\n      <td>22541.0</td>\n      <td>2048.0</td>\n      <td>24589.0</td>\n      <td>24589.0</td>\n    </tr>\n    <tr>\n      <th>14</th>\n      <td>N1-6R</td>\n      <td>Madanpur - Langalband (Left)Z1061 (Right)</td>\n      <td>LRP012</td>\n      <td>439</td>\n      <td>11.936</td>\n      <td>LRP013</td>\n      <td>3411</td>\n      <td>15.935</td>\n      <td>3.999</td>\n      <td>174.0</td>\n      <td>...</td>\n      <td>1579.0</td>\n      <td>3154.0</td>\n      <td>1154.0</td>\n      <td>211.0</td>\n      <td>1077.0</td>\n      <td>0.0</td>\n      <td>22591.0</td>\n      <td>1288.0</td>\n      <td>23879.0</td>\n      <td>23879.0</td>\n    </tr>\n    <tr>\n      <th>15</th>\n      <td>N1-7L</td>\n      <td>Langalband - Mograpara Chowrasta (Left)Z1089 (...</td>\n      <td>LRP013</td>\n      <td>3411</td>\n      <td>15.935</td>\n      <td>LRP013</td>\n      <td>7520</td>\n      <td>20.044</td>\n      <td>4.109</td>\n      <td>153.0</td>\n      <td>...</td>\n      <td>2105.0</td>\n      <td>3080.0</td>\n      <td>1143.0</td>\n      <td>517.0</td>\n      <td>1531.0</td>\n      <td>0.0</td>\n      <td>22541.0</td>\n      <td>2048.0</td>\n      <td>24589.0</td>\n      <td>24589.0</td>\n    </tr>\n    <tr>\n      <th>16</th>\n      <td>N1-7R</td>\n      <td>Langalband - Mograpara Chowrasta (Left)Z1089 (...</td>\n      <td>LRP013</td>\n      <td>3411</td>\n      <td>15.935</td>\n      <td>LRP013</td>\n      <td>7520</td>\n      <td>20.044</td>\n      <td>4.109</td>\n      <td>174.0</td>\n      <td>...</td>\n      <td>1579.0</td>\n      <td>3154.0</td>\n      <td>1154.0</td>\n      <td>211.0</td>\n      <td>1077.0</td>\n      <td>0.0</td>\n      <td>22591.0</td>\n      <td>1288.0</td>\n      <td>23879.0</td>\n      <td>23879.0</td>\n    </tr>\n    <tr>\n      <th>17</th>\n      <td>N1-8L</td>\n      <td>Mograpara(Int.with Z1089)-Meghna Bridge West E...</td>\n      <td>LRP013</td>\n      <td>7520</td>\n      <td>20.044</td>\n      <td>LRP022</td>\n      <td>1935</td>\n      <td>23.564</td>\n      <td>3.520</td>\n      <td>355.0</td>\n      <td>...</td>\n      <td>2137.0</td>\n      <td>1364.0</td>\n      <td>110.0</td>\n      <td>37.0</td>\n      <td>196.0</td>\n      <td>0.0</td>\n      <td>14589.0</td>\n      <td>233.0</td>\n      <td>14822.0</td>\n      <td>14822.0</td>\n    </tr>\n    <tr>\n      <th>18</th>\n      <td>N1-8R</td>\n      <td>Mograpara(Int.with Z1089)-Meghna Bridge West E...</td>\n      <td>LRP013</td>\n      <td>7520</td>\n      <td>20.044</td>\n      <td>LRP022</td>\n      <td>1935</td>\n      <td>23.564</td>\n      <td>3.520</td>\n      <td>244.0</td>\n      <td>...</td>\n      <td>1961.0</td>\n      <td>1120.0</td>\n      <td>314.0</td>\n      <td>31.0</td>\n      <td>131.0</td>\n      <td>0.0</td>\n      <td>14389.0</td>\n      <td>162.0</td>\n      <td>14551.0</td>\n      <td>14551.0</td>\n    </tr>\n    <tr>\n      <th>19</th>\n      <td>N1-9L</td>\n      <td>Meghna Bridge Satrt-Bhaberchar (Left) z1063 (L...</td>\n      <td>LRP022</td>\n      <td>1935</td>\n      <td>23.564</td>\n      <td>LRP031</td>\n      <td>162</td>\n      <td>30.936</td>\n      <td>7.372</td>\n      <td>244.0</td>\n      <td>...</td>\n      <td>1961.0</td>\n      <td>1120.0</td>\n      <td>314.0</td>\n      <td>31.0</td>\n      <td>131.0</td>\n      <td>0.0</td>\n      <td>14389.0</td>\n      <td>162.0</td>\n      <td>14551.0</td>\n      <td>14551.0</td>\n    </tr>\n  </tbody>\n</table>\n<p>20 rows × 26 columns</p>\n</div>"
     },
     "execution_count": 37,
     "metadata": {},
     "output_type": "execute_result"
    }
   ],
   "source": [
    "df_traffic_lines.head(20)"
   ],
   "metadata": {
    "collapsed": false,
    "ExecuteTime": {
     "end_time": "2024-03-26T15:04:02.624895Z",
     "start_time": "2024-03-26T15:04:02.593632Z"
    }
   },
   "id": "2497a426fce9f038",
   "execution_count": 37
  },
  {
   "cell_type": "code",
   "outputs": [],
   "source": [],
   "metadata": {
    "collapsed": false
   },
   "id": "47fe22bccf2111d8"
  }
 ],
 "metadata": {
  "kernelspec": {
   "display_name": "Python 3",
   "language": "python",
   "name": "python3"
  },
  "language_info": {
   "codemirror_mode": {
    "name": "ipython",
    "version": 2
   },
   "file_extension": ".py",
   "mimetype": "text/x-python",
   "name": "python",
   "nbconvert_exporter": "python",
   "pygments_lexer": "ipython2",
   "version": "2.7.6"
  }
 },
 "nbformat": 4,
 "nbformat_minor": 5
}
