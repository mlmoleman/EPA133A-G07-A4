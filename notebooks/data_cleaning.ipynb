{
 "cells": [
  {
   "cell_type": "markdown",
   "source": [
    "# Bangladesh Network Analysis"
   ],
   "metadata": {
    "collapsed": false
   },
   "id": "44c354576f84a51c"
  },
  {
   "cell_type": "markdown",
   "source": [
    "## Data cleaning"
   ],
   "metadata": {
    "collapsed": false
   },
   "id": "93e2ae47ea33b197"
  },
  {
   "cell_type": "code",
   "outputs": [],
   "source": [
    "# import libraries\n",
    "import pandas as pd\n",
    "from bs4 import BeautifulSoup"
   ],
   "metadata": {
    "collapsed": false,
    "ExecuteTime": {
     "end_time": "2024-03-26T14:29:37.216477Z",
     "start_time": "2024-03-26T14:29:37.212754Z"
    }
   },
   "id": "a9564427b338be25",
   "execution_count": 15
  },
  {
   "cell_type": "code",
   "outputs": [
    {
     "name": "stdout",
     "output_type": "stream",
     "text": [
      "Requirement already satisfied: lxml in /Users/milanmoleman/Desktop/EPA133A-G07-A4/venv/lib/python3.11/site-packages (5.1.0)\r\n",
      "\r\n",
      "\u001B[1m[\u001B[0m\u001B[34;49mnotice\u001B[0m\u001B[1;39;49m]\u001B[0m\u001B[39;49m A new release of pip is available: \u001B[0m\u001B[31;49m23.2.1\u001B[0m\u001B[39;49m -> \u001B[0m\u001B[32;49m24.0\u001B[0m\r\n",
      "\u001B[1m[\u001B[0m\u001B[34;49mnotice\u001B[0m\u001B[1;39;49m]\u001B[0m\u001B[39;49m To update, run: \u001B[0m\u001B[32;49mpip install --upgrade pip\u001B[0m\r\n",
      "Note: you may need to restart the kernel to use updated packages.\n"
     ]
    }
   ],
   "source": [
    "pip install lxml"
   ],
   "metadata": {
    "collapsed": false,
    "ExecuteTime": {
     "end_time": "2024-03-26T14:31:30.482092Z",
     "start_time": "2024-03-26T14:31:27.413346Z"
    }
   },
   "id": "b174df2480107e51",
   "execution_count": 18
  },
  {
   "cell_type": "code",
   "outputs": [],
   "source": [
    "# import bridges data\n",
    "data_bridges = pd.read_excel('../data/bridges.xlsx')"
   ],
   "metadata": {
    "collapsed": false,
    "ExecuteTime": {
     "end_time": "2024-03-25T14:20:02.406092Z",
     "start_time": "2024-03-25T14:19:57.276469Z"
    }
   },
   "id": "12bfcb0af36c3cc8",
   "execution_count": 7
  },
  {
   "cell_type": "code",
   "outputs": [
    {
     "data": {
      "text/plain": "  road      km              type  LRPName               name  length  \\\n0   N1   1.800       Box Culvert  LRP001a                  .   11.30   \n1   N1   4.925       Box Culvert  LRP004b                  .    6.60   \n2   N1   8.976  PC Girder Bridge  LRP008b  Kanch pur Bridge.  394.23   \n3   N1  10.880       Box Culvert  LRP010b   NOYAPARA CULVERT    6.30   \n4   N1  10.897       Box Culvert  LRP010c     ADUPUR CULVERT    6.30   \n\n  condition  structureNr                                           roadName  \\\n0         A       117861  Dhaka (Jatrabari)-Comilla (Mainamati)-Chittago...   \n1         A       117862  Dhaka (Jatrabari)-Comilla (Mainamati)-Chittago...   \n2         A       119889  Dhaka (Jatrabari)-Comilla (Mainamati)-Chittago...   \n3         A       112531  Dhaka (Jatrabari)-Comilla (Mainamati)-Chittago...   \n4         A       112532  Dhaka (Jatrabari)-Comilla (Mainamati)-Chittago...   \n\n   chainage  width  constructionYear  spans   zone circle     division  \\\n0     1.800   19.5            2005.0    2.0  Dhaka  Dhaka  Narayanganj   \n1     4.925   35.4            2006.0    1.0  Dhaka  Dhaka  Narayanganj   \n2     8.976    NaN               NaN    NaN  Dhaka  Dhaka  Narayanganj   \n3    10.880   12.2            1992.0    2.0  Dhaka  Dhaka  Narayanganj   \n4    10.897   12.2            1984.0    2.0  Dhaka  Dhaka  Narayanganj   \n\n    sub-division        lat        lon EstimatedLoc  \n0  Narayanganj-1  23.698739  90.458861  interpolate  \n1  Narayanganj-1  23.694664  90.487775  interpolate  \n2  Narayanganj-1  23.705060  90.523214  interpolate  \n3      Vitikandi  23.694391  90.537574  interpolate  \n4      Vitikandi  23.694302  90.537707  interpolate  ",
      "text/html": "<div>\n<style scoped>\n    .dataframe tbody tr th:only-of-type {\n        vertical-align: middle;\n    }\n\n    .dataframe tbody tr th {\n        vertical-align: top;\n    }\n\n    .dataframe thead th {\n        text-align: right;\n    }\n</style>\n<table border=\"1\" class=\"dataframe\">\n  <thead>\n    <tr style=\"text-align: right;\">\n      <th></th>\n      <th>road</th>\n      <th>km</th>\n      <th>type</th>\n      <th>LRPName</th>\n      <th>name</th>\n      <th>length</th>\n      <th>condition</th>\n      <th>structureNr</th>\n      <th>roadName</th>\n      <th>chainage</th>\n      <th>width</th>\n      <th>constructionYear</th>\n      <th>spans</th>\n      <th>zone</th>\n      <th>circle</th>\n      <th>division</th>\n      <th>sub-division</th>\n      <th>lat</th>\n      <th>lon</th>\n      <th>EstimatedLoc</th>\n    </tr>\n  </thead>\n  <tbody>\n    <tr>\n      <th>0</th>\n      <td>N1</td>\n      <td>1.800</td>\n      <td>Box Culvert</td>\n      <td>LRP001a</td>\n      <td>.</td>\n      <td>11.30</td>\n      <td>A</td>\n      <td>117861</td>\n      <td>Dhaka (Jatrabari)-Comilla (Mainamati)-Chittago...</td>\n      <td>1.800</td>\n      <td>19.5</td>\n      <td>2005.0</td>\n      <td>2.0</td>\n      <td>Dhaka</td>\n      <td>Dhaka</td>\n      <td>Narayanganj</td>\n      <td>Narayanganj-1</td>\n      <td>23.698739</td>\n      <td>90.458861</td>\n      <td>interpolate</td>\n    </tr>\n    <tr>\n      <th>1</th>\n      <td>N1</td>\n      <td>4.925</td>\n      <td>Box Culvert</td>\n      <td>LRP004b</td>\n      <td>.</td>\n      <td>6.60</td>\n      <td>A</td>\n      <td>117862</td>\n      <td>Dhaka (Jatrabari)-Comilla (Mainamati)-Chittago...</td>\n      <td>4.925</td>\n      <td>35.4</td>\n      <td>2006.0</td>\n      <td>1.0</td>\n      <td>Dhaka</td>\n      <td>Dhaka</td>\n      <td>Narayanganj</td>\n      <td>Narayanganj-1</td>\n      <td>23.694664</td>\n      <td>90.487775</td>\n      <td>interpolate</td>\n    </tr>\n    <tr>\n      <th>2</th>\n      <td>N1</td>\n      <td>8.976</td>\n      <td>PC Girder Bridge</td>\n      <td>LRP008b</td>\n      <td>Kanch pur Bridge.</td>\n      <td>394.23</td>\n      <td>A</td>\n      <td>119889</td>\n      <td>Dhaka (Jatrabari)-Comilla (Mainamati)-Chittago...</td>\n      <td>8.976</td>\n      <td>NaN</td>\n      <td>NaN</td>\n      <td>NaN</td>\n      <td>Dhaka</td>\n      <td>Dhaka</td>\n      <td>Narayanganj</td>\n      <td>Narayanganj-1</td>\n      <td>23.705060</td>\n      <td>90.523214</td>\n      <td>interpolate</td>\n    </tr>\n    <tr>\n      <th>3</th>\n      <td>N1</td>\n      <td>10.880</td>\n      <td>Box Culvert</td>\n      <td>LRP010b</td>\n      <td>NOYAPARA CULVERT</td>\n      <td>6.30</td>\n      <td>A</td>\n      <td>112531</td>\n      <td>Dhaka (Jatrabari)-Comilla (Mainamati)-Chittago...</td>\n      <td>10.880</td>\n      <td>12.2</td>\n      <td>1992.0</td>\n      <td>2.0</td>\n      <td>Dhaka</td>\n      <td>Dhaka</td>\n      <td>Narayanganj</td>\n      <td>Vitikandi</td>\n      <td>23.694391</td>\n      <td>90.537574</td>\n      <td>interpolate</td>\n    </tr>\n    <tr>\n      <th>4</th>\n      <td>N1</td>\n      <td>10.897</td>\n      <td>Box Culvert</td>\n      <td>LRP010c</td>\n      <td>ADUPUR CULVERT</td>\n      <td>6.30</td>\n      <td>A</td>\n      <td>112532</td>\n      <td>Dhaka (Jatrabari)-Comilla (Mainamati)-Chittago...</td>\n      <td>10.897</td>\n      <td>12.2</td>\n      <td>1984.0</td>\n      <td>2.0</td>\n      <td>Dhaka</td>\n      <td>Dhaka</td>\n      <td>Narayanganj</td>\n      <td>Vitikandi</td>\n      <td>23.694302</td>\n      <td>90.537707</td>\n      <td>interpolate</td>\n    </tr>\n  </tbody>\n</table>\n</div>"
     },
     "execution_count": 8,
     "metadata": {},
     "output_type": "execute_result"
    }
   ],
   "source": [
    "data_bridges.head()"
   ],
   "metadata": {
    "collapsed": false,
    "ExecuteTime": {
     "end_time": "2024-03-25T14:20:58.717119Z",
     "start_time": "2024-03-25T14:20:58.672993Z"
    }
   },
   "id": "a91beaaf43ebd75c",
   "execution_count": 8
  },
  {
   "cell_type": "code",
   "outputs": [],
   "source": [
    "# import roads data\n",
    "data_roads = pd.read_csv('../data/roads.csv')"
   ],
   "metadata": {
    "collapsed": false,
    "ExecuteTime": {
     "end_time": "2024-03-25T14:21:11.850447Z",
     "start_time": "2024-03-25T14:21:11.759308Z"
    }
   },
   "id": "e82d2dda0db83be0",
   "execution_count": 11
  },
  {
   "cell_type": "code",
   "outputs": [
    {
     "data": {
      "text/plain": "  road  chainage     lrp        lat        lon  gap       type  \\\n0   N1     0.000    LRPS  23.706028  90.443333  NaN     Others   \n1   N1     0.814   LRPSa  23.702917  90.450417  NaN    Culvert   \n2   N1     0.822   LRPSb  23.702778  90.450472  NaN  CrossRoad   \n3   N1     1.000  LRP001  23.702139  90.451972  NaN     KmPost   \n4   N1     2.000  LRP002  23.697889  90.460583  NaN     KmPost   \n\n                                                name  \n0  Start of Road  after Jatrabari Flyover infront...  \n1                                        Box Culvert  \n2                            Intersection with Z1101  \n3                                    Km post missing  \n4                                    Km post missing  ",
      "text/html": "<div>\n<style scoped>\n    .dataframe tbody tr th:only-of-type {\n        vertical-align: middle;\n    }\n\n    .dataframe tbody tr th {\n        vertical-align: top;\n    }\n\n    .dataframe thead th {\n        text-align: right;\n    }\n</style>\n<table border=\"1\" class=\"dataframe\">\n  <thead>\n    <tr style=\"text-align: right;\">\n      <th></th>\n      <th>road</th>\n      <th>chainage</th>\n      <th>lrp</th>\n      <th>lat</th>\n      <th>lon</th>\n      <th>gap</th>\n      <th>type</th>\n      <th>name</th>\n    </tr>\n  </thead>\n  <tbody>\n    <tr>\n      <th>0</th>\n      <td>N1</td>\n      <td>0.000</td>\n      <td>LRPS</td>\n      <td>23.706028</td>\n      <td>90.443333</td>\n      <td>NaN</td>\n      <td>Others</td>\n      <td>Start of Road  after Jatrabari Flyover infront...</td>\n    </tr>\n    <tr>\n      <th>1</th>\n      <td>N1</td>\n      <td>0.814</td>\n      <td>LRPSa</td>\n      <td>23.702917</td>\n      <td>90.450417</td>\n      <td>NaN</td>\n      <td>Culvert</td>\n      <td>Box Culvert</td>\n    </tr>\n    <tr>\n      <th>2</th>\n      <td>N1</td>\n      <td>0.822</td>\n      <td>LRPSb</td>\n      <td>23.702778</td>\n      <td>90.450472</td>\n      <td>NaN</td>\n      <td>CrossRoad</td>\n      <td>Intersection with Z1101</td>\n    </tr>\n    <tr>\n      <th>3</th>\n      <td>N1</td>\n      <td>1.000</td>\n      <td>LRP001</td>\n      <td>23.702139</td>\n      <td>90.451972</td>\n      <td>NaN</td>\n      <td>KmPost</td>\n      <td>Km post missing</td>\n    </tr>\n    <tr>\n      <th>4</th>\n      <td>N1</td>\n      <td>2.000</td>\n      <td>LRP002</td>\n      <td>23.697889</td>\n      <td>90.460583</td>\n      <td>NaN</td>\n      <td>KmPost</td>\n      <td>Km post missing</td>\n    </tr>\n  </tbody>\n</table>\n</div>"
     },
     "execution_count": 12,
     "metadata": {},
     "output_type": "execute_result"
    }
   ],
   "source": [
    "data_roads.head()"
   ],
   "metadata": {
    "collapsed": false,
    "ExecuteTime": {
     "end_time": "2024-03-25T14:21:15.452026Z",
     "start_time": "2024-03-25T14:21:15.437226Z"
    }
   },
   "id": "55be413e06c3736e",
   "execution_count": 12
  },
  {
   "cell_type": "code",
   "outputs": [],
   "source": [
    "df_traffic = pd.read_html(\"../data/N1_traffic.htm\")"
   ],
   "metadata": {
    "collapsed": false,
    "ExecuteTime": {
     "end_time": "2024-03-26T14:59:04.259474Z",
     "start_time": "2024-03-26T14:59:03.972692Z"
    }
   },
   "id": "6ca65c2455564219",
   "execution_count": 23
  },
  {
   "cell_type": "code",
   "outputs": [
    {
     "data": {
      "text/plain": "                                                    0   \\\n0                                                  NaN   \n1                                                  NaN   \n2    List of links of N1 (  what is a link  )  Link...   \n3             List of links of N1 (  what is a link  )   \n4                                              Link no   \n..                                                 ...   \n109                                              N1-68   \n110                                              N1-69   \n111                                                NaN   \n112  *  Traffic survey was not done on the link. It...   \n113                                                NaN   \n\n                                                    1   \\\n0    List of links of N1 (  what is a link  )  Link...   \n1                                                  NaN   \n2                                                  NaN   \n3             List of links of N1 (  what is a link  )   \n4                                                 Name   \n..                                                 ...   \n109                 GundumGundum Z1504 - Whykong Z1133   \n110                             Whykong Z1133 - Teknaf   \n111                                                NaN   \n112                                                NaN   \n113                                                NaN   \n\n                                           2   \\\n0                                         NaN   \n1                                         NaN   \n2                                         NaN   \n3    List of links of N1 (  what is a link  )   \n4                              Start location   \n..                                        ...   \n109                                    LRP420   \n110                                    LRP433   \n111                                       NaN   \n112                                       NaN   \n113                                       NaN   \n\n                                           3   \\\n0                                         NaN   \n1                                         NaN   \n2                                         NaN   \n3    List of links of N1 (  what is a link  )   \n4                              Start location   \n..                                        ...   \n109                                       900   \n110                                       521   \n111                                       NaN   \n112                                       NaN   \n113                                       NaN   \n\n                                           4   \\\n0                                         NaN   \n1                                         NaN   \n2                                         NaN   \n3    List of links of N1 (  what is a link  )   \n4                              Start location   \n..                                        ...   \n109                                   416.044   \n110                                   428.908   \n111                                       NaN   \n112                                       NaN   \n113                                       NaN   \n\n                                           5   \\\n0                                         NaN   \n1                                         NaN   \n2                                         NaN   \n3    List of links of N1 (  what is a link  )   \n4                                End location   \n..                                        ...   \n109                                    LRP433   \n110                                    LRP467   \n111                                       NaN   \n112                                       NaN   \n113                                       NaN   \n\n                                           6   \\\n0                                         NaN   \n1                                         NaN   \n2                                         NaN   \n3    List of links of N1 (  what is a link  )   \n4                                End location   \n..                                        ...   \n109                                       521   \n110                                       130   \n111                                       NaN   \n112                                       NaN   \n113                                       NaN   \n\n                                           7   \\\n0                                         NaN   \n1                                         NaN   \n2                                         NaN   \n3    List of links of N1 (  what is a link  )   \n4                                End location   \n..                                        ...   \n109                                   428.908   \n110                                   462.254   \n111                                       NaN   \n112                                       NaN   \n113                                       NaN   \n\n                                           8   \\\n0                                         NaN   \n1                                         NaN   \n2                                         NaN   \n3    List of links of N1 (  what is a link  )   \n4                                      Length   \n..                                        ...   \n109                                    12.864   \n110                                    33.346   \n111                                       NaN   \n112                                       NaN   \n113                                       NaN   \n\n                                           9   ...  \\\n0                                         NaN  ...   \n1                                         NaN  ...   \n2                                         NaN  ...   \n3    List of links of N1 (  what is a link  )  ...   \n4                                Traffic Data  ...   \n..                                        ...  ...   \n109                                      24.0  ...   \n110                                      24.0  ...   \n111                                       NaN  ...   \n112                                       NaN  ...   \n113                                       NaN  ...   \n\n                                           16  \\\n0                                         NaN   \n1                                         NaN   \n2                                         NaN   \n3    List of links of N1 (  what is a link  )   \n4                                Traffic Data   \n..                                        ...   \n109                                     142.0   \n110                                     142.0   \n111                                       NaN   \n112                                       NaN   \n113                                       NaN   \n\n                                           17  \\\n0                                         NaN   \n1                                         NaN   \n2                                         NaN   \n3    List of links of N1 (  what is a link  )   \n4                                Traffic Data   \n..                                        ...   \n109                                    2476.0   \n110                                    2476.0   \n111                                       NaN   \n112                                       NaN   \n113                                       NaN   \n\n                                           18  \\\n0                                         NaN   \n1                                         NaN   \n2                                         NaN   \n3    List of links of N1 (  what is a link  )   \n4                                Traffic Data   \n..                                        ...   \n109                                     419.0   \n110                                     419.0   \n111                                       NaN   \n112                                       NaN   \n113                                       NaN   \n\n                                           19  \\\n0                                         NaN   \n1                                         NaN   \n2                                         NaN   \n3    List of links of N1 (  what is a link  )   \n4                                Traffic Data   \n..                                        ...   \n109                                      97.0   \n110                                      97.0   \n111                                       NaN   \n112                                       NaN   \n113                                       NaN   \n\n                                           20  \\\n0                                         NaN   \n1                                         NaN   \n2                                         NaN   \n3    List of links of N1 (  what is a link  )   \n4                                Traffic Data   \n..                                        ...   \n109                                    1042.0   \n110                                    1042.0   \n111                                       NaN   \n112                                       NaN   \n113                                       NaN   \n\n                                           21  \\\n0                                         NaN   \n1                                         NaN   \n2                                         NaN   \n3    List of links of N1 (  what is a link  )   \n4                                Traffic Data   \n..                                        ...   \n109                                       0.0   \n110                                       0.0   \n111                                       NaN   \n112                                       NaN   \n113                                       NaN   \n\n                                           22  \\\n0                                         NaN   \n1                                         NaN   \n2                                         NaN   \n3    List of links of N1 (  what is a link  )   \n4                                       Total   \n..                                        ...   \n109                                    4681.0   \n110                                    4681.0   \n111                                       NaN   \n112                                       NaN   \n113                                       NaN   \n\n                                           23  \\\n0                                         NaN   \n1                                         NaN   \n2                                         NaN   \n3    List of links of N1 (  what is a link  )   \n4                                       Total   \n..                                        ...   \n109                                    1139.0   \n110                                    1139.0   \n111                                       NaN   \n112                                       NaN   \n113                                       NaN   \n\n                                           24  \\\n0                                         NaN   \n1                                         NaN   \n2                                         NaN   \n3    List of links of N1 (  what is a link  )   \n4                                       Total   \n..                                        ...   \n109                                    5820.0   \n110                                    5820.0   \n111                                       NaN   \n112                                       NaN   \n113                                       NaN   \n\n                                           25  \n0                                         NaN  \n1                                         NaN  \n2                                         NaN  \n3    List of links of N1 (  what is a link  )  \n4                                     Traffic  \n..                                        ...  \n109                                    5820.0  \n110                                    5820.0  \n111                                       NaN  \n112                                       NaN  \n113                                       NaN  \n\n[114 rows x 26 columns]",
      "text/html": "<div>\n<style scoped>\n    .dataframe tbody tr th:only-of-type {\n        vertical-align: middle;\n    }\n\n    .dataframe tbody tr th {\n        vertical-align: top;\n    }\n\n    .dataframe thead th {\n        text-align: right;\n    }\n</style>\n<table border=\"1\" class=\"dataframe\">\n  <thead>\n    <tr style=\"text-align: right;\">\n      <th></th>\n      <th>0</th>\n      <th>1</th>\n      <th>2</th>\n      <th>3</th>\n      <th>4</th>\n      <th>5</th>\n      <th>6</th>\n      <th>7</th>\n      <th>8</th>\n      <th>9</th>\n      <th>...</th>\n      <th>16</th>\n      <th>17</th>\n      <th>18</th>\n      <th>19</th>\n      <th>20</th>\n      <th>21</th>\n      <th>22</th>\n      <th>23</th>\n      <th>24</th>\n      <th>25</th>\n    </tr>\n  </thead>\n  <tbody>\n    <tr>\n      <th>0</th>\n      <td>NaN</td>\n      <td>List of links of N1 (  what is a link  )  Link...</td>\n      <td>NaN</td>\n      <td>NaN</td>\n      <td>NaN</td>\n      <td>NaN</td>\n      <td>NaN</td>\n      <td>NaN</td>\n      <td>NaN</td>\n      <td>NaN</td>\n      <td>...</td>\n      <td>NaN</td>\n      <td>NaN</td>\n      <td>NaN</td>\n      <td>NaN</td>\n      <td>NaN</td>\n      <td>NaN</td>\n      <td>NaN</td>\n      <td>NaN</td>\n      <td>NaN</td>\n      <td>NaN</td>\n    </tr>\n    <tr>\n      <th>1</th>\n      <td>NaN</td>\n      <td>NaN</td>\n      <td>NaN</td>\n      <td>NaN</td>\n      <td>NaN</td>\n      <td>NaN</td>\n      <td>NaN</td>\n      <td>NaN</td>\n      <td>NaN</td>\n      <td>NaN</td>\n      <td>...</td>\n      <td>NaN</td>\n      <td>NaN</td>\n      <td>NaN</td>\n      <td>NaN</td>\n      <td>NaN</td>\n      <td>NaN</td>\n      <td>NaN</td>\n      <td>NaN</td>\n      <td>NaN</td>\n      <td>NaN</td>\n    </tr>\n    <tr>\n      <th>2</th>\n      <td>List of links of N1 (  what is a link  )  Link...</td>\n      <td>NaN</td>\n      <td>NaN</td>\n      <td>NaN</td>\n      <td>NaN</td>\n      <td>NaN</td>\n      <td>NaN</td>\n      <td>NaN</td>\n      <td>NaN</td>\n      <td>NaN</td>\n      <td>...</td>\n      <td>NaN</td>\n      <td>NaN</td>\n      <td>NaN</td>\n      <td>NaN</td>\n      <td>NaN</td>\n      <td>NaN</td>\n      <td>NaN</td>\n      <td>NaN</td>\n      <td>NaN</td>\n      <td>NaN</td>\n    </tr>\n    <tr>\n      <th>3</th>\n      <td>List of links of N1 (  what is a link  )</td>\n      <td>List of links of N1 (  what is a link  )</td>\n      <td>List of links of N1 (  what is a link  )</td>\n      <td>List of links of N1 (  what is a link  )</td>\n      <td>List of links of N1 (  what is a link  )</td>\n      <td>List of links of N1 (  what is a link  )</td>\n      <td>List of links of N1 (  what is a link  )</td>\n      <td>List of links of N1 (  what is a link  )</td>\n      <td>List of links of N1 (  what is a link  )</td>\n      <td>List of links of N1 (  what is a link  )</td>\n      <td>...</td>\n      <td>List of links of N1 (  what is a link  )</td>\n      <td>List of links of N1 (  what is a link  )</td>\n      <td>List of links of N1 (  what is a link  )</td>\n      <td>List of links of N1 (  what is a link  )</td>\n      <td>List of links of N1 (  what is a link  )</td>\n      <td>List of links of N1 (  what is a link  )</td>\n      <td>List of links of N1 (  what is a link  )</td>\n      <td>List of links of N1 (  what is a link  )</td>\n      <td>List of links of N1 (  what is a link  )</td>\n      <td>List of links of N1 (  what is a link  )</td>\n    </tr>\n    <tr>\n      <th>4</th>\n      <td>Link no</td>\n      <td>Name</td>\n      <td>Start location</td>\n      <td>Start location</td>\n      <td>Start location</td>\n      <td>End location</td>\n      <td>End location</td>\n      <td>End location</td>\n      <td>Length</td>\n      <td>Traffic Data</td>\n      <td>...</td>\n      <td>Traffic Data</td>\n      <td>Traffic Data</td>\n      <td>Traffic Data</td>\n      <td>Traffic Data</td>\n      <td>Traffic Data</td>\n      <td>Traffic Data</td>\n      <td>Total</td>\n      <td>Total</td>\n      <td>Total</td>\n      <td>Traffic</td>\n    </tr>\n    <tr>\n      <th>...</th>\n      <td>...</td>\n      <td>...</td>\n      <td>...</td>\n      <td>...</td>\n      <td>...</td>\n      <td>...</td>\n      <td>...</td>\n      <td>...</td>\n      <td>...</td>\n      <td>...</td>\n      <td>...</td>\n      <td>...</td>\n      <td>...</td>\n      <td>...</td>\n      <td>...</td>\n      <td>...</td>\n      <td>...</td>\n      <td>...</td>\n      <td>...</td>\n      <td>...</td>\n      <td>...</td>\n    </tr>\n    <tr>\n      <th>109</th>\n      <td>N1-68</td>\n      <td>GundumGundum Z1504 - Whykong Z1133</td>\n      <td>LRP420</td>\n      <td>900</td>\n      <td>416.044</td>\n      <td>LRP433</td>\n      <td>521</td>\n      <td>428.908</td>\n      <td>12.864</td>\n      <td>24.0</td>\n      <td>...</td>\n      <td>142.0</td>\n      <td>2476.0</td>\n      <td>419.0</td>\n      <td>97.0</td>\n      <td>1042.0</td>\n      <td>0.0</td>\n      <td>4681.0</td>\n      <td>1139.0</td>\n      <td>5820.0</td>\n      <td>5820.0</td>\n    </tr>\n    <tr>\n      <th>110</th>\n      <td>N1-69</td>\n      <td>Whykong Z1133 - Teknaf</td>\n      <td>LRP433</td>\n      <td>521</td>\n      <td>428.908</td>\n      <td>LRP467</td>\n      <td>130</td>\n      <td>462.254</td>\n      <td>33.346</td>\n      <td>24.0</td>\n      <td>...</td>\n      <td>142.0</td>\n      <td>2476.0</td>\n      <td>419.0</td>\n      <td>97.0</td>\n      <td>1042.0</td>\n      <td>0.0</td>\n      <td>4681.0</td>\n      <td>1139.0</td>\n      <td>5820.0</td>\n      <td>5820.0</td>\n    </tr>\n    <tr>\n      <th>111</th>\n      <td>NaN</td>\n      <td>NaN</td>\n      <td>NaN</td>\n      <td>NaN</td>\n      <td>NaN</td>\n      <td>NaN</td>\n      <td>NaN</td>\n      <td>NaN</td>\n      <td>NaN</td>\n      <td>NaN</td>\n      <td>...</td>\n      <td>NaN</td>\n      <td>NaN</td>\n      <td>NaN</td>\n      <td>NaN</td>\n      <td>NaN</td>\n      <td>NaN</td>\n      <td>NaN</td>\n      <td>NaN</td>\n      <td>NaN</td>\n      <td>NaN</td>\n    </tr>\n    <tr>\n      <th>112</th>\n      <td>*  Traffic survey was not done on the link. It...</td>\n      <td>NaN</td>\n      <td>NaN</td>\n      <td>NaN</td>\n      <td>NaN</td>\n      <td>NaN</td>\n      <td>NaN</td>\n      <td>NaN</td>\n      <td>NaN</td>\n      <td>NaN</td>\n      <td>...</td>\n      <td>NaN</td>\n      <td>NaN</td>\n      <td>NaN</td>\n      <td>NaN</td>\n      <td>NaN</td>\n      <td>NaN</td>\n      <td>NaN</td>\n      <td>NaN</td>\n      <td>NaN</td>\n      <td>NaN</td>\n    </tr>\n    <tr>\n      <th>113</th>\n      <td>NaN</td>\n      <td>NaN</td>\n      <td>NaN</td>\n      <td>NaN</td>\n      <td>NaN</td>\n      <td>NaN</td>\n      <td>NaN</td>\n      <td>NaN</td>\n      <td>NaN</td>\n      <td>NaN</td>\n      <td>...</td>\n      <td>NaN</td>\n      <td>NaN</td>\n      <td>NaN</td>\n      <td>NaN</td>\n      <td>NaN</td>\n      <td>NaN</td>\n      <td>NaN</td>\n      <td>NaN</td>\n      <td>NaN</td>\n      <td>NaN</td>\n    </tr>\n  </tbody>\n</table>\n<p>114 rows × 26 columns</p>\n</div>"
     },
     "execution_count": 26,
     "metadata": {},
     "output_type": "execute_result"
    }
   ],
   "source": [
    "df_traffic[2]"
   ],
   "metadata": {
    "collapsed": false,
    "ExecuteTime": {
     "end_time": "2024-03-26T14:59:17.958565Z",
     "start_time": "2024-03-26T14:59:17.925682Z"
    }
   },
   "id": "1b9789d124a57184",
   "execution_count": 26
  },
  {
   "cell_type": "code",
   "outputs": [],
   "source": [],
   "metadata": {
    "collapsed": false
   },
   "id": "56b7365acab6cdfb"
  }
 ],
 "metadata": {
  "kernelspec": {
   "display_name": "Python 3",
   "language": "python",
   "name": "python3"
  },
  "language_info": {
   "codemirror_mode": {
    "name": "ipython",
    "version": 2
   },
   "file_extension": ".py",
   "mimetype": "text/x-python",
   "name": "python",
   "nbconvert_exporter": "python",
   "pygments_lexer": "ipython2",
   "version": "2.7.6"
  }
 },
 "nbformat": 4,
 "nbformat_minor": 5
}
