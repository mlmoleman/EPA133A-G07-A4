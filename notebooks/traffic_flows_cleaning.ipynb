{
 "cells": [
  {
   "cell_type": "code",
   "execution_count": 1,
   "outputs": [],
   "source": [
    "import pandas as pd"
   ],
   "metadata": {
    "collapsed": false,
    "ExecuteTime": {
     "end_time": "2024-03-28T16:56:10.473425200Z",
     "start_time": "2024-03-28T16:56:09.903984Z"
    }
   }
  },
  {
   "cell_type": "code",
   "execution_count": 2,
   "metadata": {
    "collapsed": true,
    "ExecuteTime": {
     "end_time": "2024-03-28T16:56:10.519719500Z",
     "start_time": "2024-03-28T16:56:10.478718500Z"
    }
   },
   "outputs": [],
   "source": [
    "df_traffic_N1 = pd.read_csv(\"../data/traffic_N1.csv\", header=[0,1])\n",
    "df_traffic_N2 = pd.read_csv('../data/traffic_N2.csv', header=[0,1])\n",
    "df_traffic_N102 = pd.read_csv('../data/traffic_N102.csv', header=[0,1])\n",
    "df_traffic_N104 = pd.read_csv('../data/traffic_N104.csv', header=[0,1])\n",
    "df_traffic_N105 = pd.read_csv('../data/traffic_N105.csv', header=[0,1])\n",
    "df_traffic_N8 = pd.read_csv('../data/traffic_N8.csv', header=[0,1])\n",
    "df_traffic_N204 = pd.read_csv('../data/traffic_N204.csv', header=[0,1])\n",
    "df_traffic_N207 = pd.read_csv('../data/traffic_N207.csv', header=[0,1])\n",
    "df_traffic_N208 = pd.read_csv('../data/traffic_N208.csv', header=[0,1])"
   ]
  },
  {
   "cell_type": "code",
   "execution_count": 3,
   "outputs": [
    {
     "data": {
      "text/plain": "  Unnamed: 0_level_0            Link no  \\\n  Unnamed: 0_level_1 Unnamed: 0_level_1   \n0                  0              N1-1L   \n1                  1              N1-1R   \n2                  2              N1-2L   \n3                  3              N1-2R   \n4                  4              N1-3L   \n\n                                             Name Start location         \\\n                               Unnamed: 1_level_1            LRP Offset   \n0        Jatrabari - Int.with Z1101 (Left) (Left)           LRPS      0   \n1       Jatrabari - Int.with Z1101 (Left) (Right)           LRPS      0   \n2   Int.with Z1101 - Signboard (Left) R111 (Left)           LRPS    822   \n3  Int.with Z1101 - Signboard (Left) R111 (Right)           LRPS    822   \n4          Signboard - Shimrail (Left)R110 (Left)           LRPS   4175   \n\n           End location                 Length  ... Traffic Data  \\\n  Chainage          LRP Offset Chainage   (Km)  ...          Car   \n0    0.000         LRPS    822    0.822  0.822  ...       1851.0   \n1    0.000         LRPS    822    0.822  0.822  ...       2608.0   \n2    0.822         LRPS   4175    4.175  3.353  ...       2608.0   \n3    0.822         LRPS   4175    4.175  3.353  ...       1851.0   \n4    4.175         LRPS   7181    7.181  3.006  ...       1690.0   \n\n                                                             Total  \\\n  Auto Rickshaw Motor Cycle Bi-Cycle Cycle Rickshaw Cart Motorized   \n0        2980.0       398.0    232.0          889.0  0.0   18236.0   \n1        2508.0       436.0    213.0         1088.0  0.0   20236.0   \n2        2508.0       436.0    213.0         1088.0  0.0   20236.0   \n3        2980.0       398.0    232.0          889.0  0.0   18236.0   \n4        2266.0      1087.0     75.0         1198.0  0.0   16288.0   \n\n                            Traffic  \n  Non Motorized Total AADT   (AADT)  \n0        1121.0    19357.0  19357.0  \n1        1301.0    21537.0  21537.0  \n2        1301.0    21537.0  21537.0  \n3        1121.0    19357.0  19357.0  \n4        1273.0    17561.0  17561.0  \n\n[5 rows x 27 columns]",
      "text/html": "<div>\n<style scoped>\n    .dataframe tbody tr th:only-of-type {\n        vertical-align: middle;\n    }\n\n    .dataframe tbody tr th {\n        vertical-align: top;\n    }\n\n    .dataframe thead tr th {\n        text-align: left;\n    }\n</style>\n<table border=\"1\" class=\"dataframe\">\n  <thead>\n    <tr>\n      <th></th>\n      <th>Unnamed: 0_level_0</th>\n      <th>Link no</th>\n      <th>Name</th>\n      <th colspan=\"3\" halign=\"left\">Start location</th>\n      <th colspan=\"3\" halign=\"left\">End location</th>\n      <th>Length</th>\n      <th>...</th>\n      <th colspan=\"6\" halign=\"left\">Traffic Data</th>\n      <th colspan=\"3\" halign=\"left\">Total</th>\n      <th>Traffic</th>\n    </tr>\n    <tr>\n      <th></th>\n      <th>Unnamed: 0_level_1</th>\n      <th>Unnamed: 0_level_1</th>\n      <th>Unnamed: 1_level_1</th>\n      <th>LRP</th>\n      <th>Offset</th>\n      <th>Chainage</th>\n      <th>LRP</th>\n      <th>Offset</th>\n      <th>Chainage</th>\n      <th>(Km)</th>\n      <th>...</th>\n      <th>Car</th>\n      <th>Auto Rickshaw</th>\n      <th>Motor Cycle</th>\n      <th>Bi-Cycle</th>\n      <th>Cycle Rickshaw</th>\n      <th>Cart</th>\n      <th>Motorized</th>\n      <th>Non Motorized</th>\n      <th>Total AADT</th>\n      <th>(AADT)</th>\n    </tr>\n  </thead>\n  <tbody>\n    <tr>\n      <th>0</th>\n      <td>0</td>\n      <td>N1-1L</td>\n      <td>Jatrabari - Int.with Z1101 (Left) (Left)</td>\n      <td>LRPS</td>\n      <td>0</td>\n      <td>0.000</td>\n      <td>LRPS</td>\n      <td>822</td>\n      <td>0.822</td>\n      <td>0.822</td>\n      <td>...</td>\n      <td>1851.0</td>\n      <td>2980.0</td>\n      <td>398.0</td>\n      <td>232.0</td>\n      <td>889.0</td>\n      <td>0.0</td>\n      <td>18236.0</td>\n      <td>1121.0</td>\n      <td>19357.0</td>\n      <td>19357.0</td>\n    </tr>\n    <tr>\n      <th>1</th>\n      <td>1</td>\n      <td>N1-1R</td>\n      <td>Jatrabari - Int.with Z1101 (Left) (Right)</td>\n      <td>LRPS</td>\n      <td>0</td>\n      <td>0.000</td>\n      <td>LRPS</td>\n      <td>822</td>\n      <td>0.822</td>\n      <td>0.822</td>\n      <td>...</td>\n      <td>2608.0</td>\n      <td>2508.0</td>\n      <td>436.0</td>\n      <td>213.0</td>\n      <td>1088.0</td>\n      <td>0.0</td>\n      <td>20236.0</td>\n      <td>1301.0</td>\n      <td>21537.0</td>\n      <td>21537.0</td>\n    </tr>\n    <tr>\n      <th>2</th>\n      <td>2</td>\n      <td>N1-2L</td>\n      <td>Int.with Z1101 - Signboard (Left) R111 (Left)</td>\n      <td>LRPS</td>\n      <td>822</td>\n      <td>0.822</td>\n      <td>LRPS</td>\n      <td>4175</td>\n      <td>4.175</td>\n      <td>3.353</td>\n      <td>...</td>\n      <td>2608.0</td>\n      <td>2508.0</td>\n      <td>436.0</td>\n      <td>213.0</td>\n      <td>1088.0</td>\n      <td>0.0</td>\n      <td>20236.0</td>\n      <td>1301.0</td>\n      <td>21537.0</td>\n      <td>21537.0</td>\n    </tr>\n    <tr>\n      <th>3</th>\n      <td>3</td>\n      <td>N1-2R</td>\n      <td>Int.with Z1101 - Signboard (Left) R111 (Right)</td>\n      <td>LRPS</td>\n      <td>822</td>\n      <td>0.822</td>\n      <td>LRPS</td>\n      <td>4175</td>\n      <td>4.175</td>\n      <td>3.353</td>\n      <td>...</td>\n      <td>1851.0</td>\n      <td>2980.0</td>\n      <td>398.0</td>\n      <td>232.0</td>\n      <td>889.0</td>\n      <td>0.0</td>\n      <td>18236.0</td>\n      <td>1121.0</td>\n      <td>19357.0</td>\n      <td>19357.0</td>\n    </tr>\n    <tr>\n      <th>4</th>\n      <td>4</td>\n      <td>N1-3L</td>\n      <td>Signboard - Shimrail (Left)R110 (Left)</td>\n      <td>LRPS</td>\n      <td>4175</td>\n      <td>4.175</td>\n      <td>LRPS</td>\n      <td>7181</td>\n      <td>7.181</td>\n      <td>3.006</td>\n      <td>...</td>\n      <td>1690.0</td>\n      <td>2266.0</td>\n      <td>1087.0</td>\n      <td>75.0</td>\n      <td>1198.0</td>\n      <td>0.0</td>\n      <td>16288.0</td>\n      <td>1273.0</td>\n      <td>17561.0</td>\n      <td>17561.0</td>\n    </tr>\n  </tbody>\n</table>\n<p>5 rows × 27 columns</p>\n</div>"
     },
     "execution_count": 3,
     "metadata": {},
     "output_type": "execute_result"
    }
   ],
   "source": [
    "df_traffic_N1.head()"
   ],
   "metadata": {
    "collapsed": false,
    "ExecuteTime": {
     "end_time": "2024-03-28T16:56:10.576551100Z",
     "start_time": "2024-03-28T16:56:10.524386100Z"
    }
   }
  },
  {
   "cell_type": "code",
   "execution_count": 3,
   "outputs": [],
   "source": [],
   "metadata": {
    "collapsed": false,
    "ExecuteTime": {
     "end_time": "2024-03-28T16:56:10.576551100Z",
     "start_time": "2024-03-28T16:56:10.559378800Z"
    }
   }
  },
  {
   "cell_type": "code",
   "execution_count": 4,
   "outputs": [],
   "source": [
    "#1. removing L/R from rows\n",
    "df_traffic_N1[('Link no', 'Unnamed: 0_level_1')] = df_traffic_N1[('Link no', 'Unnamed: 0_level_1')].str[:-1]"
   ],
   "metadata": {
    "collapsed": false,
    "ExecuteTime": {
     "end_time": "2024-03-28T16:56:10.576551100Z",
     "start_time": "2024-03-28T16:56:10.570592500Z"
    }
   }
  },
  {
   "cell_type": "code",
   "execution_count": 5,
   "outputs": [
    {
     "data": {
      "text/plain": "  Unnamed: 0_level_0            Link no  \\\n  Unnamed: 0_level_1 Unnamed: 0_level_1   \n0                  0               N1-1   \n1                  1               N1-1   \n2                  2               N1-2   \n3                  3               N1-2   \n4                  4               N1-3   \n\n                                             Name Start location         \\\n                               Unnamed: 1_level_1            LRP Offset   \n0        Jatrabari - Int.with Z1101 (Left) (Left)           LRPS      0   \n1       Jatrabari - Int.with Z1101 (Left) (Right)           LRPS      0   \n2   Int.with Z1101 - Signboard (Left) R111 (Left)           LRPS    822   \n3  Int.with Z1101 - Signboard (Left) R111 (Right)           LRPS    822   \n4          Signboard - Shimrail (Left)R110 (Left)           LRPS   4175   \n\n           End location                 Length  ... Traffic Data  \\\n  Chainage          LRP Offset Chainage   (Km)  ...          Car   \n0    0.000         LRPS    822    0.822  0.822  ...       1851.0   \n1    0.000         LRPS    822    0.822  0.822  ...       2608.0   \n2    0.822         LRPS   4175    4.175  3.353  ...       2608.0   \n3    0.822         LRPS   4175    4.175  3.353  ...       1851.0   \n4    4.175         LRPS   7181    7.181  3.006  ...       1690.0   \n\n                                                             Total  \\\n  Auto Rickshaw Motor Cycle Bi-Cycle Cycle Rickshaw Cart Motorized   \n0        2980.0       398.0    232.0          889.0  0.0   18236.0   \n1        2508.0       436.0    213.0         1088.0  0.0   20236.0   \n2        2508.0       436.0    213.0         1088.0  0.0   20236.0   \n3        2980.0       398.0    232.0          889.0  0.0   18236.0   \n4        2266.0      1087.0     75.0         1198.0  0.0   16288.0   \n\n                            Traffic  \n  Non Motorized Total AADT   (AADT)  \n0        1121.0    19357.0  19357.0  \n1        1301.0    21537.0  21537.0  \n2        1301.0    21537.0  21537.0  \n3        1121.0    19357.0  19357.0  \n4        1273.0    17561.0  17561.0  \n\n[5 rows x 27 columns]",
      "text/html": "<div>\n<style scoped>\n    .dataframe tbody tr th:only-of-type {\n        vertical-align: middle;\n    }\n\n    .dataframe tbody tr th {\n        vertical-align: top;\n    }\n\n    .dataframe thead tr th {\n        text-align: left;\n    }\n</style>\n<table border=\"1\" class=\"dataframe\">\n  <thead>\n    <tr>\n      <th></th>\n      <th>Unnamed: 0_level_0</th>\n      <th>Link no</th>\n      <th>Name</th>\n      <th colspan=\"3\" halign=\"left\">Start location</th>\n      <th colspan=\"3\" halign=\"left\">End location</th>\n      <th>Length</th>\n      <th>...</th>\n      <th colspan=\"6\" halign=\"left\">Traffic Data</th>\n      <th colspan=\"3\" halign=\"left\">Total</th>\n      <th>Traffic</th>\n    </tr>\n    <tr>\n      <th></th>\n      <th>Unnamed: 0_level_1</th>\n      <th>Unnamed: 0_level_1</th>\n      <th>Unnamed: 1_level_1</th>\n      <th>LRP</th>\n      <th>Offset</th>\n      <th>Chainage</th>\n      <th>LRP</th>\n      <th>Offset</th>\n      <th>Chainage</th>\n      <th>(Km)</th>\n      <th>...</th>\n      <th>Car</th>\n      <th>Auto Rickshaw</th>\n      <th>Motor Cycle</th>\n      <th>Bi-Cycle</th>\n      <th>Cycle Rickshaw</th>\n      <th>Cart</th>\n      <th>Motorized</th>\n      <th>Non Motorized</th>\n      <th>Total AADT</th>\n      <th>(AADT)</th>\n    </tr>\n  </thead>\n  <tbody>\n    <tr>\n      <th>0</th>\n      <td>0</td>\n      <td>N1-1</td>\n      <td>Jatrabari - Int.with Z1101 (Left) (Left)</td>\n      <td>LRPS</td>\n      <td>0</td>\n      <td>0.000</td>\n      <td>LRPS</td>\n      <td>822</td>\n      <td>0.822</td>\n      <td>0.822</td>\n      <td>...</td>\n      <td>1851.0</td>\n      <td>2980.0</td>\n      <td>398.0</td>\n      <td>232.0</td>\n      <td>889.0</td>\n      <td>0.0</td>\n      <td>18236.0</td>\n      <td>1121.0</td>\n      <td>19357.0</td>\n      <td>19357.0</td>\n    </tr>\n    <tr>\n      <th>1</th>\n      <td>1</td>\n      <td>N1-1</td>\n      <td>Jatrabari - Int.with Z1101 (Left) (Right)</td>\n      <td>LRPS</td>\n      <td>0</td>\n      <td>0.000</td>\n      <td>LRPS</td>\n      <td>822</td>\n      <td>0.822</td>\n      <td>0.822</td>\n      <td>...</td>\n      <td>2608.0</td>\n      <td>2508.0</td>\n      <td>436.0</td>\n      <td>213.0</td>\n      <td>1088.0</td>\n      <td>0.0</td>\n      <td>20236.0</td>\n      <td>1301.0</td>\n      <td>21537.0</td>\n      <td>21537.0</td>\n    </tr>\n    <tr>\n      <th>2</th>\n      <td>2</td>\n      <td>N1-2</td>\n      <td>Int.with Z1101 - Signboard (Left) R111 (Left)</td>\n      <td>LRPS</td>\n      <td>822</td>\n      <td>0.822</td>\n      <td>LRPS</td>\n      <td>4175</td>\n      <td>4.175</td>\n      <td>3.353</td>\n      <td>...</td>\n      <td>2608.0</td>\n      <td>2508.0</td>\n      <td>436.0</td>\n      <td>213.0</td>\n      <td>1088.0</td>\n      <td>0.0</td>\n      <td>20236.0</td>\n      <td>1301.0</td>\n      <td>21537.0</td>\n      <td>21537.0</td>\n    </tr>\n    <tr>\n      <th>3</th>\n      <td>3</td>\n      <td>N1-2</td>\n      <td>Int.with Z1101 - Signboard (Left) R111 (Right)</td>\n      <td>LRPS</td>\n      <td>822</td>\n      <td>0.822</td>\n      <td>LRPS</td>\n      <td>4175</td>\n      <td>4.175</td>\n      <td>3.353</td>\n      <td>...</td>\n      <td>1851.0</td>\n      <td>2980.0</td>\n      <td>398.0</td>\n      <td>232.0</td>\n      <td>889.0</td>\n      <td>0.0</td>\n      <td>18236.0</td>\n      <td>1121.0</td>\n      <td>19357.0</td>\n      <td>19357.0</td>\n    </tr>\n    <tr>\n      <th>4</th>\n      <td>4</td>\n      <td>N1-3</td>\n      <td>Signboard - Shimrail (Left)R110 (Left)</td>\n      <td>LRPS</td>\n      <td>4175</td>\n      <td>4.175</td>\n      <td>LRPS</td>\n      <td>7181</td>\n      <td>7.181</td>\n      <td>3.006</td>\n      <td>...</td>\n      <td>1690.0</td>\n      <td>2266.0</td>\n      <td>1087.0</td>\n      <td>75.0</td>\n      <td>1198.0</td>\n      <td>0.0</td>\n      <td>16288.0</td>\n      <td>1273.0</td>\n      <td>17561.0</td>\n      <td>17561.0</td>\n    </tr>\n  </tbody>\n</table>\n<p>5 rows × 27 columns</p>\n</div>"
     },
     "execution_count": 5,
     "metadata": {},
     "output_type": "execute_result"
    }
   ],
   "source": [
    "df_traffic_N1.head()"
   ],
   "metadata": {
    "collapsed": false,
    "ExecuteTime": {
     "end_time": "2024-03-28T16:56:10.644325Z",
     "start_time": "2024-03-28T16:56:10.604080100Z"
    }
   }
  },
  {
   "cell_type": "code",
   "execution_count": 6,
   "outputs": [],
   "source": [
    "#2. Make two transport categories: cargo and people\n",
    "df_traffic_N1[('Average Traffic Data', 'Cargo')] = (df_traffic_N1[('Traffic Data', 'Heavy Truck')] + df_traffic_N1[('Traffic Data', 'Medium Truck')] + df_traffic_N1[('Traffic Data', 'Small Truck')])/3\n"
   ],
   "metadata": {
    "collapsed": false,
    "ExecuteTime": {
     "end_time": "2024-03-28T16:56:10.677563400Z",
     "start_time": "2024-03-28T16:56:10.613945600Z"
    }
   }
  },
  {
   "cell_type": "code",
   "execution_count": 7,
   "outputs": [
    {
     "data": {
      "text/plain": "  Unnamed: 0_level_0            Link no  \\\n  Unnamed: 0_level_1 Unnamed: 0_level_1   \n0                  0               N1-1   \n1                  1               N1-1   \n2                  2               N1-2   \n3                  3               N1-2   \n4                  4               N1-3   \n\n                                             Name Start location         \\\n                               Unnamed: 1_level_1            LRP Offset   \n0        Jatrabari - Int.with Z1101 (Left) (Left)           LRPS      0   \n1       Jatrabari - Int.with Z1101 (Left) (Right)           LRPS      0   \n2   Int.with Z1101 - Signboard (Left) R111 (Left)           LRPS    822   \n3  Int.with Z1101 - Signboard (Left) R111 (Right)           LRPS    822   \n4          Signboard - Shimrail (Left)R110 (Left)           LRPS   4175   \n\n           End location                 Length  ...  Traffic Data              \\\n  Chainage          LRP Offset Chainage   (Km)  ... Auto Rickshaw Motor Cycle   \n0    0.000         LRPS    822    0.822  0.822  ...        2980.0       398.0   \n1    0.000         LRPS    822    0.822  0.822  ...        2508.0       436.0   \n2    0.822         LRPS   4175    4.175  3.353  ...        2508.0       436.0   \n3    0.822         LRPS   4175    4.175  3.353  ...        2980.0       398.0   \n4    4.175         LRPS   7181    7.181  3.006  ...        2266.0      1087.0   \n\n                                   Total                           Traffic  \\\n  Bi-Cycle Cycle Rickshaw Cart Motorized Non Motorized Total AADT   (AADT)   \n0    232.0          889.0  0.0   18236.0        1121.0    19357.0  19357.0   \n1    213.0         1088.0  0.0   20236.0        1301.0    21537.0  21537.0   \n2    213.0         1088.0  0.0   20236.0        1301.0    21537.0  21537.0   \n3    232.0          889.0  0.0   18236.0        1121.0    19357.0  19357.0   \n4     75.0         1198.0  0.0   16288.0        1273.0    17561.0  17561.0   \n\n  Average Traffic Data  \n                 Cargo  \n0          2463.666667  \n1          2789.666667  \n2          2789.666667  \n3          2463.666667  \n4          1660.333333  \n\n[5 rows x 28 columns]",
      "text/html": "<div>\n<style scoped>\n    .dataframe tbody tr th:only-of-type {\n        vertical-align: middle;\n    }\n\n    .dataframe tbody tr th {\n        vertical-align: top;\n    }\n\n    .dataframe thead tr th {\n        text-align: left;\n    }\n</style>\n<table border=\"1\" class=\"dataframe\">\n  <thead>\n    <tr>\n      <th></th>\n      <th>Unnamed: 0_level_0</th>\n      <th>Link no</th>\n      <th>Name</th>\n      <th colspan=\"3\" halign=\"left\">Start location</th>\n      <th colspan=\"3\" halign=\"left\">End location</th>\n      <th>Length</th>\n      <th>...</th>\n      <th colspan=\"5\" halign=\"left\">Traffic Data</th>\n      <th colspan=\"3\" halign=\"left\">Total</th>\n      <th>Traffic</th>\n      <th>Average Traffic Data</th>\n    </tr>\n    <tr>\n      <th></th>\n      <th>Unnamed: 0_level_1</th>\n      <th>Unnamed: 0_level_1</th>\n      <th>Unnamed: 1_level_1</th>\n      <th>LRP</th>\n      <th>Offset</th>\n      <th>Chainage</th>\n      <th>LRP</th>\n      <th>Offset</th>\n      <th>Chainage</th>\n      <th>(Km)</th>\n      <th>...</th>\n      <th>Auto Rickshaw</th>\n      <th>Motor Cycle</th>\n      <th>Bi-Cycle</th>\n      <th>Cycle Rickshaw</th>\n      <th>Cart</th>\n      <th>Motorized</th>\n      <th>Non Motorized</th>\n      <th>Total AADT</th>\n      <th>(AADT)</th>\n      <th>Cargo</th>\n    </tr>\n  </thead>\n  <tbody>\n    <tr>\n      <th>0</th>\n      <td>0</td>\n      <td>N1-1</td>\n      <td>Jatrabari - Int.with Z1101 (Left) (Left)</td>\n      <td>LRPS</td>\n      <td>0</td>\n      <td>0.000</td>\n      <td>LRPS</td>\n      <td>822</td>\n      <td>0.822</td>\n      <td>0.822</td>\n      <td>...</td>\n      <td>2980.0</td>\n      <td>398.0</td>\n      <td>232.0</td>\n      <td>889.0</td>\n      <td>0.0</td>\n      <td>18236.0</td>\n      <td>1121.0</td>\n      <td>19357.0</td>\n      <td>19357.0</td>\n      <td>2463.666667</td>\n    </tr>\n    <tr>\n      <th>1</th>\n      <td>1</td>\n      <td>N1-1</td>\n      <td>Jatrabari - Int.with Z1101 (Left) (Right)</td>\n      <td>LRPS</td>\n      <td>0</td>\n      <td>0.000</td>\n      <td>LRPS</td>\n      <td>822</td>\n      <td>0.822</td>\n      <td>0.822</td>\n      <td>...</td>\n      <td>2508.0</td>\n      <td>436.0</td>\n      <td>213.0</td>\n      <td>1088.0</td>\n      <td>0.0</td>\n      <td>20236.0</td>\n      <td>1301.0</td>\n      <td>21537.0</td>\n      <td>21537.0</td>\n      <td>2789.666667</td>\n    </tr>\n    <tr>\n      <th>2</th>\n      <td>2</td>\n      <td>N1-2</td>\n      <td>Int.with Z1101 - Signboard (Left) R111 (Left)</td>\n      <td>LRPS</td>\n      <td>822</td>\n      <td>0.822</td>\n      <td>LRPS</td>\n      <td>4175</td>\n      <td>4.175</td>\n      <td>3.353</td>\n      <td>...</td>\n      <td>2508.0</td>\n      <td>436.0</td>\n      <td>213.0</td>\n      <td>1088.0</td>\n      <td>0.0</td>\n      <td>20236.0</td>\n      <td>1301.0</td>\n      <td>21537.0</td>\n      <td>21537.0</td>\n      <td>2789.666667</td>\n    </tr>\n    <tr>\n      <th>3</th>\n      <td>3</td>\n      <td>N1-2</td>\n      <td>Int.with Z1101 - Signboard (Left) R111 (Right)</td>\n      <td>LRPS</td>\n      <td>822</td>\n      <td>0.822</td>\n      <td>LRPS</td>\n      <td>4175</td>\n      <td>4.175</td>\n      <td>3.353</td>\n      <td>...</td>\n      <td>2980.0</td>\n      <td>398.0</td>\n      <td>232.0</td>\n      <td>889.0</td>\n      <td>0.0</td>\n      <td>18236.0</td>\n      <td>1121.0</td>\n      <td>19357.0</td>\n      <td>19357.0</td>\n      <td>2463.666667</td>\n    </tr>\n    <tr>\n      <th>4</th>\n      <td>4</td>\n      <td>N1-3</td>\n      <td>Signboard - Shimrail (Left)R110 (Left)</td>\n      <td>LRPS</td>\n      <td>4175</td>\n      <td>4.175</td>\n      <td>LRPS</td>\n      <td>7181</td>\n      <td>7.181</td>\n      <td>3.006</td>\n      <td>...</td>\n      <td>2266.0</td>\n      <td>1087.0</td>\n      <td>75.0</td>\n      <td>1198.0</td>\n      <td>0.0</td>\n      <td>16288.0</td>\n      <td>1273.0</td>\n      <td>17561.0</td>\n      <td>17561.0</td>\n      <td>1660.333333</td>\n    </tr>\n  </tbody>\n</table>\n<p>5 rows × 28 columns</p>\n</div>"
     },
     "execution_count": 7,
     "metadata": {},
     "output_type": "execute_result"
    }
   ],
   "source": [
    "df_traffic_N1.head()"
   ],
   "metadata": {
    "collapsed": false,
    "ExecuteTime": {
     "end_time": "2024-03-28T16:56:10.677563400Z",
     "start_time": "2024-03-28T16:56:10.642026800Z"
    }
   }
  },
  {
   "cell_type": "code",
   "execution_count": 8,
   "outputs": [],
   "source": [
    "df_traffic_N1[('Average Traffic Data', 'People')] = (df_traffic_N1[('Traffic Data', 'Large Bus')] + df_traffic_N1[('Traffic Data', 'Medium Bus')] + df_traffic_N1[('Traffic Data', 'Micro Bus')] + df_traffic_N1[('Traffic Data', 'Utility')] + df_traffic_N1[('Traffic Data', 'Car')] + df_traffic_N1[('Traffic Data', 'Motor Cycle')] + df_traffic_N1[('Traffic Data', 'Auto Rickshaw')])/7\n"
   ],
   "metadata": {
    "collapsed": false,
    "ExecuteTime": {
     "end_time": "2024-03-28T16:56:10.725296600Z",
     "start_time": "2024-03-28T16:56:10.652901700Z"
    }
   }
  },
  {
   "cell_type": "code",
   "execution_count": 9,
   "outputs": [
    {
     "data": {
      "text/plain": "  Unnamed: 0_level_0            Link no  \\\n  Unnamed: 0_level_1 Unnamed: 0_level_1   \n0                  0               N1-1   \n1                  1               N1-1   \n2                  2               N1-2   \n3                  3               N1-2   \n4                  4               N1-3   \n\n                                             Name Start location         \\\n                               Unnamed: 1_level_1            LRP Offset   \n0        Jatrabari - Int.with Z1101 (Left) (Left)           LRPS      0   \n1       Jatrabari - Int.with Z1101 (Left) (Right)           LRPS      0   \n2   Int.with Z1101 - Signboard (Left) R111 (Left)           LRPS    822   \n3  Int.with Z1101 - Signboard (Left) R111 (Right)           LRPS    822   \n4          Signboard - Shimrail (Left)R110 (Left)           LRPS   4175   \n\n           End location                 Length  ... Traffic Data           \\\n  Chainage          LRP Offset Chainage   (Km)  ...  Motor Cycle Bi-Cycle   \n0    0.000         LRPS    822    0.822  0.822  ...        398.0    232.0   \n1    0.000         LRPS    822    0.822  0.822  ...        436.0    213.0   \n2    0.822         LRPS   4175    4.175  3.353  ...        436.0    213.0   \n3    0.822         LRPS   4175    4.175  3.353  ...        398.0    232.0   \n4    4.175         LRPS   7181    7.181  3.006  ...       1087.0     75.0   \n\n                          Total                           Traffic  \\\n  Cycle Rickshaw Cart Motorized Non Motorized Total AADT   (AADT)   \n0          889.0  0.0   18236.0        1121.0    19357.0  19357.0   \n1         1088.0  0.0   20236.0        1301.0    21537.0  21537.0   \n2         1088.0  0.0   20236.0        1301.0    21537.0  21537.0   \n3          889.0  0.0   18236.0        1121.0    19357.0  19357.0   \n4         1198.0  0.0   16288.0        1273.0    17561.0  17561.0   \n\n  Average Traffic Data               \n                 Cargo       People  \n0          2463.666667  1549.285714  \n1          2789.666667  1695.285714  \n2          2789.666667  1695.285714  \n3          2463.666667  1549.285714  \n4          1660.333333  1615.285714  \n\n[5 rows x 29 columns]",
      "text/html": "<div>\n<style scoped>\n    .dataframe tbody tr th:only-of-type {\n        vertical-align: middle;\n    }\n\n    .dataframe tbody tr th {\n        vertical-align: top;\n    }\n\n    .dataframe thead tr th {\n        text-align: left;\n    }\n</style>\n<table border=\"1\" class=\"dataframe\">\n  <thead>\n    <tr>\n      <th></th>\n      <th>Unnamed: 0_level_0</th>\n      <th>Link no</th>\n      <th>Name</th>\n      <th colspan=\"3\" halign=\"left\">Start location</th>\n      <th colspan=\"3\" halign=\"left\">End location</th>\n      <th>Length</th>\n      <th>...</th>\n      <th colspan=\"4\" halign=\"left\">Traffic Data</th>\n      <th colspan=\"3\" halign=\"left\">Total</th>\n      <th>Traffic</th>\n      <th colspan=\"2\" halign=\"left\">Average Traffic Data</th>\n    </tr>\n    <tr>\n      <th></th>\n      <th>Unnamed: 0_level_1</th>\n      <th>Unnamed: 0_level_1</th>\n      <th>Unnamed: 1_level_1</th>\n      <th>LRP</th>\n      <th>Offset</th>\n      <th>Chainage</th>\n      <th>LRP</th>\n      <th>Offset</th>\n      <th>Chainage</th>\n      <th>(Km)</th>\n      <th>...</th>\n      <th>Motor Cycle</th>\n      <th>Bi-Cycle</th>\n      <th>Cycle Rickshaw</th>\n      <th>Cart</th>\n      <th>Motorized</th>\n      <th>Non Motorized</th>\n      <th>Total AADT</th>\n      <th>(AADT)</th>\n      <th>Cargo</th>\n      <th>People</th>\n    </tr>\n  </thead>\n  <tbody>\n    <tr>\n      <th>0</th>\n      <td>0</td>\n      <td>N1-1</td>\n      <td>Jatrabari - Int.with Z1101 (Left) (Left)</td>\n      <td>LRPS</td>\n      <td>0</td>\n      <td>0.000</td>\n      <td>LRPS</td>\n      <td>822</td>\n      <td>0.822</td>\n      <td>0.822</td>\n      <td>...</td>\n      <td>398.0</td>\n      <td>232.0</td>\n      <td>889.0</td>\n      <td>0.0</td>\n      <td>18236.0</td>\n      <td>1121.0</td>\n      <td>19357.0</td>\n      <td>19357.0</td>\n      <td>2463.666667</td>\n      <td>1549.285714</td>\n    </tr>\n    <tr>\n      <th>1</th>\n      <td>1</td>\n      <td>N1-1</td>\n      <td>Jatrabari - Int.with Z1101 (Left) (Right)</td>\n      <td>LRPS</td>\n      <td>0</td>\n      <td>0.000</td>\n      <td>LRPS</td>\n      <td>822</td>\n      <td>0.822</td>\n      <td>0.822</td>\n      <td>...</td>\n      <td>436.0</td>\n      <td>213.0</td>\n      <td>1088.0</td>\n      <td>0.0</td>\n      <td>20236.0</td>\n      <td>1301.0</td>\n      <td>21537.0</td>\n      <td>21537.0</td>\n      <td>2789.666667</td>\n      <td>1695.285714</td>\n    </tr>\n    <tr>\n      <th>2</th>\n      <td>2</td>\n      <td>N1-2</td>\n      <td>Int.with Z1101 - Signboard (Left) R111 (Left)</td>\n      <td>LRPS</td>\n      <td>822</td>\n      <td>0.822</td>\n      <td>LRPS</td>\n      <td>4175</td>\n      <td>4.175</td>\n      <td>3.353</td>\n      <td>...</td>\n      <td>436.0</td>\n      <td>213.0</td>\n      <td>1088.0</td>\n      <td>0.0</td>\n      <td>20236.0</td>\n      <td>1301.0</td>\n      <td>21537.0</td>\n      <td>21537.0</td>\n      <td>2789.666667</td>\n      <td>1695.285714</td>\n    </tr>\n    <tr>\n      <th>3</th>\n      <td>3</td>\n      <td>N1-2</td>\n      <td>Int.with Z1101 - Signboard (Left) R111 (Right)</td>\n      <td>LRPS</td>\n      <td>822</td>\n      <td>0.822</td>\n      <td>LRPS</td>\n      <td>4175</td>\n      <td>4.175</td>\n      <td>3.353</td>\n      <td>...</td>\n      <td>398.0</td>\n      <td>232.0</td>\n      <td>889.0</td>\n      <td>0.0</td>\n      <td>18236.0</td>\n      <td>1121.0</td>\n      <td>19357.0</td>\n      <td>19357.0</td>\n      <td>2463.666667</td>\n      <td>1549.285714</td>\n    </tr>\n    <tr>\n      <th>4</th>\n      <td>4</td>\n      <td>N1-3</td>\n      <td>Signboard - Shimrail (Left)R110 (Left)</td>\n      <td>LRPS</td>\n      <td>4175</td>\n      <td>4.175</td>\n      <td>LRPS</td>\n      <td>7181</td>\n      <td>7.181</td>\n      <td>3.006</td>\n      <td>...</td>\n      <td>1087.0</td>\n      <td>75.0</td>\n      <td>1198.0</td>\n      <td>0.0</td>\n      <td>16288.0</td>\n      <td>1273.0</td>\n      <td>17561.0</td>\n      <td>17561.0</td>\n      <td>1660.333333</td>\n      <td>1615.285714</td>\n    </tr>\n  </tbody>\n</table>\n<p>5 rows × 29 columns</p>\n</div>"
     },
     "execution_count": 9,
     "metadata": {},
     "output_type": "execute_result"
    }
   ],
   "source": [
    "df_traffic_N1.head()"
   ],
   "metadata": {
    "collapsed": false,
    "ExecuteTime": {
     "end_time": "2024-03-28T16:56:10.943997900Z",
     "start_time": "2024-03-28T16:56:10.660884700Z"
    }
   }
  },
  {
   "cell_type": "code",
   "execution_count": 10,
   "outputs": [],
   "source": [
    "df_traffic_N1 = df_traffic_N1.drop(columns = ['Heavy Truck', 'Medium Truck', 'Small Truck', 'Large Bus', 'Medium Bus', 'Micro Bus', 'Utility', 'Car', 'Auto Rickshaw', 'Motor Cycle', 'Bi-Cycle', 'Cycle Rickshaw', 'Cart'], level = 1)"
   ],
   "metadata": {
    "collapsed": false,
    "ExecuteTime": {
     "end_time": "2024-03-28T16:56:10.943997900Z",
     "start_time": "2024-03-28T16:56:10.696207400Z"
    }
   }
  },
  {
   "cell_type": "code",
   "execution_count": 11,
   "outputs": [
    {
     "data": {
      "text/plain": "  Unnamed: 0_level_0            Link no  \\\n  Unnamed: 0_level_1 Unnamed: 0_level_1   \n0                  0               N1-1   \n1                  1               N1-1   \n2                  2               N1-2   \n3                  3               N1-2   \n4                  4               N1-3   \n\n                                             Name Start location         \\\n                               Unnamed: 1_level_1            LRP Offset   \n0        Jatrabari - Int.with Z1101 (Left) (Left)           LRPS      0   \n1       Jatrabari - Int.with Z1101 (Left) (Right)           LRPS      0   \n2   Int.with Z1101 - Signboard (Left) R111 (Left)           LRPS    822   \n3  Int.with Z1101 - Signboard (Left) R111 (Right)           LRPS    822   \n4          Signboard - Shimrail (Left)R110 (Left)           LRPS   4175   \n\n           End location                 Length     Total                \\\n  Chainage          LRP Offset Chainage   (Km) Motorized Non Motorized   \n0    0.000         LRPS    822    0.822  0.822   18236.0        1121.0   \n1    0.000         LRPS    822    0.822  0.822   20236.0        1301.0   \n2    0.822         LRPS   4175    4.175  3.353   20236.0        1301.0   \n3    0.822         LRPS   4175    4.175  3.353   18236.0        1121.0   \n4    4.175         LRPS   7181    7.181  3.006   16288.0        1273.0   \n\n              Traffic Average Traffic Data               \n  Total AADT   (AADT)                Cargo       People  \n0    19357.0  19357.0          2463.666667  1549.285714  \n1    21537.0  21537.0          2789.666667  1695.285714  \n2    21537.0  21537.0          2789.666667  1695.285714  \n3    19357.0  19357.0          2463.666667  1549.285714  \n4    17561.0  17561.0          1660.333333  1615.285714  ",
      "text/html": "<div>\n<style scoped>\n    .dataframe tbody tr th:only-of-type {\n        vertical-align: middle;\n    }\n\n    .dataframe tbody tr th {\n        vertical-align: top;\n    }\n\n    .dataframe thead tr th {\n        text-align: left;\n    }\n</style>\n<table border=\"1\" class=\"dataframe\">\n  <thead>\n    <tr>\n      <th></th>\n      <th>Unnamed: 0_level_0</th>\n      <th>Link no</th>\n      <th>Name</th>\n      <th colspan=\"3\" halign=\"left\">Start location</th>\n      <th colspan=\"3\" halign=\"left\">End location</th>\n      <th>Length</th>\n      <th colspan=\"3\" halign=\"left\">Total</th>\n      <th>Traffic</th>\n      <th colspan=\"2\" halign=\"left\">Average Traffic Data</th>\n    </tr>\n    <tr>\n      <th></th>\n      <th>Unnamed: 0_level_1</th>\n      <th>Unnamed: 0_level_1</th>\n      <th>Unnamed: 1_level_1</th>\n      <th>LRP</th>\n      <th>Offset</th>\n      <th>Chainage</th>\n      <th>LRP</th>\n      <th>Offset</th>\n      <th>Chainage</th>\n      <th>(Km)</th>\n      <th>Motorized</th>\n      <th>Non Motorized</th>\n      <th>Total AADT</th>\n      <th>(AADT)</th>\n      <th>Cargo</th>\n      <th>People</th>\n    </tr>\n  </thead>\n  <tbody>\n    <tr>\n      <th>0</th>\n      <td>0</td>\n      <td>N1-1</td>\n      <td>Jatrabari - Int.with Z1101 (Left) (Left)</td>\n      <td>LRPS</td>\n      <td>0</td>\n      <td>0.000</td>\n      <td>LRPS</td>\n      <td>822</td>\n      <td>0.822</td>\n      <td>0.822</td>\n      <td>18236.0</td>\n      <td>1121.0</td>\n      <td>19357.0</td>\n      <td>19357.0</td>\n      <td>2463.666667</td>\n      <td>1549.285714</td>\n    </tr>\n    <tr>\n      <th>1</th>\n      <td>1</td>\n      <td>N1-1</td>\n      <td>Jatrabari - Int.with Z1101 (Left) (Right)</td>\n      <td>LRPS</td>\n      <td>0</td>\n      <td>0.000</td>\n      <td>LRPS</td>\n      <td>822</td>\n      <td>0.822</td>\n      <td>0.822</td>\n      <td>20236.0</td>\n      <td>1301.0</td>\n      <td>21537.0</td>\n      <td>21537.0</td>\n      <td>2789.666667</td>\n      <td>1695.285714</td>\n    </tr>\n    <tr>\n      <th>2</th>\n      <td>2</td>\n      <td>N1-2</td>\n      <td>Int.with Z1101 - Signboard (Left) R111 (Left)</td>\n      <td>LRPS</td>\n      <td>822</td>\n      <td>0.822</td>\n      <td>LRPS</td>\n      <td>4175</td>\n      <td>4.175</td>\n      <td>3.353</td>\n      <td>20236.0</td>\n      <td>1301.0</td>\n      <td>21537.0</td>\n      <td>21537.0</td>\n      <td>2789.666667</td>\n      <td>1695.285714</td>\n    </tr>\n    <tr>\n      <th>3</th>\n      <td>3</td>\n      <td>N1-2</td>\n      <td>Int.with Z1101 - Signboard (Left) R111 (Right)</td>\n      <td>LRPS</td>\n      <td>822</td>\n      <td>0.822</td>\n      <td>LRPS</td>\n      <td>4175</td>\n      <td>4.175</td>\n      <td>3.353</td>\n      <td>18236.0</td>\n      <td>1121.0</td>\n      <td>19357.0</td>\n      <td>19357.0</td>\n      <td>2463.666667</td>\n      <td>1549.285714</td>\n    </tr>\n    <tr>\n      <th>4</th>\n      <td>4</td>\n      <td>N1-3</td>\n      <td>Signboard - Shimrail (Left)R110 (Left)</td>\n      <td>LRPS</td>\n      <td>4175</td>\n      <td>4.175</td>\n      <td>LRPS</td>\n      <td>7181</td>\n      <td>7.181</td>\n      <td>3.006</td>\n      <td>16288.0</td>\n      <td>1273.0</td>\n      <td>17561.0</td>\n      <td>17561.0</td>\n      <td>1660.333333</td>\n      <td>1615.285714</td>\n    </tr>\n  </tbody>\n</table>\n</div>"
     },
     "execution_count": 11,
     "metadata": {},
     "output_type": "execute_result"
    }
   ],
   "source": [
    "df_traffic_N1.head()"
   ],
   "metadata": {
    "collapsed": false,
    "ExecuteTime": {
     "end_time": "2024-03-28T16:56:10.943997900Z",
     "start_time": "2024-03-28T16:56:10.702874100Z"
    }
   }
  },
  {
   "cell_type": "code",
   "execution_count": 12,
   "outputs": [],
   "source": [
    "#compute average chainage\n",
    "df_traffic_N1[('Average Traffic Data', 'Average Chainage')] = (df_traffic_N1[('Start location', 'Chainage')] + df_traffic_N1[('End location', 'Chainage')]) / 2"
   ],
   "metadata": {
    "collapsed": false,
    "ExecuteTime": {
     "end_time": "2024-03-28T16:56:10.943997900Z",
     "start_time": "2024-03-28T16:56:10.730585800Z"
    }
   }
  },
  {
   "cell_type": "code",
   "execution_count": 13,
   "outputs": [
    {
     "data": {
      "text/plain": "  Unnamed: 0_level_0            Link no  \\\n  Unnamed: 0_level_1 Unnamed: 0_level_1   \n0                  0               N1-1   \n1                  1               N1-1   \n2                  2               N1-2   \n3                  3               N1-2   \n4                  4               N1-3   \n\n                                             Name Start location         \\\n                               Unnamed: 1_level_1            LRP Offset   \n0        Jatrabari - Int.with Z1101 (Left) (Left)           LRPS      0   \n1       Jatrabari - Int.with Z1101 (Left) (Right)           LRPS      0   \n2   Int.with Z1101 - Signboard (Left) R111 (Left)           LRPS    822   \n3  Int.with Z1101 - Signboard (Left) R111 (Right)           LRPS    822   \n4          Signboard - Shimrail (Left)R110 (Left)           LRPS   4175   \n\n           End location                 Length     Total                \\\n  Chainage          LRP Offset Chainage   (Km) Motorized Non Motorized   \n0    0.000         LRPS    822    0.822  0.822   18236.0        1121.0   \n1    0.000         LRPS    822    0.822  0.822   20236.0        1301.0   \n2    0.822         LRPS   4175    4.175  3.353   20236.0        1301.0   \n3    0.822         LRPS   4175    4.175  3.353   18236.0        1121.0   \n4    4.175         LRPS   7181    7.181  3.006   16288.0        1273.0   \n\n              Traffic Average Traffic Data                                \n  Total AADT   (AADT)                Cargo       People Average Chainage  \n0    19357.0  19357.0          2463.666667  1549.285714           0.4110  \n1    21537.0  21537.0          2789.666667  1695.285714           0.4110  \n2    21537.0  21537.0          2789.666667  1695.285714           2.4985  \n3    19357.0  19357.0          2463.666667  1549.285714           2.4985  \n4    17561.0  17561.0          1660.333333  1615.285714           5.6780  ",
      "text/html": "<div>\n<style scoped>\n    .dataframe tbody tr th:only-of-type {\n        vertical-align: middle;\n    }\n\n    .dataframe tbody tr th {\n        vertical-align: top;\n    }\n\n    .dataframe thead tr th {\n        text-align: left;\n    }\n</style>\n<table border=\"1\" class=\"dataframe\">\n  <thead>\n    <tr>\n      <th></th>\n      <th>Unnamed: 0_level_0</th>\n      <th>Link no</th>\n      <th>Name</th>\n      <th colspan=\"3\" halign=\"left\">Start location</th>\n      <th colspan=\"3\" halign=\"left\">End location</th>\n      <th>Length</th>\n      <th colspan=\"3\" halign=\"left\">Total</th>\n      <th>Traffic</th>\n      <th colspan=\"3\" halign=\"left\">Average Traffic Data</th>\n    </tr>\n    <tr>\n      <th></th>\n      <th>Unnamed: 0_level_1</th>\n      <th>Unnamed: 0_level_1</th>\n      <th>Unnamed: 1_level_1</th>\n      <th>LRP</th>\n      <th>Offset</th>\n      <th>Chainage</th>\n      <th>LRP</th>\n      <th>Offset</th>\n      <th>Chainage</th>\n      <th>(Km)</th>\n      <th>Motorized</th>\n      <th>Non Motorized</th>\n      <th>Total AADT</th>\n      <th>(AADT)</th>\n      <th>Cargo</th>\n      <th>People</th>\n      <th>Average Chainage</th>\n    </tr>\n  </thead>\n  <tbody>\n    <tr>\n      <th>0</th>\n      <td>0</td>\n      <td>N1-1</td>\n      <td>Jatrabari - Int.with Z1101 (Left) (Left)</td>\n      <td>LRPS</td>\n      <td>0</td>\n      <td>0.000</td>\n      <td>LRPS</td>\n      <td>822</td>\n      <td>0.822</td>\n      <td>0.822</td>\n      <td>18236.0</td>\n      <td>1121.0</td>\n      <td>19357.0</td>\n      <td>19357.0</td>\n      <td>2463.666667</td>\n      <td>1549.285714</td>\n      <td>0.4110</td>\n    </tr>\n    <tr>\n      <th>1</th>\n      <td>1</td>\n      <td>N1-1</td>\n      <td>Jatrabari - Int.with Z1101 (Left) (Right)</td>\n      <td>LRPS</td>\n      <td>0</td>\n      <td>0.000</td>\n      <td>LRPS</td>\n      <td>822</td>\n      <td>0.822</td>\n      <td>0.822</td>\n      <td>20236.0</td>\n      <td>1301.0</td>\n      <td>21537.0</td>\n      <td>21537.0</td>\n      <td>2789.666667</td>\n      <td>1695.285714</td>\n      <td>0.4110</td>\n    </tr>\n    <tr>\n      <th>2</th>\n      <td>2</td>\n      <td>N1-2</td>\n      <td>Int.with Z1101 - Signboard (Left) R111 (Left)</td>\n      <td>LRPS</td>\n      <td>822</td>\n      <td>0.822</td>\n      <td>LRPS</td>\n      <td>4175</td>\n      <td>4.175</td>\n      <td>3.353</td>\n      <td>20236.0</td>\n      <td>1301.0</td>\n      <td>21537.0</td>\n      <td>21537.0</td>\n      <td>2789.666667</td>\n      <td>1695.285714</td>\n      <td>2.4985</td>\n    </tr>\n    <tr>\n      <th>3</th>\n      <td>3</td>\n      <td>N1-2</td>\n      <td>Int.with Z1101 - Signboard (Left) R111 (Right)</td>\n      <td>LRPS</td>\n      <td>822</td>\n      <td>0.822</td>\n      <td>LRPS</td>\n      <td>4175</td>\n      <td>4.175</td>\n      <td>3.353</td>\n      <td>18236.0</td>\n      <td>1121.0</td>\n      <td>19357.0</td>\n      <td>19357.0</td>\n      <td>2463.666667</td>\n      <td>1549.285714</td>\n      <td>2.4985</td>\n    </tr>\n    <tr>\n      <th>4</th>\n      <td>4</td>\n      <td>N1-3</td>\n      <td>Signboard - Shimrail (Left)R110 (Left)</td>\n      <td>LRPS</td>\n      <td>4175</td>\n      <td>4.175</td>\n      <td>LRPS</td>\n      <td>7181</td>\n      <td>7.181</td>\n      <td>3.006</td>\n      <td>16288.0</td>\n      <td>1273.0</td>\n      <td>17561.0</td>\n      <td>17561.0</td>\n      <td>1660.333333</td>\n      <td>1615.285714</td>\n      <td>5.6780</td>\n    </tr>\n  </tbody>\n</table>\n</div>"
     },
     "execution_count": 13,
     "metadata": {},
     "output_type": "execute_result"
    }
   ],
   "source": [
    "df_traffic_N1.head()"
   ],
   "metadata": {
    "collapsed": false,
    "ExecuteTime": {
     "end_time": "2024-03-28T16:56:11.114005800Z",
     "start_time": "2024-03-28T16:56:10.745724100Z"
    }
   }
  },
  {
   "cell_type": "code",
   "execution_count": 14,
   "outputs": [
    {
     "data": {
      "text/plain": "    Unnamed: 0_level_0            Link no  \\\n    Unnamed: 0_level_1 Unnamed: 0_level_1   \n0                    0               N1-1   \n1                    1               N1-1   \n2                    2               N1-2   \n3                    3               N1-2   \n4                    4               N1-3   \n..                 ...                ...   \n100                100               N1-6   \n101                101               N1-6   \n102                102               N1-6   \n103                103               N1-6   \n104                104               N1-6   \n\n                                               Name Start location         \\\n                                 Unnamed: 1_level_1            LRP Offset   \n0          Jatrabari - Int.with Z1101 (Left) (Left)           LRPS      0   \n1         Jatrabari - Int.with Z1101 (Left) (Right)           LRPS      0   \n2     Int.with Z1101 - Signboard (Left) R111 (Left)           LRPS    822   \n3    Int.with Z1101 - Signboard (Left) R111 (Right)           LRPS    822   \n4            Signboard - Shimrail (Left)R110 (Left)           LRPS   4175   \n..                                              ...            ...    ...   \n100          Coxsbazar Link Road N110-Maricha Z1009         LRP386    724   \n101             Maricha Z1009-Ukhia Dakbanglo Z1503         LRP403    217   \n102            Ukhia Dakbanglo Z1503 - Gundum Z1504         LRP413    300   \n103              GundumGundum Z1504 - Whykong Z1133         LRP420    900   \n104                          Whykong Z1133 - Teknaf         LRP433    521   \n\n             End location                  Length     Total                \\\n    Chainage          LRP Offset Chainage    (Km) Motorized Non Motorized   \n0      0.000         LRPS    822    0.822   0.822   18236.0        1121.0   \n1      0.000         LRPS    822    0.822   0.822   20236.0        1301.0   \n2      0.822         LRPS   4175    4.175   3.353   20236.0        1301.0   \n3      0.822         LRPS   4175    4.175   3.353   18236.0        1121.0   \n4      4.175         LRPS   7181    7.181   3.006   16288.0        1273.0   \n..       ...          ...    ...      ...     ...       ...           ...   \n100  381.481       LRP403    217  398.205  16.724    4681.0        1139.0   \n101  398.205       LRP413    300  408.434  10.229    4681.0        1139.0   \n102  408.434       LRP420    900  416.044   7.610    4681.0        1139.0   \n103  416.044       LRP433    521  428.908  12.864    4681.0        1139.0   \n104  428.908       LRP467    130  462.254  33.346    4681.0        1139.0   \n\n                Traffic Average Traffic Data                                \n    Total AADT   (AADT)                Cargo       People Average Chainage  \n0      19357.0  19357.0          2463.666667  1549.285714           0.4110  \n1      21537.0  21537.0          2789.666667  1695.285714           0.4110  \n2      21537.0  21537.0          2789.666667  1695.285714           2.4985  \n3      19357.0  19357.0          2463.666667  1549.285714           2.4985  \n4      17561.0  17561.0          1660.333333  1615.285714           5.6780  \n..         ...      ...                  ...          ...              ...  \n100     5820.0   5820.0           205.333333   580.714286         389.8430  \n101     5820.0   5820.0           205.333333   580.714286         403.3195  \n102     5820.0   5820.0           205.333333   580.714286         412.2390  \n103     5820.0   5820.0           205.333333   580.714286         422.4760  \n104     5820.0   5820.0           205.333333   580.714286         445.5810  \n\n[105 rows x 17 columns]",
      "text/html": "<div>\n<style scoped>\n    .dataframe tbody tr th:only-of-type {\n        vertical-align: middle;\n    }\n\n    .dataframe tbody tr th {\n        vertical-align: top;\n    }\n\n    .dataframe thead tr th {\n        text-align: left;\n    }\n</style>\n<table border=\"1\" class=\"dataframe\">\n  <thead>\n    <tr>\n      <th></th>\n      <th>Unnamed: 0_level_0</th>\n      <th>Link no</th>\n      <th>Name</th>\n      <th colspan=\"3\" halign=\"left\">Start location</th>\n      <th colspan=\"3\" halign=\"left\">End location</th>\n      <th>Length</th>\n      <th colspan=\"3\" halign=\"left\">Total</th>\n      <th>Traffic</th>\n      <th colspan=\"3\" halign=\"left\">Average Traffic Data</th>\n    </tr>\n    <tr>\n      <th></th>\n      <th>Unnamed: 0_level_1</th>\n      <th>Unnamed: 0_level_1</th>\n      <th>Unnamed: 1_level_1</th>\n      <th>LRP</th>\n      <th>Offset</th>\n      <th>Chainage</th>\n      <th>LRP</th>\n      <th>Offset</th>\n      <th>Chainage</th>\n      <th>(Km)</th>\n      <th>Motorized</th>\n      <th>Non Motorized</th>\n      <th>Total AADT</th>\n      <th>(AADT)</th>\n      <th>Cargo</th>\n      <th>People</th>\n      <th>Average Chainage</th>\n    </tr>\n  </thead>\n  <tbody>\n    <tr>\n      <th>0</th>\n      <td>0</td>\n      <td>N1-1</td>\n      <td>Jatrabari - Int.with Z1101 (Left) (Left)</td>\n      <td>LRPS</td>\n      <td>0</td>\n      <td>0.000</td>\n      <td>LRPS</td>\n      <td>822</td>\n      <td>0.822</td>\n      <td>0.822</td>\n      <td>18236.0</td>\n      <td>1121.0</td>\n      <td>19357.0</td>\n      <td>19357.0</td>\n      <td>2463.666667</td>\n      <td>1549.285714</td>\n      <td>0.4110</td>\n    </tr>\n    <tr>\n      <th>1</th>\n      <td>1</td>\n      <td>N1-1</td>\n      <td>Jatrabari - Int.with Z1101 (Left) (Right)</td>\n      <td>LRPS</td>\n      <td>0</td>\n      <td>0.000</td>\n      <td>LRPS</td>\n      <td>822</td>\n      <td>0.822</td>\n      <td>0.822</td>\n      <td>20236.0</td>\n      <td>1301.0</td>\n      <td>21537.0</td>\n      <td>21537.0</td>\n      <td>2789.666667</td>\n      <td>1695.285714</td>\n      <td>0.4110</td>\n    </tr>\n    <tr>\n      <th>2</th>\n      <td>2</td>\n      <td>N1-2</td>\n      <td>Int.with Z1101 - Signboard (Left) R111 (Left)</td>\n      <td>LRPS</td>\n      <td>822</td>\n      <td>0.822</td>\n      <td>LRPS</td>\n      <td>4175</td>\n      <td>4.175</td>\n      <td>3.353</td>\n      <td>20236.0</td>\n      <td>1301.0</td>\n      <td>21537.0</td>\n      <td>21537.0</td>\n      <td>2789.666667</td>\n      <td>1695.285714</td>\n      <td>2.4985</td>\n    </tr>\n    <tr>\n      <th>3</th>\n      <td>3</td>\n      <td>N1-2</td>\n      <td>Int.with Z1101 - Signboard (Left) R111 (Right)</td>\n      <td>LRPS</td>\n      <td>822</td>\n      <td>0.822</td>\n      <td>LRPS</td>\n      <td>4175</td>\n      <td>4.175</td>\n      <td>3.353</td>\n      <td>18236.0</td>\n      <td>1121.0</td>\n      <td>19357.0</td>\n      <td>19357.0</td>\n      <td>2463.666667</td>\n      <td>1549.285714</td>\n      <td>2.4985</td>\n    </tr>\n    <tr>\n      <th>4</th>\n      <td>4</td>\n      <td>N1-3</td>\n      <td>Signboard - Shimrail (Left)R110 (Left)</td>\n      <td>LRPS</td>\n      <td>4175</td>\n      <td>4.175</td>\n      <td>LRPS</td>\n      <td>7181</td>\n      <td>7.181</td>\n      <td>3.006</td>\n      <td>16288.0</td>\n      <td>1273.0</td>\n      <td>17561.0</td>\n      <td>17561.0</td>\n      <td>1660.333333</td>\n      <td>1615.285714</td>\n      <td>5.6780</td>\n    </tr>\n    <tr>\n      <th>...</th>\n      <td>...</td>\n      <td>...</td>\n      <td>...</td>\n      <td>...</td>\n      <td>...</td>\n      <td>...</td>\n      <td>...</td>\n      <td>...</td>\n      <td>...</td>\n      <td>...</td>\n      <td>...</td>\n      <td>...</td>\n      <td>...</td>\n      <td>...</td>\n      <td>...</td>\n      <td>...</td>\n      <td>...</td>\n    </tr>\n    <tr>\n      <th>100</th>\n      <td>100</td>\n      <td>N1-6</td>\n      <td>Coxsbazar Link Road N110-Maricha Z1009</td>\n      <td>LRP386</td>\n      <td>724</td>\n      <td>381.481</td>\n      <td>LRP403</td>\n      <td>217</td>\n      <td>398.205</td>\n      <td>16.724</td>\n      <td>4681.0</td>\n      <td>1139.0</td>\n      <td>5820.0</td>\n      <td>5820.0</td>\n      <td>205.333333</td>\n      <td>580.714286</td>\n      <td>389.8430</td>\n    </tr>\n    <tr>\n      <th>101</th>\n      <td>101</td>\n      <td>N1-6</td>\n      <td>Maricha Z1009-Ukhia Dakbanglo Z1503</td>\n      <td>LRP403</td>\n      <td>217</td>\n      <td>398.205</td>\n      <td>LRP413</td>\n      <td>300</td>\n      <td>408.434</td>\n      <td>10.229</td>\n      <td>4681.0</td>\n      <td>1139.0</td>\n      <td>5820.0</td>\n      <td>5820.0</td>\n      <td>205.333333</td>\n      <td>580.714286</td>\n      <td>403.3195</td>\n    </tr>\n    <tr>\n      <th>102</th>\n      <td>102</td>\n      <td>N1-6</td>\n      <td>Ukhia Dakbanglo Z1503 - Gundum Z1504</td>\n      <td>LRP413</td>\n      <td>300</td>\n      <td>408.434</td>\n      <td>LRP420</td>\n      <td>900</td>\n      <td>416.044</td>\n      <td>7.610</td>\n      <td>4681.0</td>\n      <td>1139.0</td>\n      <td>5820.0</td>\n      <td>5820.0</td>\n      <td>205.333333</td>\n      <td>580.714286</td>\n      <td>412.2390</td>\n    </tr>\n    <tr>\n      <th>103</th>\n      <td>103</td>\n      <td>N1-6</td>\n      <td>GundumGundum Z1504 - Whykong Z1133</td>\n      <td>LRP420</td>\n      <td>900</td>\n      <td>416.044</td>\n      <td>LRP433</td>\n      <td>521</td>\n      <td>428.908</td>\n      <td>12.864</td>\n      <td>4681.0</td>\n      <td>1139.0</td>\n      <td>5820.0</td>\n      <td>5820.0</td>\n      <td>205.333333</td>\n      <td>580.714286</td>\n      <td>422.4760</td>\n    </tr>\n    <tr>\n      <th>104</th>\n      <td>104</td>\n      <td>N1-6</td>\n      <td>Whykong Z1133 - Teknaf</td>\n      <td>LRP433</td>\n      <td>521</td>\n      <td>428.908</td>\n      <td>LRP467</td>\n      <td>130</td>\n      <td>462.254</td>\n      <td>33.346</td>\n      <td>4681.0</td>\n      <td>1139.0</td>\n      <td>5820.0</td>\n      <td>5820.0</td>\n      <td>205.333333</td>\n      <td>580.714286</td>\n      <td>445.5810</td>\n    </tr>\n  </tbody>\n</table>\n<p>105 rows × 17 columns</p>\n</div>"
     },
     "execution_count": 14,
     "metadata": {},
     "output_type": "execute_result"
    }
   ],
   "source": [
    "duplicates = df_traffic_N1[df_traffic_N1.duplicated([('Link no', 'Unnamed: 0_level_1')], keep = False)]\n",
    "duplicates"
   ],
   "metadata": {
    "collapsed": false,
    "ExecuteTime": {
     "end_time": "2024-03-28T16:56:11.176558800Z",
     "start_time": "2024-03-28T16:56:10.772726600Z"
    }
   }
  },
  {
   "cell_type": "code",
   "execution_count": 15,
   "outputs": [],
   "source": [
    "df_traffic_N1_copy = df_traffic_N1.copy()"
   ],
   "metadata": {
    "collapsed": false,
    "ExecuteTime": {
     "end_time": "2024-03-28T16:56:11.176558800Z",
     "start_time": "2024-03-28T16:56:10.805575900Z"
    }
   }
  },
  {
   "cell_type": "code",
   "execution_count": 16,
   "outputs": [
    {
     "ename": "ValueError",
     "evalue": "Grouper for 'Link no' not 1-dimensional",
     "output_type": "error",
     "traceback": [
      "\u001B[1;31m---------------------------------------------------------------------------\u001B[0m",
      "\u001B[1;31mValueError\u001B[0m                                Traceback (most recent call last)",
      "Cell \u001B[1;32mIn[16], line 2\u001B[0m\n\u001B[0;32m      1\u001B[0m \u001B[38;5;66;03m#make a new column, average cargo, that computes the average for the two directions of a link by grouping by link no for cargo average traffic data\u001B[39;00m\n\u001B[1;32m----> 2\u001B[0m df_traffic_N1_copy[(\u001B[38;5;124m'\u001B[39m\u001B[38;5;124mAverage Traffic Data\u001B[39m\u001B[38;5;124m'\u001B[39m, \u001B[38;5;124m'\u001B[39m\u001B[38;5;124mAverage Cargo\u001B[39m\u001B[38;5;124m'\u001B[39m)] \u001B[38;5;241m=\u001B[39m \u001B[43mdf_traffic_N1_copy\u001B[49m\u001B[38;5;241;43m.\u001B[39;49m\u001B[43mgroupby\u001B[49m\u001B[43m(\u001B[49m\u001B[38;5;124;43m'\u001B[39;49m\u001B[38;5;124;43mLink no\u001B[39;49m\u001B[38;5;124;43m'\u001B[39;49m\u001B[43m)\u001B[49m[\u001B[38;5;124m'\u001B[39m\u001B[38;5;124mAverage Traffic Data\u001B[39m\u001B[38;5;124m'\u001B[39m, \u001B[38;5;124m'\u001B[39m\u001B[38;5;124mCargo\u001B[39m\u001B[38;5;124m'\u001B[39m]\u001B[38;5;241m.\u001B[39mtransform(\u001B[38;5;124m'\u001B[39m\u001B[38;5;124mmean\u001B[39m\u001B[38;5;124m'\u001B[39m)\n",
      "File \u001B[1;32m~\\EPA133A-G07-A4\\venv\\Lib\\site-packages\\pandas\\core\\frame.py:8869\u001B[0m, in \u001B[0;36mDataFrame.groupby\u001B[1;34m(self, by, axis, level, as_index, sort, group_keys, observed, dropna)\u001B[0m\n\u001B[0;32m   8866\u001B[0m \u001B[38;5;28;01mif\u001B[39;00m level \u001B[38;5;129;01mis\u001B[39;00m \u001B[38;5;28;01mNone\u001B[39;00m \u001B[38;5;129;01mand\u001B[39;00m by \u001B[38;5;129;01mis\u001B[39;00m \u001B[38;5;28;01mNone\u001B[39;00m:\n\u001B[0;32m   8867\u001B[0m     \u001B[38;5;28;01mraise\u001B[39;00m \u001B[38;5;167;01mTypeError\u001B[39;00m(\u001B[38;5;124m\"\u001B[39m\u001B[38;5;124mYou have to supply one of \u001B[39m\u001B[38;5;124m'\u001B[39m\u001B[38;5;124mby\u001B[39m\u001B[38;5;124m'\u001B[39m\u001B[38;5;124m and \u001B[39m\u001B[38;5;124m'\u001B[39m\u001B[38;5;124mlevel\u001B[39m\u001B[38;5;124m'\u001B[39m\u001B[38;5;124m\"\u001B[39m)\n\u001B[1;32m-> 8869\u001B[0m \u001B[38;5;28;01mreturn\u001B[39;00m \u001B[43mDataFrameGroupBy\u001B[49m\u001B[43m(\u001B[49m\n\u001B[0;32m   8870\u001B[0m \u001B[43m    \u001B[49m\u001B[43mobj\u001B[49m\u001B[38;5;241;43m=\u001B[39;49m\u001B[38;5;28;43mself\u001B[39;49m\u001B[43m,\u001B[49m\n\u001B[0;32m   8871\u001B[0m \u001B[43m    \u001B[49m\u001B[43mkeys\u001B[49m\u001B[38;5;241;43m=\u001B[39;49m\u001B[43mby\u001B[49m\u001B[43m,\u001B[49m\n\u001B[0;32m   8872\u001B[0m \u001B[43m    \u001B[49m\u001B[43maxis\u001B[49m\u001B[38;5;241;43m=\u001B[39;49m\u001B[43maxis\u001B[49m\u001B[43m,\u001B[49m\n\u001B[0;32m   8873\u001B[0m \u001B[43m    \u001B[49m\u001B[43mlevel\u001B[49m\u001B[38;5;241;43m=\u001B[39;49m\u001B[43mlevel\u001B[49m\u001B[43m,\u001B[49m\n\u001B[0;32m   8874\u001B[0m \u001B[43m    \u001B[49m\u001B[43mas_index\u001B[49m\u001B[38;5;241;43m=\u001B[39;49m\u001B[43mas_index\u001B[49m\u001B[43m,\u001B[49m\n\u001B[0;32m   8875\u001B[0m \u001B[43m    \u001B[49m\u001B[43msort\u001B[49m\u001B[38;5;241;43m=\u001B[39;49m\u001B[43msort\u001B[49m\u001B[43m,\u001B[49m\n\u001B[0;32m   8876\u001B[0m \u001B[43m    \u001B[49m\u001B[43mgroup_keys\u001B[49m\u001B[38;5;241;43m=\u001B[39;49m\u001B[43mgroup_keys\u001B[49m\u001B[43m,\u001B[49m\n\u001B[0;32m   8877\u001B[0m \u001B[43m    \u001B[49m\u001B[43mobserved\u001B[49m\u001B[38;5;241;43m=\u001B[39;49m\u001B[43mobserved\u001B[49m\u001B[43m,\u001B[49m\n\u001B[0;32m   8878\u001B[0m \u001B[43m    \u001B[49m\u001B[43mdropna\u001B[49m\u001B[38;5;241;43m=\u001B[39;49m\u001B[43mdropna\u001B[49m\u001B[43m,\u001B[49m\n\u001B[0;32m   8879\u001B[0m \u001B[43m\u001B[49m\u001B[43m)\u001B[49m\n",
      "File \u001B[1;32m~\\EPA133A-G07-A4\\venv\\Lib\\site-packages\\pandas\\core\\groupby\\groupby.py:1278\u001B[0m, in \u001B[0;36mGroupBy.__init__\u001B[1;34m(self, obj, keys, axis, level, grouper, exclusions, selection, as_index, sort, group_keys, observed, dropna)\u001B[0m\n\u001B[0;32m   1275\u001B[0m \u001B[38;5;28mself\u001B[39m\u001B[38;5;241m.\u001B[39mdropna \u001B[38;5;241m=\u001B[39m dropna\n\u001B[0;32m   1277\u001B[0m \u001B[38;5;28;01mif\u001B[39;00m grouper \u001B[38;5;129;01mis\u001B[39;00m \u001B[38;5;28;01mNone\u001B[39;00m:\n\u001B[1;32m-> 1278\u001B[0m     grouper, exclusions, obj \u001B[38;5;241m=\u001B[39m \u001B[43mget_grouper\u001B[49m\u001B[43m(\u001B[49m\n\u001B[0;32m   1279\u001B[0m \u001B[43m        \u001B[49m\u001B[43mobj\u001B[49m\u001B[43m,\u001B[49m\n\u001B[0;32m   1280\u001B[0m \u001B[43m        \u001B[49m\u001B[43mkeys\u001B[49m\u001B[43m,\u001B[49m\n\u001B[0;32m   1281\u001B[0m \u001B[43m        \u001B[49m\u001B[43maxis\u001B[49m\u001B[38;5;241;43m=\u001B[39;49m\u001B[43maxis\u001B[49m\u001B[43m,\u001B[49m\n\u001B[0;32m   1282\u001B[0m \u001B[43m        \u001B[49m\u001B[43mlevel\u001B[49m\u001B[38;5;241;43m=\u001B[39;49m\u001B[43mlevel\u001B[49m\u001B[43m,\u001B[49m\n\u001B[0;32m   1283\u001B[0m \u001B[43m        \u001B[49m\u001B[43msort\u001B[49m\u001B[38;5;241;43m=\u001B[39;49m\u001B[43msort\u001B[49m\u001B[43m,\u001B[49m\n\u001B[0;32m   1284\u001B[0m \u001B[43m        \u001B[49m\u001B[43mobserved\u001B[49m\u001B[38;5;241;43m=\u001B[39;49m\u001B[38;5;28;43;01mFalse\u001B[39;49;00m\u001B[43m \u001B[49m\u001B[38;5;28;43;01mif\u001B[39;49;00m\u001B[43m \u001B[49m\u001B[43mobserved\u001B[49m\u001B[43m \u001B[49m\u001B[38;5;129;43;01mis\u001B[39;49;00m\u001B[43m \u001B[49m\u001B[43mlib\u001B[49m\u001B[38;5;241;43m.\u001B[39;49m\u001B[43mno_default\u001B[49m\u001B[43m \u001B[49m\u001B[38;5;28;43;01melse\u001B[39;49;00m\u001B[43m \u001B[49m\u001B[43mobserved\u001B[49m\u001B[43m,\u001B[49m\n\u001B[0;32m   1285\u001B[0m \u001B[43m        \u001B[49m\u001B[43mdropna\u001B[49m\u001B[38;5;241;43m=\u001B[39;49m\u001B[38;5;28;43mself\u001B[39;49m\u001B[38;5;241;43m.\u001B[39;49m\u001B[43mdropna\u001B[49m\u001B[43m,\u001B[49m\n\u001B[0;32m   1286\u001B[0m \u001B[43m    \u001B[49m\u001B[43m)\u001B[49m\n\u001B[0;32m   1288\u001B[0m \u001B[38;5;28;01mif\u001B[39;00m observed \u001B[38;5;129;01mis\u001B[39;00m lib\u001B[38;5;241m.\u001B[39mno_default:\n\u001B[0;32m   1289\u001B[0m     \u001B[38;5;28;01mif\u001B[39;00m \u001B[38;5;28many\u001B[39m(ping\u001B[38;5;241m.\u001B[39m_passed_categorical \u001B[38;5;28;01mfor\u001B[39;00m ping \u001B[38;5;129;01min\u001B[39;00m grouper\u001B[38;5;241m.\u001B[39mgroupings):\n",
      "File \u001B[1;32m~\\EPA133A-G07-A4\\venv\\Lib\\site-packages\\pandas\\core\\groupby\\grouper.py:1004\u001B[0m, in \u001B[0;36mget_grouper\u001B[1;34m(obj, key, axis, level, sort, observed, validate, dropna)\u001B[0m\n\u001B[0;32m   1000\u001B[0m     in_axis, name, gpr \u001B[38;5;241m=\u001B[39m \u001B[38;5;28;01mTrue\u001B[39;00m, gpr, obj[gpr]\n\u001B[0;32m   1001\u001B[0m     \u001B[38;5;28;01mif\u001B[39;00m gpr\u001B[38;5;241m.\u001B[39mndim \u001B[38;5;241m!=\u001B[39m \u001B[38;5;241m1\u001B[39m:\n\u001B[0;32m   1002\u001B[0m         \u001B[38;5;66;03m# non-unique columns; raise here to get the name in the\u001B[39;00m\n\u001B[0;32m   1003\u001B[0m         \u001B[38;5;66;03m# exception message\u001B[39;00m\n\u001B[1;32m-> 1004\u001B[0m         \u001B[38;5;28;01mraise\u001B[39;00m \u001B[38;5;167;01mValueError\u001B[39;00m(\u001B[38;5;124mf\u001B[39m\u001B[38;5;124m\"\u001B[39m\u001B[38;5;124mGrouper for \u001B[39m\u001B[38;5;124m'\u001B[39m\u001B[38;5;132;01m{\u001B[39;00mname\u001B[38;5;132;01m}\u001B[39;00m\u001B[38;5;124m'\u001B[39m\u001B[38;5;124m not 1-dimensional\u001B[39m\u001B[38;5;124m\"\u001B[39m)\n\u001B[0;32m   1005\u001B[0m     exclusions\u001B[38;5;241m.\u001B[39madd(name)\n\u001B[0;32m   1006\u001B[0m \u001B[38;5;28;01melif\u001B[39;00m obj\u001B[38;5;241m.\u001B[39m_is_level_reference(gpr, axis\u001B[38;5;241m=\u001B[39maxis):\n",
      "\u001B[1;31mValueError\u001B[0m: Grouper for 'Link no' not 1-dimensional"
     ]
    }
   ],
   "source": [
    "#make a new column, average cargo, that computes the average for the two directions of a link by grouping by link no for cargo average traffic data\n",
    "df_traffic_N1_copy[('Average Traffic Data', 'Average Cargo')] = df_traffic_N1_copy.groupby('Link no')['Average Traffic Data', 'Cargo'].transform('mean')"
   ],
   "metadata": {
    "collapsed": false,
    "ExecuteTime": {
     "end_time": "2024-03-28T16:56:13.033854100Z",
     "start_time": "2024-03-28T16:56:10.814891200Z"
    }
   }
  },
  {
   "cell_type": "code",
   "execution_count": null,
   "outputs": [],
   "source": [
    "#also do the same for average people vehicles\n",
    "# df_traffic_N1_copy[('Average Traffic Data', 'Average Cargo')] = df_traffic_N1_copy.groupby('Link no')['Average Traffic Data', 'Cargo'].transform('mean')"
   ],
   "metadata": {
    "collapsed": false,
    "ExecuteTime": {
     "start_time": "2024-03-28T16:56:12.225927500Z"
    }
   }
  },
  {
   "cell_type": "code",
   "execution_count": null,
   "outputs": [],
   "source": [],
   "metadata": {
    "collapsed": false,
    "ExecuteTime": {
     "start_time": "2024-03-28T16:56:12.228941Z"
    }
   }
  }
 ],
 "metadata": {
  "kernelspec": {
   "display_name": "Python 3",
   "language": "python",
   "name": "python3"
  },
  "language_info": {
   "codemirror_mode": {
    "name": "ipython",
    "version": 2
   },
   "file_extension": ".py",
   "mimetype": "text/x-python",
   "name": "python",
   "nbconvert_exporter": "python",
   "pygments_lexer": "ipython2",
   "version": "2.7.6"
  }
 },
 "nbformat": 4,
 "nbformat_minor": 0
}
