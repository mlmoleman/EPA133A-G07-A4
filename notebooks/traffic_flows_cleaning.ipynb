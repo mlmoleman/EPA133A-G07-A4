{
 "cells": [
  {
   "cell_type": "code",
   "execution_count": 1,
   "outputs": [],
   "source": [
    "import pandas as pd"
   ],
   "metadata": {
    "collapsed": false,
    "ExecuteTime": {
     "end_time": "2024-03-28T21:12:02.885554200Z",
     "start_time": "2024-03-28T21:12:02.122979800Z"
    }
   }
  },
  {
   "cell_type": "code",
   "execution_count": 2,
   "metadata": {
    "collapsed": true,
    "ExecuteTime": {
     "end_time": "2024-03-28T21:12:03.375304800Z",
     "start_time": "2024-03-28T21:12:03.335545200Z"
    }
   },
   "outputs": [],
   "source": [
    "df_traffic_N1 = pd.read_csv(\"../data/traffic_N1.csv\", header=[0,1])\n",
    "df_traffic_N2 = pd.read_csv('../data/traffic_N2.csv', header=[0,1])\n",
    "df_traffic_N102 = pd.read_csv('../data/traffic_N102.csv', header=[0,1])\n",
    "df_traffic_N104 = pd.read_csv('../data/traffic_N104.csv', header=[0,1])\n",
    "df_traffic_N105 = pd.read_csv('../data/traffic_N105.csv', header=[0,1])\n",
    "df_traffic_N8 = pd.read_csv('../data/traffic_N8.csv', header=[0,1])\n",
    "df_traffic_N204 = pd.read_csv('../data/traffic_N204.csv', header=[0,1])\n",
    "df_traffic_N207 = pd.read_csv('../data/traffic_N207.csv', header=[0,1])\n",
    "df_traffic_N208 = pd.read_csv('../data/traffic_N208.csv', header=[0,1])"
   ]
  },
  {
   "cell_type": "code",
   "execution_count": 3,
   "outputs": [
    {
     "data": {
      "text/plain": "    Unnamed: 0_level_0            Link no  \\\n    Unnamed: 0_level_1 Unnamed: 0_level_1   \n0                    0              N1-1L   \n1                    1              N1-1R   \n2                    2              N1-2L   \n3                    3              N1-2R   \n4                    4              N1-3L   \n..                 ...                ...   \n100                100              N1-65   \n101                101              N1-66   \n102                102              N1-67   \n103                103              N1-68   \n104                104              N1-69   \n\n                                               Name Start location         \\\n                                 Unnamed: 1_level_1            LRP Offset   \n0          Jatrabari - Int.with Z1101 (Left) (Left)           LRPS      0   \n1         Jatrabari - Int.with Z1101 (Left) (Right)           LRPS      0   \n2     Int.with Z1101 - Signboard (Left) R111 (Left)           LRPS    822   \n3    Int.with Z1101 - Signboard (Left) R111 (Right)           LRPS    822   \n4            Signboard - Shimrail (Left)R110 (Left)           LRPS   4175   \n..                                              ...            ...    ...   \n100          Coxsbazar Link Road N110-Maricha Z1009         LRP386    724   \n101             Maricha Z1009-Ukhia Dakbanglo Z1503         LRP403    217   \n102            Ukhia Dakbanglo Z1503 - Gundum Z1504         LRP413    300   \n103              GundumGundum Z1504 - Whykong Z1133         LRP420    900   \n104                          Whykong Z1133 - Teknaf         LRP433    521   \n\n             End location                  Length  ... Traffic Data  \\\n    Chainage          LRP Offset Chainage    (Km)  ...          Car   \n0      0.000         LRPS    822    0.822   0.822  ...       1851.0   \n1      0.000         LRPS    822    0.822   0.822  ...       2608.0   \n2      0.822         LRPS   4175    4.175   3.353  ...       2608.0   \n3      0.822         LRPS   4175    4.175   3.353  ...       1851.0   \n4      4.175         LRPS   7181    7.181   3.006  ...       1690.0   \n..       ...          ...    ...      ...     ...  ...          ...   \n100  381.481       LRP403    217  398.205  16.724  ...        142.0   \n101  398.205       LRP413    300  408.434  10.229  ...        142.0   \n102  408.434       LRP420    900  416.044   7.610  ...        142.0   \n103  416.044       LRP433    521  428.908  12.864  ...        142.0   \n104  428.908       LRP467    130  462.254  33.346  ...        142.0   \n\n                                                               Total  \\\n    Auto Rickshaw Motor Cycle Bi-Cycle Cycle Rickshaw Cart Motorized   \n0          2980.0       398.0    232.0          889.0  0.0   18236.0   \n1          2508.0       436.0    213.0         1088.0  0.0   20236.0   \n2          2508.0       436.0    213.0         1088.0  0.0   20236.0   \n3          2980.0       398.0    232.0          889.0  0.0   18236.0   \n4          2266.0      1087.0     75.0         1198.0  0.0   16288.0   \n..            ...         ...      ...            ...  ...       ...   \n100        2476.0       419.0     97.0         1042.0  0.0    4681.0   \n101        2476.0       419.0     97.0         1042.0  0.0    4681.0   \n102        2476.0       419.0     97.0         1042.0  0.0    4681.0   \n103        2476.0       419.0     97.0         1042.0  0.0    4681.0   \n104        2476.0       419.0     97.0         1042.0  0.0    4681.0   \n\n                              Traffic  \n    Non Motorized Total AADT   (AADT)  \n0          1121.0    19357.0  19357.0  \n1          1301.0    21537.0  21537.0  \n2          1301.0    21537.0  21537.0  \n3          1121.0    19357.0  19357.0  \n4          1273.0    17561.0  17561.0  \n..            ...        ...      ...  \n100        1139.0     5820.0   5820.0  \n101        1139.0     5820.0   5820.0  \n102        1139.0     5820.0   5820.0  \n103        1139.0     5820.0   5820.0  \n104        1139.0     5820.0   5820.0  \n\n[105 rows x 27 columns]",
      "text/html": "<div>\n<style scoped>\n    .dataframe tbody tr th:only-of-type {\n        vertical-align: middle;\n    }\n\n    .dataframe tbody tr th {\n        vertical-align: top;\n    }\n\n    .dataframe thead tr th {\n        text-align: left;\n    }\n</style>\n<table border=\"1\" class=\"dataframe\">\n  <thead>\n    <tr>\n      <th></th>\n      <th>Unnamed: 0_level_0</th>\n      <th>Link no</th>\n      <th>Name</th>\n      <th colspan=\"3\" halign=\"left\">Start location</th>\n      <th colspan=\"3\" halign=\"left\">End location</th>\n      <th>Length</th>\n      <th>...</th>\n      <th colspan=\"6\" halign=\"left\">Traffic Data</th>\n      <th colspan=\"3\" halign=\"left\">Total</th>\n      <th>Traffic</th>\n    </tr>\n    <tr>\n      <th></th>\n      <th>Unnamed: 0_level_1</th>\n      <th>Unnamed: 0_level_1</th>\n      <th>Unnamed: 1_level_1</th>\n      <th>LRP</th>\n      <th>Offset</th>\n      <th>Chainage</th>\n      <th>LRP</th>\n      <th>Offset</th>\n      <th>Chainage</th>\n      <th>(Km)</th>\n      <th>...</th>\n      <th>Car</th>\n      <th>Auto Rickshaw</th>\n      <th>Motor Cycle</th>\n      <th>Bi-Cycle</th>\n      <th>Cycle Rickshaw</th>\n      <th>Cart</th>\n      <th>Motorized</th>\n      <th>Non Motorized</th>\n      <th>Total AADT</th>\n      <th>(AADT)</th>\n    </tr>\n  </thead>\n  <tbody>\n    <tr>\n      <th>0</th>\n      <td>0</td>\n      <td>N1-1L</td>\n      <td>Jatrabari - Int.with Z1101 (Left) (Left)</td>\n      <td>LRPS</td>\n      <td>0</td>\n      <td>0.000</td>\n      <td>LRPS</td>\n      <td>822</td>\n      <td>0.822</td>\n      <td>0.822</td>\n      <td>...</td>\n      <td>1851.0</td>\n      <td>2980.0</td>\n      <td>398.0</td>\n      <td>232.0</td>\n      <td>889.0</td>\n      <td>0.0</td>\n      <td>18236.0</td>\n      <td>1121.0</td>\n      <td>19357.0</td>\n      <td>19357.0</td>\n    </tr>\n    <tr>\n      <th>1</th>\n      <td>1</td>\n      <td>N1-1R</td>\n      <td>Jatrabari - Int.with Z1101 (Left) (Right)</td>\n      <td>LRPS</td>\n      <td>0</td>\n      <td>0.000</td>\n      <td>LRPS</td>\n      <td>822</td>\n      <td>0.822</td>\n      <td>0.822</td>\n      <td>...</td>\n      <td>2608.0</td>\n      <td>2508.0</td>\n      <td>436.0</td>\n      <td>213.0</td>\n      <td>1088.0</td>\n      <td>0.0</td>\n      <td>20236.0</td>\n      <td>1301.0</td>\n      <td>21537.0</td>\n      <td>21537.0</td>\n    </tr>\n    <tr>\n      <th>2</th>\n      <td>2</td>\n      <td>N1-2L</td>\n      <td>Int.with Z1101 - Signboard (Left) R111 (Left)</td>\n      <td>LRPS</td>\n      <td>822</td>\n      <td>0.822</td>\n      <td>LRPS</td>\n      <td>4175</td>\n      <td>4.175</td>\n      <td>3.353</td>\n      <td>...</td>\n      <td>2608.0</td>\n      <td>2508.0</td>\n      <td>436.0</td>\n      <td>213.0</td>\n      <td>1088.0</td>\n      <td>0.0</td>\n      <td>20236.0</td>\n      <td>1301.0</td>\n      <td>21537.0</td>\n      <td>21537.0</td>\n    </tr>\n    <tr>\n      <th>3</th>\n      <td>3</td>\n      <td>N1-2R</td>\n      <td>Int.with Z1101 - Signboard (Left) R111 (Right)</td>\n      <td>LRPS</td>\n      <td>822</td>\n      <td>0.822</td>\n      <td>LRPS</td>\n      <td>4175</td>\n      <td>4.175</td>\n      <td>3.353</td>\n      <td>...</td>\n      <td>1851.0</td>\n      <td>2980.0</td>\n      <td>398.0</td>\n      <td>232.0</td>\n      <td>889.0</td>\n      <td>0.0</td>\n      <td>18236.0</td>\n      <td>1121.0</td>\n      <td>19357.0</td>\n      <td>19357.0</td>\n    </tr>\n    <tr>\n      <th>4</th>\n      <td>4</td>\n      <td>N1-3L</td>\n      <td>Signboard - Shimrail (Left)R110 (Left)</td>\n      <td>LRPS</td>\n      <td>4175</td>\n      <td>4.175</td>\n      <td>LRPS</td>\n      <td>7181</td>\n      <td>7.181</td>\n      <td>3.006</td>\n      <td>...</td>\n      <td>1690.0</td>\n      <td>2266.0</td>\n      <td>1087.0</td>\n      <td>75.0</td>\n      <td>1198.0</td>\n      <td>0.0</td>\n      <td>16288.0</td>\n      <td>1273.0</td>\n      <td>17561.0</td>\n      <td>17561.0</td>\n    </tr>\n    <tr>\n      <th>...</th>\n      <td>...</td>\n      <td>...</td>\n      <td>...</td>\n      <td>...</td>\n      <td>...</td>\n      <td>...</td>\n      <td>...</td>\n      <td>...</td>\n      <td>...</td>\n      <td>...</td>\n      <td>...</td>\n      <td>...</td>\n      <td>...</td>\n      <td>...</td>\n      <td>...</td>\n      <td>...</td>\n      <td>...</td>\n      <td>...</td>\n      <td>...</td>\n      <td>...</td>\n      <td>...</td>\n    </tr>\n    <tr>\n      <th>100</th>\n      <td>100</td>\n      <td>N1-65</td>\n      <td>Coxsbazar Link Road N110-Maricha Z1009</td>\n      <td>LRP386</td>\n      <td>724</td>\n      <td>381.481</td>\n      <td>LRP403</td>\n      <td>217</td>\n      <td>398.205</td>\n      <td>16.724</td>\n      <td>...</td>\n      <td>142.0</td>\n      <td>2476.0</td>\n      <td>419.0</td>\n      <td>97.0</td>\n      <td>1042.0</td>\n      <td>0.0</td>\n      <td>4681.0</td>\n      <td>1139.0</td>\n      <td>5820.0</td>\n      <td>5820.0</td>\n    </tr>\n    <tr>\n      <th>101</th>\n      <td>101</td>\n      <td>N1-66</td>\n      <td>Maricha Z1009-Ukhia Dakbanglo Z1503</td>\n      <td>LRP403</td>\n      <td>217</td>\n      <td>398.205</td>\n      <td>LRP413</td>\n      <td>300</td>\n      <td>408.434</td>\n      <td>10.229</td>\n      <td>...</td>\n      <td>142.0</td>\n      <td>2476.0</td>\n      <td>419.0</td>\n      <td>97.0</td>\n      <td>1042.0</td>\n      <td>0.0</td>\n      <td>4681.0</td>\n      <td>1139.0</td>\n      <td>5820.0</td>\n      <td>5820.0</td>\n    </tr>\n    <tr>\n      <th>102</th>\n      <td>102</td>\n      <td>N1-67</td>\n      <td>Ukhia Dakbanglo Z1503 - Gundum Z1504</td>\n      <td>LRP413</td>\n      <td>300</td>\n      <td>408.434</td>\n      <td>LRP420</td>\n      <td>900</td>\n      <td>416.044</td>\n      <td>7.610</td>\n      <td>...</td>\n      <td>142.0</td>\n      <td>2476.0</td>\n      <td>419.0</td>\n      <td>97.0</td>\n      <td>1042.0</td>\n      <td>0.0</td>\n      <td>4681.0</td>\n      <td>1139.0</td>\n      <td>5820.0</td>\n      <td>5820.0</td>\n    </tr>\n    <tr>\n      <th>103</th>\n      <td>103</td>\n      <td>N1-68</td>\n      <td>GundumGundum Z1504 - Whykong Z1133</td>\n      <td>LRP420</td>\n      <td>900</td>\n      <td>416.044</td>\n      <td>LRP433</td>\n      <td>521</td>\n      <td>428.908</td>\n      <td>12.864</td>\n      <td>...</td>\n      <td>142.0</td>\n      <td>2476.0</td>\n      <td>419.0</td>\n      <td>97.0</td>\n      <td>1042.0</td>\n      <td>0.0</td>\n      <td>4681.0</td>\n      <td>1139.0</td>\n      <td>5820.0</td>\n      <td>5820.0</td>\n    </tr>\n    <tr>\n      <th>104</th>\n      <td>104</td>\n      <td>N1-69</td>\n      <td>Whykong Z1133 - Teknaf</td>\n      <td>LRP433</td>\n      <td>521</td>\n      <td>428.908</td>\n      <td>LRP467</td>\n      <td>130</td>\n      <td>462.254</td>\n      <td>33.346</td>\n      <td>...</td>\n      <td>142.0</td>\n      <td>2476.0</td>\n      <td>419.0</td>\n      <td>97.0</td>\n      <td>1042.0</td>\n      <td>0.0</td>\n      <td>4681.0</td>\n      <td>1139.0</td>\n      <td>5820.0</td>\n      <td>5820.0</td>\n    </tr>\n  </tbody>\n</table>\n<p>105 rows × 27 columns</p>\n</div>"
     },
     "execution_count": 3,
     "metadata": {},
     "output_type": "execute_result"
    }
   ],
   "source": [
    "df_traffic_N1"
   ],
   "metadata": {
    "collapsed": false,
    "ExecuteTime": {
     "end_time": "2024-03-28T20:12:29.181758800Z",
     "start_time": "2024-03-28T20:12:29.071188900Z"
    }
   }
  },
  {
   "cell_type": "code",
   "execution_count": 9,
   "outputs": [
    {
     "data": {
      "text/plain": "Index(['Unnamed: 0_level_0', 'Link no', 'Name', 'Start location',\n       'Start location', 'Start location', 'End location', 'End location',\n       'End location', 'Length', 'Traffic Data', 'Traffic Data',\n       'Traffic Data', 'Traffic Data', 'Traffic Data', 'Traffic Data',\n       'Traffic Data', 'Traffic Data', 'Traffic Data', 'Traffic Data',\n       'Traffic Data', 'Traffic Data', 'Traffic Data', 'Total', 'Total',\n       'Total', 'Traffic'],\n      dtype='object')"
     },
     "execution_count": 9,
     "metadata": {},
     "output_type": "execute_result"
    }
   ],
   "source": [
    "df_traffic_N1.columns.get_level_values(0)"
   ],
   "metadata": {
    "collapsed": false,
    "ExecuteTime": {
     "end_time": "2024-03-28T21:14:21.320202400Z",
     "start_time": "2024-03-28T21:14:21.312998900Z"
    }
   }
  },
  {
   "cell_type": "code",
   "execution_count": 4,
   "outputs": [],
   "source": [
    "# #1. removing L/R from rows\n",
    "# df_traffic_N1[('Link no', 'Unnamed: 0_level_1')] =df_traffic_N1[('Link no', 'Unnamed: 0_level_1')].apply(lambda x: x[:-1] if x[:-1] == 'L' or x[:-1] == 'R' else x)\n",
    "# #"
   ],
   "metadata": {
    "collapsed": false,
    "ExecuteTime": {
     "end_time": "2024-03-28T20:12:29.250388200Z",
     "start_time": "2024-03-28T20:12:29.202190400Z"
    }
   }
  },
  {
   "cell_type": "code",
   "execution_count": 5,
   "outputs": [
    {
     "data": {
      "text/plain": "    Unnamed: 0_level_0            Link no  \\\n    Unnamed: 0_level_1 Unnamed: 0_level_1   \n0                    0              N1-1L   \n1                    1              N1-1R   \n2                    2              N1-2L   \n3                    3              N1-2R   \n4                    4              N1-3L   \n..                 ...                ...   \n100                100              N1-65   \n101                101              N1-66   \n102                102              N1-67   \n103                103              N1-68   \n104                104              N1-69   \n\n                                               Name Start location         \\\n                                 Unnamed: 1_level_1            LRP Offset   \n0          Jatrabari - Int.with Z1101 (Left) (Left)           LRPS      0   \n1         Jatrabari - Int.with Z1101 (Left) (Right)           LRPS      0   \n2     Int.with Z1101 - Signboard (Left) R111 (Left)           LRPS    822   \n3    Int.with Z1101 - Signboard (Left) R111 (Right)           LRPS    822   \n4            Signboard - Shimrail (Left)R110 (Left)           LRPS   4175   \n..                                              ...            ...    ...   \n100          Coxsbazar Link Road N110-Maricha Z1009         LRP386    724   \n101             Maricha Z1009-Ukhia Dakbanglo Z1503         LRP403    217   \n102            Ukhia Dakbanglo Z1503 - Gundum Z1504         LRP413    300   \n103              GundumGundum Z1504 - Whykong Z1133         LRP420    900   \n104                          Whykong Z1133 - Teknaf         LRP433    521   \n\n             End location                  Length  ... Traffic Data  \\\n    Chainage          LRP Offset Chainage    (Km)  ...          Car   \n0      0.000         LRPS    822    0.822   0.822  ...       1851.0   \n1      0.000         LRPS    822    0.822   0.822  ...       2608.0   \n2      0.822         LRPS   4175    4.175   3.353  ...       2608.0   \n3      0.822         LRPS   4175    4.175   3.353  ...       1851.0   \n4      4.175         LRPS   7181    7.181   3.006  ...       1690.0   \n..       ...          ...    ...      ...     ...  ...          ...   \n100  381.481       LRP403    217  398.205  16.724  ...        142.0   \n101  398.205       LRP413    300  408.434  10.229  ...        142.0   \n102  408.434       LRP420    900  416.044   7.610  ...        142.0   \n103  416.044       LRP433    521  428.908  12.864  ...        142.0   \n104  428.908       LRP467    130  462.254  33.346  ...        142.0   \n\n                                                               Total  \\\n    Auto Rickshaw Motor Cycle Bi-Cycle Cycle Rickshaw Cart Motorized   \n0          2980.0       398.0    232.0          889.0  0.0   18236.0   \n1          2508.0       436.0    213.0         1088.0  0.0   20236.0   \n2          2508.0       436.0    213.0         1088.0  0.0   20236.0   \n3          2980.0       398.0    232.0          889.0  0.0   18236.0   \n4          2266.0      1087.0     75.0         1198.0  0.0   16288.0   \n..            ...         ...      ...            ...  ...       ...   \n100        2476.0       419.0     97.0         1042.0  0.0    4681.0   \n101        2476.0       419.0     97.0         1042.0  0.0    4681.0   \n102        2476.0       419.0     97.0         1042.0  0.0    4681.0   \n103        2476.0       419.0     97.0         1042.0  0.0    4681.0   \n104        2476.0       419.0     97.0         1042.0  0.0    4681.0   \n\n                              Traffic  \n    Non Motorized Total AADT   (AADT)  \n0          1121.0    19357.0  19357.0  \n1          1301.0    21537.0  21537.0  \n2          1301.0    21537.0  21537.0  \n3          1121.0    19357.0  19357.0  \n4          1273.0    17561.0  17561.0  \n..            ...        ...      ...  \n100        1139.0     5820.0   5820.0  \n101        1139.0     5820.0   5820.0  \n102        1139.0     5820.0   5820.0  \n103        1139.0     5820.0   5820.0  \n104        1139.0     5820.0   5820.0  \n\n[105 rows x 27 columns]",
      "text/html": "<div>\n<style scoped>\n    .dataframe tbody tr th:only-of-type {\n        vertical-align: middle;\n    }\n\n    .dataframe tbody tr th {\n        vertical-align: top;\n    }\n\n    .dataframe thead tr th {\n        text-align: left;\n    }\n</style>\n<table border=\"1\" class=\"dataframe\">\n  <thead>\n    <tr>\n      <th></th>\n      <th>Unnamed: 0_level_0</th>\n      <th>Link no</th>\n      <th>Name</th>\n      <th colspan=\"3\" halign=\"left\">Start location</th>\n      <th colspan=\"3\" halign=\"left\">End location</th>\n      <th>Length</th>\n      <th>...</th>\n      <th colspan=\"6\" halign=\"left\">Traffic Data</th>\n      <th colspan=\"3\" halign=\"left\">Total</th>\n      <th>Traffic</th>\n    </tr>\n    <tr>\n      <th></th>\n      <th>Unnamed: 0_level_1</th>\n      <th>Unnamed: 0_level_1</th>\n      <th>Unnamed: 1_level_1</th>\n      <th>LRP</th>\n      <th>Offset</th>\n      <th>Chainage</th>\n      <th>LRP</th>\n      <th>Offset</th>\n      <th>Chainage</th>\n      <th>(Km)</th>\n      <th>...</th>\n      <th>Car</th>\n      <th>Auto Rickshaw</th>\n      <th>Motor Cycle</th>\n      <th>Bi-Cycle</th>\n      <th>Cycle Rickshaw</th>\n      <th>Cart</th>\n      <th>Motorized</th>\n      <th>Non Motorized</th>\n      <th>Total AADT</th>\n      <th>(AADT)</th>\n    </tr>\n  </thead>\n  <tbody>\n    <tr>\n      <th>0</th>\n      <td>0</td>\n      <td>N1-1L</td>\n      <td>Jatrabari - Int.with Z1101 (Left) (Left)</td>\n      <td>LRPS</td>\n      <td>0</td>\n      <td>0.000</td>\n      <td>LRPS</td>\n      <td>822</td>\n      <td>0.822</td>\n      <td>0.822</td>\n      <td>...</td>\n      <td>1851.0</td>\n      <td>2980.0</td>\n      <td>398.0</td>\n      <td>232.0</td>\n      <td>889.0</td>\n      <td>0.0</td>\n      <td>18236.0</td>\n      <td>1121.0</td>\n      <td>19357.0</td>\n      <td>19357.0</td>\n    </tr>\n    <tr>\n      <th>1</th>\n      <td>1</td>\n      <td>N1-1R</td>\n      <td>Jatrabari - Int.with Z1101 (Left) (Right)</td>\n      <td>LRPS</td>\n      <td>0</td>\n      <td>0.000</td>\n      <td>LRPS</td>\n      <td>822</td>\n      <td>0.822</td>\n      <td>0.822</td>\n      <td>...</td>\n      <td>2608.0</td>\n      <td>2508.0</td>\n      <td>436.0</td>\n      <td>213.0</td>\n      <td>1088.0</td>\n      <td>0.0</td>\n      <td>20236.0</td>\n      <td>1301.0</td>\n      <td>21537.0</td>\n      <td>21537.0</td>\n    </tr>\n    <tr>\n      <th>2</th>\n      <td>2</td>\n      <td>N1-2L</td>\n      <td>Int.with Z1101 - Signboard (Left) R111 (Left)</td>\n      <td>LRPS</td>\n      <td>822</td>\n      <td>0.822</td>\n      <td>LRPS</td>\n      <td>4175</td>\n      <td>4.175</td>\n      <td>3.353</td>\n      <td>...</td>\n      <td>2608.0</td>\n      <td>2508.0</td>\n      <td>436.0</td>\n      <td>213.0</td>\n      <td>1088.0</td>\n      <td>0.0</td>\n      <td>20236.0</td>\n      <td>1301.0</td>\n      <td>21537.0</td>\n      <td>21537.0</td>\n    </tr>\n    <tr>\n      <th>3</th>\n      <td>3</td>\n      <td>N1-2R</td>\n      <td>Int.with Z1101 - Signboard (Left) R111 (Right)</td>\n      <td>LRPS</td>\n      <td>822</td>\n      <td>0.822</td>\n      <td>LRPS</td>\n      <td>4175</td>\n      <td>4.175</td>\n      <td>3.353</td>\n      <td>...</td>\n      <td>1851.0</td>\n      <td>2980.0</td>\n      <td>398.0</td>\n      <td>232.0</td>\n      <td>889.0</td>\n      <td>0.0</td>\n      <td>18236.0</td>\n      <td>1121.0</td>\n      <td>19357.0</td>\n      <td>19357.0</td>\n    </tr>\n    <tr>\n      <th>4</th>\n      <td>4</td>\n      <td>N1-3L</td>\n      <td>Signboard - Shimrail (Left)R110 (Left)</td>\n      <td>LRPS</td>\n      <td>4175</td>\n      <td>4.175</td>\n      <td>LRPS</td>\n      <td>7181</td>\n      <td>7.181</td>\n      <td>3.006</td>\n      <td>...</td>\n      <td>1690.0</td>\n      <td>2266.0</td>\n      <td>1087.0</td>\n      <td>75.0</td>\n      <td>1198.0</td>\n      <td>0.0</td>\n      <td>16288.0</td>\n      <td>1273.0</td>\n      <td>17561.0</td>\n      <td>17561.0</td>\n    </tr>\n    <tr>\n      <th>...</th>\n      <td>...</td>\n      <td>...</td>\n      <td>...</td>\n      <td>...</td>\n      <td>...</td>\n      <td>...</td>\n      <td>...</td>\n      <td>...</td>\n      <td>...</td>\n      <td>...</td>\n      <td>...</td>\n      <td>...</td>\n      <td>...</td>\n      <td>...</td>\n      <td>...</td>\n      <td>...</td>\n      <td>...</td>\n      <td>...</td>\n      <td>...</td>\n      <td>...</td>\n      <td>...</td>\n    </tr>\n    <tr>\n      <th>100</th>\n      <td>100</td>\n      <td>N1-65</td>\n      <td>Coxsbazar Link Road N110-Maricha Z1009</td>\n      <td>LRP386</td>\n      <td>724</td>\n      <td>381.481</td>\n      <td>LRP403</td>\n      <td>217</td>\n      <td>398.205</td>\n      <td>16.724</td>\n      <td>...</td>\n      <td>142.0</td>\n      <td>2476.0</td>\n      <td>419.0</td>\n      <td>97.0</td>\n      <td>1042.0</td>\n      <td>0.0</td>\n      <td>4681.0</td>\n      <td>1139.0</td>\n      <td>5820.0</td>\n      <td>5820.0</td>\n    </tr>\n    <tr>\n      <th>101</th>\n      <td>101</td>\n      <td>N1-66</td>\n      <td>Maricha Z1009-Ukhia Dakbanglo Z1503</td>\n      <td>LRP403</td>\n      <td>217</td>\n      <td>398.205</td>\n      <td>LRP413</td>\n      <td>300</td>\n      <td>408.434</td>\n      <td>10.229</td>\n      <td>...</td>\n      <td>142.0</td>\n      <td>2476.0</td>\n      <td>419.0</td>\n      <td>97.0</td>\n      <td>1042.0</td>\n      <td>0.0</td>\n      <td>4681.0</td>\n      <td>1139.0</td>\n      <td>5820.0</td>\n      <td>5820.0</td>\n    </tr>\n    <tr>\n      <th>102</th>\n      <td>102</td>\n      <td>N1-67</td>\n      <td>Ukhia Dakbanglo Z1503 - Gundum Z1504</td>\n      <td>LRP413</td>\n      <td>300</td>\n      <td>408.434</td>\n      <td>LRP420</td>\n      <td>900</td>\n      <td>416.044</td>\n      <td>7.610</td>\n      <td>...</td>\n      <td>142.0</td>\n      <td>2476.0</td>\n      <td>419.0</td>\n      <td>97.0</td>\n      <td>1042.0</td>\n      <td>0.0</td>\n      <td>4681.0</td>\n      <td>1139.0</td>\n      <td>5820.0</td>\n      <td>5820.0</td>\n    </tr>\n    <tr>\n      <th>103</th>\n      <td>103</td>\n      <td>N1-68</td>\n      <td>GundumGundum Z1504 - Whykong Z1133</td>\n      <td>LRP420</td>\n      <td>900</td>\n      <td>416.044</td>\n      <td>LRP433</td>\n      <td>521</td>\n      <td>428.908</td>\n      <td>12.864</td>\n      <td>...</td>\n      <td>142.0</td>\n      <td>2476.0</td>\n      <td>419.0</td>\n      <td>97.0</td>\n      <td>1042.0</td>\n      <td>0.0</td>\n      <td>4681.0</td>\n      <td>1139.0</td>\n      <td>5820.0</td>\n      <td>5820.0</td>\n    </tr>\n    <tr>\n      <th>104</th>\n      <td>104</td>\n      <td>N1-69</td>\n      <td>Whykong Z1133 - Teknaf</td>\n      <td>LRP433</td>\n      <td>521</td>\n      <td>428.908</td>\n      <td>LRP467</td>\n      <td>130</td>\n      <td>462.254</td>\n      <td>33.346</td>\n      <td>...</td>\n      <td>142.0</td>\n      <td>2476.0</td>\n      <td>419.0</td>\n      <td>97.0</td>\n      <td>1042.0</td>\n      <td>0.0</td>\n      <td>4681.0</td>\n      <td>1139.0</td>\n      <td>5820.0</td>\n      <td>5820.0</td>\n    </tr>\n  </tbody>\n</table>\n<p>105 rows × 27 columns</p>\n</div>"
     },
     "execution_count": 5,
     "metadata": {},
     "output_type": "execute_result"
    }
   ],
   "source": [
    "df_traffic_N1"
   ],
   "metadata": {
    "collapsed": false,
    "ExecuteTime": {
     "end_time": "2024-03-28T20:12:29.628911800Z",
     "start_time": "2024-03-28T20:12:29.228030500Z"
    }
   }
  },
  {
   "cell_type": "code",
   "execution_count": 6,
   "outputs": [],
   "source": [
    "#2. Make two transport categories: cargo and people\n",
    "df_traffic_N1[('Aggregate Traffic Data', 'Total Cargo')] = (df_traffic_N1[('Traffic Data', 'Heavy Truck')] + df_traffic_N1[('Traffic Data', 'Medium Truck')] + df_traffic_N1[('Traffic Data', 'Small Truck')])\n"
   ],
   "metadata": {
    "collapsed": false,
    "ExecuteTime": {
     "end_time": "2024-03-28T20:12:29.628911800Z",
     "start_time": "2024-03-28T20:12:29.325398100Z"
    }
   }
  },
  {
   "cell_type": "code",
   "execution_count": 7,
   "outputs": [
    {
     "data": {
      "text/plain": "  Unnamed: 0_level_0            Link no  \\\n  Unnamed: 0_level_1 Unnamed: 0_level_1   \n0                  0              N1-1L   \n1                  1              N1-1R   \n2                  2              N1-2L   \n3                  3              N1-2R   \n4                  4              N1-3L   \n\n                                             Name Start location         \\\n                               Unnamed: 1_level_1            LRP Offset   \n0        Jatrabari - Int.with Z1101 (Left) (Left)           LRPS      0   \n1       Jatrabari - Int.with Z1101 (Left) (Right)           LRPS      0   \n2   Int.with Z1101 - Signboard (Left) R111 (Left)           LRPS    822   \n3  Int.with Z1101 - Signboard (Left) R111 (Right)           LRPS    822   \n4          Signboard - Shimrail (Left)R110 (Left)           LRPS   4175   \n\n           End location                 Length  ...  Traffic Data              \\\n  Chainage          LRP Offset Chainage   (Km)  ... Auto Rickshaw Motor Cycle   \n0    0.000         LRPS    822    0.822  0.822  ...        2980.0       398.0   \n1    0.000         LRPS    822    0.822  0.822  ...        2508.0       436.0   \n2    0.822         LRPS   4175    4.175  3.353  ...        2508.0       436.0   \n3    0.822         LRPS   4175    4.175  3.353  ...        2980.0       398.0   \n4    4.175         LRPS   7181    7.181  3.006  ...        2266.0      1087.0   \n\n                                   Total                           Traffic  \\\n  Bi-Cycle Cycle Rickshaw Cart Motorized Non Motorized Total AADT   (AADT)   \n0    232.0          889.0  0.0   18236.0        1121.0    19357.0  19357.0   \n1    213.0         1088.0  0.0   20236.0        1301.0    21537.0  21537.0   \n2    213.0         1088.0  0.0   20236.0        1301.0    21537.0  21537.0   \n3    232.0          889.0  0.0   18236.0        1121.0    19357.0  19357.0   \n4     75.0         1198.0  0.0   16288.0        1273.0    17561.0  17561.0   \n\n  Aggregate Traffic Data  \n             Total Cargo  \n0                 7391.0  \n1                 8369.0  \n2                 8369.0  \n3                 7391.0  \n4                 4981.0  \n\n[5 rows x 28 columns]",
      "text/html": "<div>\n<style scoped>\n    .dataframe tbody tr th:only-of-type {\n        vertical-align: middle;\n    }\n\n    .dataframe tbody tr th {\n        vertical-align: top;\n    }\n\n    .dataframe thead tr th {\n        text-align: left;\n    }\n</style>\n<table border=\"1\" class=\"dataframe\">\n  <thead>\n    <tr>\n      <th></th>\n      <th>Unnamed: 0_level_0</th>\n      <th>Link no</th>\n      <th>Name</th>\n      <th colspan=\"3\" halign=\"left\">Start location</th>\n      <th colspan=\"3\" halign=\"left\">End location</th>\n      <th>Length</th>\n      <th>...</th>\n      <th colspan=\"5\" halign=\"left\">Traffic Data</th>\n      <th colspan=\"3\" halign=\"left\">Total</th>\n      <th>Traffic</th>\n      <th>Aggregate Traffic Data</th>\n    </tr>\n    <tr>\n      <th></th>\n      <th>Unnamed: 0_level_1</th>\n      <th>Unnamed: 0_level_1</th>\n      <th>Unnamed: 1_level_1</th>\n      <th>LRP</th>\n      <th>Offset</th>\n      <th>Chainage</th>\n      <th>LRP</th>\n      <th>Offset</th>\n      <th>Chainage</th>\n      <th>(Km)</th>\n      <th>...</th>\n      <th>Auto Rickshaw</th>\n      <th>Motor Cycle</th>\n      <th>Bi-Cycle</th>\n      <th>Cycle Rickshaw</th>\n      <th>Cart</th>\n      <th>Motorized</th>\n      <th>Non Motorized</th>\n      <th>Total AADT</th>\n      <th>(AADT)</th>\n      <th>Total Cargo</th>\n    </tr>\n  </thead>\n  <tbody>\n    <tr>\n      <th>0</th>\n      <td>0</td>\n      <td>N1-1L</td>\n      <td>Jatrabari - Int.with Z1101 (Left) (Left)</td>\n      <td>LRPS</td>\n      <td>0</td>\n      <td>0.000</td>\n      <td>LRPS</td>\n      <td>822</td>\n      <td>0.822</td>\n      <td>0.822</td>\n      <td>...</td>\n      <td>2980.0</td>\n      <td>398.0</td>\n      <td>232.0</td>\n      <td>889.0</td>\n      <td>0.0</td>\n      <td>18236.0</td>\n      <td>1121.0</td>\n      <td>19357.0</td>\n      <td>19357.0</td>\n      <td>7391.0</td>\n    </tr>\n    <tr>\n      <th>1</th>\n      <td>1</td>\n      <td>N1-1R</td>\n      <td>Jatrabari - Int.with Z1101 (Left) (Right)</td>\n      <td>LRPS</td>\n      <td>0</td>\n      <td>0.000</td>\n      <td>LRPS</td>\n      <td>822</td>\n      <td>0.822</td>\n      <td>0.822</td>\n      <td>...</td>\n      <td>2508.0</td>\n      <td>436.0</td>\n      <td>213.0</td>\n      <td>1088.0</td>\n      <td>0.0</td>\n      <td>20236.0</td>\n      <td>1301.0</td>\n      <td>21537.0</td>\n      <td>21537.0</td>\n      <td>8369.0</td>\n    </tr>\n    <tr>\n      <th>2</th>\n      <td>2</td>\n      <td>N1-2L</td>\n      <td>Int.with Z1101 - Signboard (Left) R111 (Left)</td>\n      <td>LRPS</td>\n      <td>822</td>\n      <td>0.822</td>\n      <td>LRPS</td>\n      <td>4175</td>\n      <td>4.175</td>\n      <td>3.353</td>\n      <td>...</td>\n      <td>2508.0</td>\n      <td>436.0</td>\n      <td>213.0</td>\n      <td>1088.0</td>\n      <td>0.0</td>\n      <td>20236.0</td>\n      <td>1301.0</td>\n      <td>21537.0</td>\n      <td>21537.0</td>\n      <td>8369.0</td>\n    </tr>\n    <tr>\n      <th>3</th>\n      <td>3</td>\n      <td>N1-2R</td>\n      <td>Int.with Z1101 - Signboard (Left) R111 (Right)</td>\n      <td>LRPS</td>\n      <td>822</td>\n      <td>0.822</td>\n      <td>LRPS</td>\n      <td>4175</td>\n      <td>4.175</td>\n      <td>3.353</td>\n      <td>...</td>\n      <td>2980.0</td>\n      <td>398.0</td>\n      <td>232.0</td>\n      <td>889.0</td>\n      <td>0.0</td>\n      <td>18236.0</td>\n      <td>1121.0</td>\n      <td>19357.0</td>\n      <td>19357.0</td>\n      <td>7391.0</td>\n    </tr>\n    <tr>\n      <th>4</th>\n      <td>4</td>\n      <td>N1-3L</td>\n      <td>Signboard - Shimrail (Left)R110 (Left)</td>\n      <td>LRPS</td>\n      <td>4175</td>\n      <td>4.175</td>\n      <td>LRPS</td>\n      <td>7181</td>\n      <td>7.181</td>\n      <td>3.006</td>\n      <td>...</td>\n      <td>2266.0</td>\n      <td>1087.0</td>\n      <td>75.0</td>\n      <td>1198.0</td>\n      <td>0.0</td>\n      <td>16288.0</td>\n      <td>1273.0</td>\n      <td>17561.0</td>\n      <td>17561.0</td>\n      <td>4981.0</td>\n    </tr>\n  </tbody>\n</table>\n<p>5 rows × 28 columns</p>\n</div>"
     },
     "execution_count": 7,
     "metadata": {},
     "output_type": "execute_result"
    }
   ],
   "source": [
    "df_traffic_N1.head()"
   ],
   "metadata": {
    "collapsed": false,
    "ExecuteTime": {
     "end_time": "2024-03-28T20:12:29.628911800Z",
     "start_time": "2024-03-28T20:12:29.346133400Z"
    }
   }
  },
  {
   "cell_type": "code",
   "execution_count": 8,
   "outputs": [],
   "source": [
    "df_traffic_N1[('Aggregate Traffic Data', 'Total People')] = (df_traffic_N1[('Traffic Data', 'Large Bus')] + df_traffic_N1[('Traffic Data', 'Medium Bus')] + df_traffic_N1[('Traffic Data', 'Micro Bus')] + df_traffic_N1[('Traffic Data', 'Utility')] + df_traffic_N1[('Traffic Data', 'Car')] + df_traffic_N1[('Traffic Data', 'Motor Cycle')] + df_traffic_N1[('Traffic Data', 'Auto Rickshaw')])\n"
   ],
   "metadata": {
    "collapsed": false,
    "ExecuteTime": {
     "end_time": "2024-03-28T20:12:29.628911800Z",
     "start_time": "2024-03-28T20:12:29.421459700Z"
    }
   }
  },
  {
   "cell_type": "code",
   "execution_count": 9,
   "outputs": [
    {
     "data": {
      "text/plain": "  Unnamed: 0_level_0            Link no  \\\n  Unnamed: 0_level_1 Unnamed: 0_level_1   \n0                  0              N1-1L   \n1                  1              N1-1R   \n2                  2              N1-2L   \n3                  3              N1-2R   \n4                  4              N1-3L   \n\n                                             Name Start location         \\\n                               Unnamed: 1_level_1            LRP Offset   \n0        Jatrabari - Int.with Z1101 (Left) (Left)           LRPS      0   \n1       Jatrabari - Int.with Z1101 (Left) (Right)           LRPS      0   \n2   Int.with Z1101 - Signboard (Left) R111 (Left)           LRPS    822   \n3  Int.with Z1101 - Signboard (Left) R111 (Right)           LRPS    822   \n4          Signboard - Shimrail (Left)R110 (Left)           LRPS   4175   \n\n           End location                 Length  ... Traffic Data           \\\n  Chainage          LRP Offset Chainage   (Km)  ...  Motor Cycle Bi-Cycle   \n0    0.000         LRPS    822    0.822  0.822  ...        398.0    232.0   \n1    0.000         LRPS    822    0.822  0.822  ...        436.0    213.0   \n2    0.822         LRPS   4175    4.175  3.353  ...        436.0    213.0   \n3    0.822         LRPS   4175    4.175  3.353  ...        398.0    232.0   \n4    4.175         LRPS   7181    7.181  3.006  ...       1087.0     75.0   \n\n                          Total                           Traffic  \\\n  Cycle Rickshaw Cart Motorized Non Motorized Total AADT   (AADT)   \n0          889.0  0.0   18236.0        1121.0    19357.0  19357.0   \n1         1088.0  0.0   20236.0        1301.0    21537.0  21537.0   \n2         1088.0  0.0   20236.0        1301.0    21537.0  21537.0   \n3          889.0  0.0   18236.0        1121.0    19357.0  19357.0   \n4         1198.0  0.0   16288.0        1273.0    17561.0  17561.0   \n\n  Aggregate Traffic Data               \n             Total Cargo Total People  \n0                 7391.0      10845.0  \n1                 8369.0      11867.0  \n2                 8369.0      11867.0  \n3                 7391.0      10845.0  \n4                 4981.0      11307.0  \n\n[5 rows x 29 columns]",
      "text/html": "<div>\n<style scoped>\n    .dataframe tbody tr th:only-of-type {\n        vertical-align: middle;\n    }\n\n    .dataframe tbody tr th {\n        vertical-align: top;\n    }\n\n    .dataframe thead tr th {\n        text-align: left;\n    }\n</style>\n<table border=\"1\" class=\"dataframe\">\n  <thead>\n    <tr>\n      <th></th>\n      <th>Unnamed: 0_level_0</th>\n      <th>Link no</th>\n      <th>Name</th>\n      <th colspan=\"3\" halign=\"left\">Start location</th>\n      <th colspan=\"3\" halign=\"left\">End location</th>\n      <th>Length</th>\n      <th>...</th>\n      <th colspan=\"4\" halign=\"left\">Traffic Data</th>\n      <th colspan=\"3\" halign=\"left\">Total</th>\n      <th>Traffic</th>\n      <th colspan=\"2\" halign=\"left\">Aggregate Traffic Data</th>\n    </tr>\n    <tr>\n      <th></th>\n      <th>Unnamed: 0_level_1</th>\n      <th>Unnamed: 0_level_1</th>\n      <th>Unnamed: 1_level_1</th>\n      <th>LRP</th>\n      <th>Offset</th>\n      <th>Chainage</th>\n      <th>LRP</th>\n      <th>Offset</th>\n      <th>Chainage</th>\n      <th>(Km)</th>\n      <th>...</th>\n      <th>Motor Cycle</th>\n      <th>Bi-Cycle</th>\n      <th>Cycle Rickshaw</th>\n      <th>Cart</th>\n      <th>Motorized</th>\n      <th>Non Motorized</th>\n      <th>Total AADT</th>\n      <th>(AADT)</th>\n      <th>Total Cargo</th>\n      <th>Total People</th>\n    </tr>\n  </thead>\n  <tbody>\n    <tr>\n      <th>0</th>\n      <td>0</td>\n      <td>N1-1L</td>\n      <td>Jatrabari - Int.with Z1101 (Left) (Left)</td>\n      <td>LRPS</td>\n      <td>0</td>\n      <td>0.000</td>\n      <td>LRPS</td>\n      <td>822</td>\n      <td>0.822</td>\n      <td>0.822</td>\n      <td>...</td>\n      <td>398.0</td>\n      <td>232.0</td>\n      <td>889.0</td>\n      <td>0.0</td>\n      <td>18236.0</td>\n      <td>1121.0</td>\n      <td>19357.0</td>\n      <td>19357.0</td>\n      <td>7391.0</td>\n      <td>10845.0</td>\n    </tr>\n    <tr>\n      <th>1</th>\n      <td>1</td>\n      <td>N1-1R</td>\n      <td>Jatrabari - Int.with Z1101 (Left) (Right)</td>\n      <td>LRPS</td>\n      <td>0</td>\n      <td>0.000</td>\n      <td>LRPS</td>\n      <td>822</td>\n      <td>0.822</td>\n      <td>0.822</td>\n      <td>...</td>\n      <td>436.0</td>\n      <td>213.0</td>\n      <td>1088.0</td>\n      <td>0.0</td>\n      <td>20236.0</td>\n      <td>1301.0</td>\n      <td>21537.0</td>\n      <td>21537.0</td>\n      <td>8369.0</td>\n      <td>11867.0</td>\n    </tr>\n    <tr>\n      <th>2</th>\n      <td>2</td>\n      <td>N1-2L</td>\n      <td>Int.with Z1101 - Signboard (Left) R111 (Left)</td>\n      <td>LRPS</td>\n      <td>822</td>\n      <td>0.822</td>\n      <td>LRPS</td>\n      <td>4175</td>\n      <td>4.175</td>\n      <td>3.353</td>\n      <td>...</td>\n      <td>436.0</td>\n      <td>213.0</td>\n      <td>1088.0</td>\n      <td>0.0</td>\n      <td>20236.0</td>\n      <td>1301.0</td>\n      <td>21537.0</td>\n      <td>21537.0</td>\n      <td>8369.0</td>\n      <td>11867.0</td>\n    </tr>\n    <tr>\n      <th>3</th>\n      <td>3</td>\n      <td>N1-2R</td>\n      <td>Int.with Z1101 - Signboard (Left) R111 (Right)</td>\n      <td>LRPS</td>\n      <td>822</td>\n      <td>0.822</td>\n      <td>LRPS</td>\n      <td>4175</td>\n      <td>4.175</td>\n      <td>3.353</td>\n      <td>...</td>\n      <td>398.0</td>\n      <td>232.0</td>\n      <td>889.0</td>\n      <td>0.0</td>\n      <td>18236.0</td>\n      <td>1121.0</td>\n      <td>19357.0</td>\n      <td>19357.0</td>\n      <td>7391.0</td>\n      <td>10845.0</td>\n    </tr>\n    <tr>\n      <th>4</th>\n      <td>4</td>\n      <td>N1-3L</td>\n      <td>Signboard - Shimrail (Left)R110 (Left)</td>\n      <td>LRPS</td>\n      <td>4175</td>\n      <td>4.175</td>\n      <td>LRPS</td>\n      <td>7181</td>\n      <td>7.181</td>\n      <td>3.006</td>\n      <td>...</td>\n      <td>1087.0</td>\n      <td>75.0</td>\n      <td>1198.0</td>\n      <td>0.0</td>\n      <td>16288.0</td>\n      <td>1273.0</td>\n      <td>17561.0</td>\n      <td>17561.0</td>\n      <td>4981.0</td>\n      <td>11307.0</td>\n    </tr>\n  </tbody>\n</table>\n<p>5 rows × 29 columns</p>\n</div>"
     },
     "execution_count": 9,
     "metadata": {},
     "output_type": "execute_result"
    }
   ],
   "source": [
    "df_traffic_N1.head()"
   ],
   "metadata": {
    "collapsed": false,
    "ExecuteTime": {
     "end_time": "2024-03-28T20:12:29.628911800Z",
     "start_time": "2024-03-28T20:12:29.444786Z"
    }
   }
  },
  {
   "cell_type": "code",
   "execution_count": 10,
   "outputs": [],
   "source": [
    "df_traffic_N1 = df_traffic_N1.drop(columns = ['Heavy Truck', 'Medium Truck', 'Small Truck', 'Large Bus', 'Medium Bus', 'Micro Bus', 'Utility', 'Car', 'Auto Rickshaw', 'Motor Cycle', 'Bi-Cycle', 'Cycle Rickshaw', 'Cart'], level = 1)"
   ],
   "metadata": {
    "collapsed": false,
    "ExecuteTime": {
     "end_time": "2024-03-28T20:12:29.628911800Z",
     "start_time": "2024-03-28T20:12:29.514810900Z"
    }
   }
  },
  {
   "cell_type": "code",
   "execution_count": 11,
   "outputs": [
    {
     "data": {
      "text/plain": "  Unnamed: 0_level_0            Link no  \\\n  Unnamed: 0_level_1 Unnamed: 0_level_1   \n0                  0              N1-1L   \n1                  1              N1-1R   \n2                  2              N1-2L   \n3                  3              N1-2R   \n4                  4              N1-3L   \n\n                                             Name Start location         \\\n                               Unnamed: 1_level_1            LRP Offset   \n0        Jatrabari - Int.with Z1101 (Left) (Left)           LRPS      0   \n1       Jatrabari - Int.with Z1101 (Left) (Right)           LRPS      0   \n2   Int.with Z1101 - Signboard (Left) R111 (Left)           LRPS    822   \n3  Int.with Z1101 - Signboard (Left) R111 (Right)           LRPS    822   \n4          Signboard - Shimrail (Left)R110 (Left)           LRPS   4175   \n\n           End location                 Length     Total                \\\n  Chainage          LRP Offset Chainage   (Km) Motorized Non Motorized   \n0    0.000         LRPS    822    0.822  0.822   18236.0        1121.0   \n1    0.000         LRPS    822    0.822  0.822   20236.0        1301.0   \n2    0.822         LRPS   4175    4.175  3.353   20236.0        1301.0   \n3    0.822         LRPS   4175    4.175  3.353   18236.0        1121.0   \n4    4.175         LRPS   7181    7.181  3.006   16288.0        1273.0   \n\n              Traffic Aggregate Traffic Data               \n  Total AADT   (AADT)            Total Cargo Total People  \n0    19357.0  19357.0                 7391.0      10845.0  \n1    21537.0  21537.0                 8369.0      11867.0  \n2    21537.0  21537.0                 8369.0      11867.0  \n3    19357.0  19357.0                 7391.0      10845.0  \n4    17561.0  17561.0                 4981.0      11307.0  ",
      "text/html": "<div>\n<style scoped>\n    .dataframe tbody tr th:only-of-type {\n        vertical-align: middle;\n    }\n\n    .dataframe tbody tr th {\n        vertical-align: top;\n    }\n\n    .dataframe thead tr th {\n        text-align: left;\n    }\n</style>\n<table border=\"1\" class=\"dataframe\">\n  <thead>\n    <tr>\n      <th></th>\n      <th>Unnamed: 0_level_0</th>\n      <th>Link no</th>\n      <th>Name</th>\n      <th colspan=\"3\" halign=\"left\">Start location</th>\n      <th colspan=\"3\" halign=\"left\">End location</th>\n      <th>Length</th>\n      <th colspan=\"3\" halign=\"left\">Total</th>\n      <th>Traffic</th>\n      <th colspan=\"2\" halign=\"left\">Aggregate Traffic Data</th>\n    </tr>\n    <tr>\n      <th></th>\n      <th>Unnamed: 0_level_1</th>\n      <th>Unnamed: 0_level_1</th>\n      <th>Unnamed: 1_level_1</th>\n      <th>LRP</th>\n      <th>Offset</th>\n      <th>Chainage</th>\n      <th>LRP</th>\n      <th>Offset</th>\n      <th>Chainage</th>\n      <th>(Km)</th>\n      <th>Motorized</th>\n      <th>Non Motorized</th>\n      <th>Total AADT</th>\n      <th>(AADT)</th>\n      <th>Total Cargo</th>\n      <th>Total People</th>\n    </tr>\n  </thead>\n  <tbody>\n    <tr>\n      <th>0</th>\n      <td>0</td>\n      <td>N1-1L</td>\n      <td>Jatrabari - Int.with Z1101 (Left) (Left)</td>\n      <td>LRPS</td>\n      <td>0</td>\n      <td>0.000</td>\n      <td>LRPS</td>\n      <td>822</td>\n      <td>0.822</td>\n      <td>0.822</td>\n      <td>18236.0</td>\n      <td>1121.0</td>\n      <td>19357.0</td>\n      <td>19357.0</td>\n      <td>7391.0</td>\n      <td>10845.0</td>\n    </tr>\n    <tr>\n      <th>1</th>\n      <td>1</td>\n      <td>N1-1R</td>\n      <td>Jatrabari - Int.with Z1101 (Left) (Right)</td>\n      <td>LRPS</td>\n      <td>0</td>\n      <td>0.000</td>\n      <td>LRPS</td>\n      <td>822</td>\n      <td>0.822</td>\n      <td>0.822</td>\n      <td>20236.0</td>\n      <td>1301.0</td>\n      <td>21537.0</td>\n      <td>21537.0</td>\n      <td>8369.0</td>\n      <td>11867.0</td>\n    </tr>\n    <tr>\n      <th>2</th>\n      <td>2</td>\n      <td>N1-2L</td>\n      <td>Int.with Z1101 - Signboard (Left) R111 (Left)</td>\n      <td>LRPS</td>\n      <td>822</td>\n      <td>0.822</td>\n      <td>LRPS</td>\n      <td>4175</td>\n      <td>4.175</td>\n      <td>3.353</td>\n      <td>20236.0</td>\n      <td>1301.0</td>\n      <td>21537.0</td>\n      <td>21537.0</td>\n      <td>8369.0</td>\n      <td>11867.0</td>\n    </tr>\n    <tr>\n      <th>3</th>\n      <td>3</td>\n      <td>N1-2R</td>\n      <td>Int.with Z1101 - Signboard (Left) R111 (Right)</td>\n      <td>LRPS</td>\n      <td>822</td>\n      <td>0.822</td>\n      <td>LRPS</td>\n      <td>4175</td>\n      <td>4.175</td>\n      <td>3.353</td>\n      <td>18236.0</td>\n      <td>1121.0</td>\n      <td>19357.0</td>\n      <td>19357.0</td>\n      <td>7391.0</td>\n      <td>10845.0</td>\n    </tr>\n    <tr>\n      <th>4</th>\n      <td>4</td>\n      <td>N1-3L</td>\n      <td>Signboard - Shimrail (Left)R110 (Left)</td>\n      <td>LRPS</td>\n      <td>4175</td>\n      <td>4.175</td>\n      <td>LRPS</td>\n      <td>7181</td>\n      <td>7.181</td>\n      <td>3.006</td>\n      <td>16288.0</td>\n      <td>1273.0</td>\n      <td>17561.0</td>\n      <td>17561.0</td>\n      <td>4981.0</td>\n      <td>11307.0</td>\n    </tr>\n  </tbody>\n</table>\n</div>"
     },
     "execution_count": 11,
     "metadata": {},
     "output_type": "execute_result"
    }
   ],
   "source": [
    "df_traffic_N1.head()"
   ],
   "metadata": {
    "collapsed": false,
    "ExecuteTime": {
     "end_time": "2024-03-28T20:12:29.628911800Z",
     "start_time": "2024-03-28T20:12:29.534827Z"
    }
   }
  },
  {
   "cell_type": "code",
   "execution_count": 12,
   "outputs": [],
   "source": [
    "#compute average chainage\n",
    "df_traffic_N1[('Average Traffic Data', 'Average Chainage')] = (df_traffic_N1[('Start location', 'Chainage')] + df_traffic_N1[('End location', 'Chainage')]) / 2"
   ],
   "metadata": {
    "collapsed": false,
    "ExecuteTime": {
     "end_time": "2024-03-28T20:12:29.628911800Z",
     "start_time": "2024-03-28T20:12:29.575660800Z"
    }
   }
  },
  {
   "cell_type": "code",
   "execution_count": 13,
   "outputs": [
    {
     "data": {
      "text/plain": "  Unnamed: 0_level_0            Link no  \\\n  Unnamed: 0_level_1 Unnamed: 0_level_1   \n0                  0              N1-1L   \n1                  1              N1-1R   \n2                  2              N1-2L   \n3                  3              N1-2R   \n4                  4              N1-3L   \n\n                                             Name Start location         \\\n                               Unnamed: 1_level_1            LRP Offset   \n0        Jatrabari - Int.with Z1101 (Left) (Left)           LRPS      0   \n1       Jatrabari - Int.with Z1101 (Left) (Right)           LRPS      0   \n2   Int.with Z1101 - Signboard (Left) R111 (Left)           LRPS    822   \n3  Int.with Z1101 - Signboard (Left) R111 (Right)           LRPS    822   \n4          Signboard - Shimrail (Left)R110 (Left)           LRPS   4175   \n\n           End location                 Length     Total                \\\n  Chainage          LRP Offset Chainage   (Km) Motorized Non Motorized   \n0    0.000         LRPS    822    0.822  0.822   18236.0        1121.0   \n1    0.000         LRPS    822    0.822  0.822   20236.0        1301.0   \n2    0.822         LRPS   4175    4.175  3.353   20236.0        1301.0   \n3    0.822         LRPS   4175    4.175  3.353   18236.0        1121.0   \n4    4.175         LRPS   7181    7.181  3.006   16288.0        1273.0   \n\n              Traffic Aggregate Traffic Data              Average Traffic Data  \n  Total AADT   (AADT)            Total Cargo Total People     Average Chainage  \n0    19357.0  19357.0                 7391.0      10845.0               0.4110  \n1    21537.0  21537.0                 8369.0      11867.0               0.4110  \n2    21537.0  21537.0                 8369.0      11867.0               2.4985  \n3    19357.0  19357.0                 7391.0      10845.0               2.4985  \n4    17561.0  17561.0                 4981.0      11307.0               5.6780  ",
      "text/html": "<div>\n<style scoped>\n    .dataframe tbody tr th:only-of-type {\n        vertical-align: middle;\n    }\n\n    .dataframe tbody tr th {\n        vertical-align: top;\n    }\n\n    .dataframe thead tr th {\n        text-align: left;\n    }\n</style>\n<table border=\"1\" class=\"dataframe\">\n  <thead>\n    <tr>\n      <th></th>\n      <th>Unnamed: 0_level_0</th>\n      <th>Link no</th>\n      <th>Name</th>\n      <th colspan=\"3\" halign=\"left\">Start location</th>\n      <th colspan=\"3\" halign=\"left\">End location</th>\n      <th>Length</th>\n      <th colspan=\"3\" halign=\"left\">Total</th>\n      <th>Traffic</th>\n      <th colspan=\"2\" halign=\"left\">Aggregate Traffic Data</th>\n      <th>Average Traffic Data</th>\n    </tr>\n    <tr>\n      <th></th>\n      <th>Unnamed: 0_level_1</th>\n      <th>Unnamed: 0_level_1</th>\n      <th>Unnamed: 1_level_1</th>\n      <th>LRP</th>\n      <th>Offset</th>\n      <th>Chainage</th>\n      <th>LRP</th>\n      <th>Offset</th>\n      <th>Chainage</th>\n      <th>(Km)</th>\n      <th>Motorized</th>\n      <th>Non Motorized</th>\n      <th>Total AADT</th>\n      <th>(AADT)</th>\n      <th>Total Cargo</th>\n      <th>Total People</th>\n      <th>Average Chainage</th>\n    </tr>\n  </thead>\n  <tbody>\n    <tr>\n      <th>0</th>\n      <td>0</td>\n      <td>N1-1L</td>\n      <td>Jatrabari - Int.with Z1101 (Left) (Left)</td>\n      <td>LRPS</td>\n      <td>0</td>\n      <td>0.000</td>\n      <td>LRPS</td>\n      <td>822</td>\n      <td>0.822</td>\n      <td>0.822</td>\n      <td>18236.0</td>\n      <td>1121.0</td>\n      <td>19357.0</td>\n      <td>19357.0</td>\n      <td>7391.0</td>\n      <td>10845.0</td>\n      <td>0.4110</td>\n    </tr>\n    <tr>\n      <th>1</th>\n      <td>1</td>\n      <td>N1-1R</td>\n      <td>Jatrabari - Int.with Z1101 (Left) (Right)</td>\n      <td>LRPS</td>\n      <td>0</td>\n      <td>0.000</td>\n      <td>LRPS</td>\n      <td>822</td>\n      <td>0.822</td>\n      <td>0.822</td>\n      <td>20236.0</td>\n      <td>1301.0</td>\n      <td>21537.0</td>\n      <td>21537.0</td>\n      <td>8369.0</td>\n      <td>11867.0</td>\n      <td>0.4110</td>\n    </tr>\n    <tr>\n      <th>2</th>\n      <td>2</td>\n      <td>N1-2L</td>\n      <td>Int.with Z1101 - Signboard (Left) R111 (Left)</td>\n      <td>LRPS</td>\n      <td>822</td>\n      <td>0.822</td>\n      <td>LRPS</td>\n      <td>4175</td>\n      <td>4.175</td>\n      <td>3.353</td>\n      <td>20236.0</td>\n      <td>1301.0</td>\n      <td>21537.0</td>\n      <td>21537.0</td>\n      <td>8369.0</td>\n      <td>11867.0</td>\n      <td>2.4985</td>\n    </tr>\n    <tr>\n      <th>3</th>\n      <td>3</td>\n      <td>N1-2R</td>\n      <td>Int.with Z1101 - Signboard (Left) R111 (Right)</td>\n      <td>LRPS</td>\n      <td>822</td>\n      <td>0.822</td>\n      <td>LRPS</td>\n      <td>4175</td>\n      <td>4.175</td>\n      <td>3.353</td>\n      <td>18236.0</td>\n      <td>1121.0</td>\n      <td>19357.0</td>\n      <td>19357.0</td>\n      <td>7391.0</td>\n      <td>10845.0</td>\n      <td>2.4985</td>\n    </tr>\n    <tr>\n      <th>4</th>\n      <td>4</td>\n      <td>N1-3L</td>\n      <td>Signboard - Shimrail (Left)R110 (Left)</td>\n      <td>LRPS</td>\n      <td>4175</td>\n      <td>4.175</td>\n      <td>LRPS</td>\n      <td>7181</td>\n      <td>7.181</td>\n      <td>3.006</td>\n      <td>16288.0</td>\n      <td>1273.0</td>\n      <td>17561.0</td>\n      <td>17561.0</td>\n      <td>4981.0</td>\n      <td>11307.0</td>\n      <td>5.6780</td>\n    </tr>\n  </tbody>\n</table>\n</div>"
     },
     "execution_count": 13,
     "metadata": {},
     "output_type": "execute_result"
    }
   ],
   "source": [
    "df_traffic_N1.head()"
   ],
   "metadata": {
    "collapsed": false,
    "ExecuteTime": {
     "end_time": "2024-03-28T20:12:29.628911800Z",
     "start_time": "2024-03-28T20:12:29.612978600Z"
    }
   }
  },
  {
   "cell_type": "code",
   "execution_count": 14,
   "outputs": [
    {
     "data": {
      "text/plain": "Empty DataFrame\nColumns: [(Unnamed: 0_level_0, Unnamed: 0_level_1), (Link no, Unnamed: 0_level_1), (Name, Unnamed: 1_level_1), (Start location, LRP), (Start location, Offset), (Start location, Chainage), (End location, LRP), (End location, Offset), (End location, Chainage), (Length, (Km)), (Total, Motorized), (Total, Non Motorized), (Total, Total AADT), (Traffic, (AADT)), (Aggregate Traffic Data, Total Cargo), (Aggregate Traffic Data, Total People), (Average Traffic Data, Average Chainage)]\nIndex: []",
      "text/html": "<div>\n<style scoped>\n    .dataframe tbody tr th:only-of-type {\n        vertical-align: middle;\n    }\n\n    .dataframe tbody tr th {\n        vertical-align: top;\n    }\n\n    .dataframe thead tr th {\n        text-align: left;\n    }\n</style>\n<table border=\"1\" class=\"dataframe\">\n  <thead>\n    <tr>\n      <th></th>\n      <th>Unnamed: 0_level_0</th>\n      <th>Link no</th>\n      <th>Name</th>\n      <th colspan=\"3\" halign=\"left\">Start location</th>\n      <th colspan=\"3\" halign=\"left\">End location</th>\n      <th>Length</th>\n      <th colspan=\"3\" halign=\"left\">Total</th>\n      <th>Traffic</th>\n      <th colspan=\"2\" halign=\"left\">Aggregate Traffic Data</th>\n      <th>Average Traffic Data</th>\n    </tr>\n    <tr>\n      <th></th>\n      <th>Unnamed: 0_level_1</th>\n      <th>Unnamed: 0_level_1</th>\n      <th>Unnamed: 1_level_1</th>\n      <th>LRP</th>\n      <th>Offset</th>\n      <th>Chainage</th>\n      <th>LRP</th>\n      <th>Offset</th>\n      <th>Chainage</th>\n      <th>(Km)</th>\n      <th>Motorized</th>\n      <th>Non Motorized</th>\n      <th>Total AADT</th>\n      <th>(AADT)</th>\n      <th>Total Cargo</th>\n      <th>Total People</th>\n      <th>Average Chainage</th>\n    </tr>\n  </thead>\n  <tbody>\n  </tbody>\n</table>\n</div>"
     },
     "execution_count": 14,
     "metadata": {},
     "output_type": "execute_result"
    }
   ],
   "source": [],
   "metadata": {
    "collapsed": false,
    "ExecuteTime": {
     "end_time": "2024-03-28T20:12:29.707805600Z",
     "start_time": "2024-03-28T20:12:29.641904500Z"
    }
   }
  },
  {
   "cell_type": "code",
   "execution_count": 15,
   "outputs": [],
   "source": [
    "df_traffic_N1_copy = df_traffic_N1.copy()"
   ],
   "metadata": {
    "collapsed": false,
    "ExecuteTime": {
     "end_time": "2024-03-28T20:12:29.940290400Z",
     "start_time": "2024-03-28T20:12:29.658740700Z"
    }
   }
  },
  {
   "cell_type": "code",
   "execution_count": 16,
   "outputs": [],
   "source": [
    "df_traffic_N1_copy = df_traffic_N1_copy.drop(columns = ['Motorized', 'Non Motorized', 'Total AADT'], level = 1)"
   ],
   "metadata": {
    "collapsed": false,
    "ExecuteTime": {
     "end_time": "2024-03-28T20:12:29.940290400Z",
     "start_time": "2024-03-28T20:12:29.665042800Z"
    }
   }
  },
  {
   "cell_type": "code",
   "execution_count": 17,
   "outputs": [],
   "source": [
    "df_traffic_N1_copy = df_traffic_N1_copy.drop(columns = ['Unnamed: 0_level_0'], level = 0)"
   ],
   "metadata": {
    "collapsed": false,
    "ExecuteTime": {
     "end_time": "2024-03-28T20:12:29.940290400Z",
     "start_time": "2024-03-28T20:12:29.678505Z"
    }
   }
  },
  {
   "cell_type": "code",
   "execution_count": 18,
   "outputs": [],
   "source": [
    "df_traffic_N1_copy = df_traffic_N1_copy.drop(columns = ['Traffic', 'Length'], level = 0)"
   ],
   "metadata": {
    "collapsed": false,
    "ExecuteTime": {
     "end_time": "2024-03-28T20:12:29.940290400Z",
     "start_time": "2024-03-28T20:12:29.695073100Z"
    }
   }
  },
  {
   "cell_type": "code",
   "execution_count": 19,
   "outputs": [],
   "source": [
    "df_traffic_N1_copy = df_traffic_N1_copy.drop(columns = ['(Km)', '(AADT)'], level = 1)"
   ],
   "metadata": {
    "collapsed": false,
    "ExecuteTime": {
     "end_time": "2024-03-28T20:12:29.945303900Z",
     "start_time": "2024-03-28T20:12:29.707805600Z"
    }
   }
  },
  {
   "cell_type": "code",
   "execution_count": 20,
   "outputs": [],
   "source": [
    "df_traffic_N1_copy = df_traffic_N1_copy.drop(columns = ['Offset', 'Chainage'], level = 1)"
   ],
   "metadata": {
    "collapsed": false,
    "ExecuteTime": {
     "end_time": "2024-03-28T20:12:29.945303900Z",
     "start_time": "2024-03-28T20:12:29.721573700Z"
    }
   }
  },
  {
   "cell_type": "code",
   "execution_count": 21,
   "outputs": [
    {
     "data": {
      "text/plain": "             Link no                                            Name  \\\n  Unnamed: 0_level_1                              Unnamed: 1_level_1   \n0              N1-1L        Jatrabari - Int.with Z1101 (Left) (Left)   \n1              N1-1R       Jatrabari - Int.with Z1101 (Left) (Right)   \n2              N1-2L   Int.with Z1101 - Signboard (Left) R111 (Left)   \n3              N1-2R  Int.with Z1101 - Signboard (Left) R111 (Right)   \n4              N1-3L          Signboard - Shimrail (Left)R110 (Left)   \n\n  Start location End location Aggregate Traffic Data               \\\n             LRP          LRP            Total Cargo Total People   \n0           LRPS         LRPS                 7391.0      10845.0   \n1           LRPS         LRPS                 8369.0      11867.0   \n2           LRPS         LRPS                 8369.0      11867.0   \n3           LRPS         LRPS                 7391.0      10845.0   \n4           LRPS         LRPS                 4981.0      11307.0   \n\n  Average Traffic Data  \n      Average Chainage  \n0               0.4110  \n1               0.4110  \n2               2.4985  \n3               2.4985  \n4               5.6780  ",
      "text/html": "<div>\n<style scoped>\n    .dataframe tbody tr th:only-of-type {\n        vertical-align: middle;\n    }\n\n    .dataframe tbody tr th {\n        vertical-align: top;\n    }\n\n    .dataframe thead tr th {\n        text-align: left;\n    }\n</style>\n<table border=\"1\" class=\"dataframe\">\n  <thead>\n    <tr>\n      <th></th>\n      <th>Link no</th>\n      <th>Name</th>\n      <th>Start location</th>\n      <th>End location</th>\n      <th colspan=\"2\" halign=\"left\">Aggregate Traffic Data</th>\n      <th>Average Traffic Data</th>\n    </tr>\n    <tr>\n      <th></th>\n      <th>Unnamed: 0_level_1</th>\n      <th>Unnamed: 1_level_1</th>\n      <th>LRP</th>\n      <th>LRP</th>\n      <th>Total Cargo</th>\n      <th>Total People</th>\n      <th>Average Chainage</th>\n    </tr>\n  </thead>\n  <tbody>\n    <tr>\n      <th>0</th>\n      <td>N1-1L</td>\n      <td>Jatrabari - Int.with Z1101 (Left) (Left)</td>\n      <td>LRPS</td>\n      <td>LRPS</td>\n      <td>7391.0</td>\n      <td>10845.0</td>\n      <td>0.4110</td>\n    </tr>\n    <tr>\n      <th>1</th>\n      <td>N1-1R</td>\n      <td>Jatrabari - Int.with Z1101 (Left) (Right)</td>\n      <td>LRPS</td>\n      <td>LRPS</td>\n      <td>8369.0</td>\n      <td>11867.0</td>\n      <td>0.4110</td>\n    </tr>\n    <tr>\n      <th>2</th>\n      <td>N1-2L</td>\n      <td>Int.with Z1101 - Signboard (Left) R111 (Left)</td>\n      <td>LRPS</td>\n      <td>LRPS</td>\n      <td>8369.0</td>\n      <td>11867.0</td>\n      <td>2.4985</td>\n    </tr>\n    <tr>\n      <th>3</th>\n      <td>N1-2R</td>\n      <td>Int.with Z1101 - Signboard (Left) R111 (Right)</td>\n      <td>LRPS</td>\n      <td>LRPS</td>\n      <td>7391.0</td>\n      <td>10845.0</td>\n      <td>2.4985</td>\n    </tr>\n    <tr>\n      <th>4</th>\n      <td>N1-3L</td>\n      <td>Signboard - Shimrail (Left)R110 (Left)</td>\n      <td>LRPS</td>\n      <td>LRPS</td>\n      <td>4981.0</td>\n      <td>11307.0</td>\n      <td>5.6780</td>\n    </tr>\n  </tbody>\n</table>\n</div>"
     },
     "execution_count": 21,
     "metadata": {},
     "output_type": "execute_result"
    }
   ],
   "source": [
    "df_traffic_N1_copy.head()"
   ],
   "metadata": {
    "collapsed": false,
    "ExecuteTime": {
     "end_time": "2024-03-28T20:12:29.945303900Z",
     "start_time": "2024-03-28T20:12:29.731363200Z"
    }
   }
  },
  {
   "cell_type": "code",
   "execution_count": 22,
   "outputs": [],
   "source": [
    "df_traffic_N1_copy[(\"Start location\", \"Start_LRP\")] = df_traffic_N1_copy[(\"Start location\", \"LRP\")]"
   ],
   "metadata": {
    "collapsed": false,
    "ExecuteTime": {
     "end_time": "2024-03-28T20:12:29.945303900Z",
     "start_time": "2024-03-28T20:12:29.764976200Z"
    }
   }
  },
  {
   "cell_type": "code",
   "execution_count": 23,
   "outputs": [],
   "source": [
    "df_traffic_N1_copy[(\"End location\", \"End_LRP\")] = df_traffic_N1_copy[(\"End location\", \"LRP\")]"
   ],
   "metadata": {
    "collapsed": false,
    "ExecuteTime": {
     "end_time": "2024-03-28T20:12:29.985746900Z",
     "start_time": "2024-03-28T20:12:29.775684400Z"
    }
   }
  },
  {
   "cell_type": "code",
   "execution_count": 24,
   "outputs": [],
   "source": [
    "df_traffic_N1_copy = df_traffic_N1_copy.drop(columns = [(\"Start location\", \"LRP\")])"
   ],
   "metadata": {
    "collapsed": false,
    "ExecuteTime": {
     "end_time": "2024-03-28T20:12:29.988219400Z",
     "start_time": "2024-03-28T20:12:29.787151900Z"
    }
   }
  },
  {
   "cell_type": "code",
   "execution_count": 25,
   "outputs": [],
   "source": [
    "df_traffic_N1_copy = df_traffic_N1_copy.drop(columns = [(\"End location\", \"LRP\")])"
   ],
   "metadata": {
    "collapsed": false,
    "ExecuteTime": {
     "end_time": "2024-03-28T20:12:30.095496600Z",
     "start_time": "2024-03-28T20:12:29.802993Z"
    }
   }
  },
  {
   "cell_type": "code",
   "execution_count": 26,
   "outputs": [],
   "source": [
    "df_traffic_N1_copy = df_traffic_N1_copy.droplevel(0,1)"
   ],
   "metadata": {
    "collapsed": false,
    "ExecuteTime": {
     "end_time": "2024-03-28T20:12:30.182761700Z",
     "start_time": "2024-03-28T20:12:29.841968900Z"
    }
   }
  },
  {
   "cell_type": "code",
   "execution_count": 27,
   "outputs": [],
   "source": [
    "df_traffic_N1_copy.rename(columns = {'Unnamed: 0_level_1': 'Road', 'Unnamed: 1_level_1': 'Name'}, inplace= True)"
   ],
   "metadata": {
    "collapsed": false,
    "ExecuteTime": {
     "end_time": "2024-03-28T20:12:30.182761700Z",
     "start_time": "2024-03-28T20:12:29.852142400Z"
    }
   }
  },
  {
   "cell_type": "code",
   "execution_count": 28,
   "outputs": [
    {
     "data": {
      "text/plain": "      Road                                            Name  Total Cargo  \\\n0    N1-1L        Jatrabari - Int.with Z1101 (Left) (Left)       7391.0   \n1    N1-1R       Jatrabari - Int.with Z1101 (Left) (Right)       8369.0   \n2    N1-2L   Int.with Z1101 - Signboard (Left) R111 (Left)       8369.0   \n3    N1-2R  Int.with Z1101 - Signboard (Left) R111 (Right)       7391.0   \n4    N1-3L          Signboard - Shimrail (Left)R110 (Left)       4981.0   \n..     ...                                             ...          ...   \n100  N1-65          Coxsbazar Link Road N110-Maricha Z1009        616.0   \n101  N1-66             Maricha Z1009-Ukhia Dakbanglo Z1503        616.0   \n102  N1-67            Ukhia Dakbanglo Z1503 - Gundum Z1504        616.0   \n103  N1-68              GundumGundum Z1504 - Whykong Z1133        616.0   \n104  N1-69                          Whykong Z1133 - Teknaf        616.0   \n\n     Total People  Average Chainage Start_LRP End_LRP  \n0         10845.0            0.4110      LRPS    LRPS  \n1         11867.0            0.4110      LRPS    LRPS  \n2         11867.0            2.4985      LRPS    LRPS  \n3         10845.0            2.4985      LRPS    LRPS  \n4         11307.0            5.6780      LRPS    LRPS  \n..            ...               ...       ...     ...  \n100        4065.0          389.8430    LRP386  LRP403  \n101        4065.0          403.3195    LRP403  LRP413  \n102        4065.0          412.2390    LRP413  LRP420  \n103        4065.0          422.4760    LRP420  LRP433  \n104        4065.0          445.5810    LRP433  LRP467  \n\n[105 rows x 7 columns]",
      "text/html": "<div>\n<style scoped>\n    .dataframe tbody tr th:only-of-type {\n        vertical-align: middle;\n    }\n\n    .dataframe tbody tr th {\n        vertical-align: top;\n    }\n\n    .dataframe thead th {\n        text-align: right;\n    }\n</style>\n<table border=\"1\" class=\"dataframe\">\n  <thead>\n    <tr style=\"text-align: right;\">\n      <th></th>\n      <th>Road</th>\n      <th>Name</th>\n      <th>Total Cargo</th>\n      <th>Total People</th>\n      <th>Average Chainage</th>\n      <th>Start_LRP</th>\n      <th>End_LRP</th>\n    </tr>\n  </thead>\n  <tbody>\n    <tr>\n      <th>0</th>\n      <td>N1-1L</td>\n      <td>Jatrabari - Int.with Z1101 (Left) (Left)</td>\n      <td>7391.0</td>\n      <td>10845.0</td>\n      <td>0.4110</td>\n      <td>LRPS</td>\n      <td>LRPS</td>\n    </tr>\n    <tr>\n      <th>1</th>\n      <td>N1-1R</td>\n      <td>Jatrabari - Int.with Z1101 (Left) (Right)</td>\n      <td>8369.0</td>\n      <td>11867.0</td>\n      <td>0.4110</td>\n      <td>LRPS</td>\n      <td>LRPS</td>\n    </tr>\n    <tr>\n      <th>2</th>\n      <td>N1-2L</td>\n      <td>Int.with Z1101 - Signboard (Left) R111 (Left)</td>\n      <td>8369.0</td>\n      <td>11867.0</td>\n      <td>2.4985</td>\n      <td>LRPS</td>\n      <td>LRPS</td>\n    </tr>\n    <tr>\n      <th>3</th>\n      <td>N1-2R</td>\n      <td>Int.with Z1101 - Signboard (Left) R111 (Right)</td>\n      <td>7391.0</td>\n      <td>10845.0</td>\n      <td>2.4985</td>\n      <td>LRPS</td>\n      <td>LRPS</td>\n    </tr>\n    <tr>\n      <th>4</th>\n      <td>N1-3L</td>\n      <td>Signboard - Shimrail (Left)R110 (Left)</td>\n      <td>4981.0</td>\n      <td>11307.0</td>\n      <td>5.6780</td>\n      <td>LRPS</td>\n      <td>LRPS</td>\n    </tr>\n    <tr>\n      <th>...</th>\n      <td>...</td>\n      <td>...</td>\n      <td>...</td>\n      <td>...</td>\n      <td>...</td>\n      <td>...</td>\n      <td>...</td>\n    </tr>\n    <tr>\n      <th>100</th>\n      <td>N1-65</td>\n      <td>Coxsbazar Link Road N110-Maricha Z1009</td>\n      <td>616.0</td>\n      <td>4065.0</td>\n      <td>389.8430</td>\n      <td>LRP386</td>\n      <td>LRP403</td>\n    </tr>\n    <tr>\n      <th>101</th>\n      <td>N1-66</td>\n      <td>Maricha Z1009-Ukhia Dakbanglo Z1503</td>\n      <td>616.0</td>\n      <td>4065.0</td>\n      <td>403.3195</td>\n      <td>LRP403</td>\n      <td>LRP413</td>\n    </tr>\n    <tr>\n      <th>102</th>\n      <td>N1-67</td>\n      <td>Ukhia Dakbanglo Z1503 - Gundum Z1504</td>\n      <td>616.0</td>\n      <td>4065.0</td>\n      <td>412.2390</td>\n      <td>LRP413</td>\n      <td>LRP420</td>\n    </tr>\n    <tr>\n      <th>103</th>\n      <td>N1-68</td>\n      <td>GundumGundum Z1504 - Whykong Z1133</td>\n      <td>616.0</td>\n      <td>4065.0</td>\n      <td>422.4760</td>\n      <td>LRP420</td>\n      <td>LRP433</td>\n    </tr>\n    <tr>\n      <th>104</th>\n      <td>N1-69</td>\n      <td>Whykong Z1133 - Teknaf</td>\n      <td>616.0</td>\n      <td>4065.0</td>\n      <td>445.5810</td>\n      <td>LRP433</td>\n      <td>LRP467</td>\n    </tr>\n  </tbody>\n</table>\n<p>105 rows × 7 columns</p>\n</div>"
     },
     "execution_count": 28,
     "metadata": {},
     "output_type": "execute_result"
    }
   ],
   "source": [
    "df_traffic_N1_copy"
   ],
   "metadata": {
    "collapsed": false,
    "ExecuteTime": {
     "end_time": "2024-03-28T20:12:30.356170400Z",
     "start_time": "2024-03-28T20:12:29.866062700Z"
    }
   }
  },
  {
   "cell_type": "code",
   "execution_count": 38,
   "outputs": [
    {
     "data": {
      "text/plain": "      Road                                            Name  Total Cargo  \\\n0    N1-1L        Jatrabari - Int.with Z1101 (Left) (Left)       7391.0   \n1    N1-1R       Jatrabari - Int.with Z1101 (Left) (Right)       8369.0   \n2    N1-2L   Int.with Z1101 - Signboard (Left) R111 (Left)       8369.0   \n3    N1-2R  Int.with Z1101 - Signboard (Left) R111 (Right)       7391.0   \n4    N1-3L          Signboard - Shimrail (Left)R110 (Left)       4981.0   \n..     ...                                             ...          ...   \n67  N1-34R     Mirersarai Z1021 - Baroirdala Z1086 (Right)       5449.0   \n68  N1-35L       Baroirdala Z1086- Barabkunda Z1087 (Left)       7205.0   \n69  N1-35R      Baroirdala Z1086- Barabkunda Z1087 (Right)       7903.0   \n70  N1-36L        Barabkunda Z1087-Fouzderhat Z1016 (Left)       7205.0   \n71  N1-36R       Barabkunda Z1087-Fouzderhat Z1016 (Right)       7903.0   \n\n    Total People  Average Chainage Start_LRP End_LRP  \n0        10845.0            0.4110      LRPS    LRPS  \n1        11867.0            0.4110      LRPS    LRPS  \n2        11867.0            2.4985      LRPS    LRPS  \n3        10845.0            2.4985      LRPS    LRPS  \n4        11307.0            5.6780      LRPS    LRPS  \n..           ...               ...       ...     ...  \n67        6292.0          188.0335    LRP164  LRP197  \n68        7317.0          200.5025    LRP197  LRP209  \n69        7317.0          200.5025    LRP197  LRP209  \n70        7317.0          217.4040    LRP209  LRP225  \n71        7317.0          217.4040    LRP209  LRP225  \n\n[72 rows x 7 columns]",
      "text/html": "<div>\n<style scoped>\n    .dataframe tbody tr th:only-of-type {\n        vertical-align: middle;\n    }\n\n    .dataframe tbody tr th {\n        vertical-align: top;\n    }\n\n    .dataframe thead th {\n        text-align: right;\n    }\n</style>\n<table border=\"1\" class=\"dataframe\">\n  <thead>\n    <tr style=\"text-align: right;\">\n      <th></th>\n      <th>Road</th>\n      <th>Name</th>\n      <th>Total Cargo</th>\n      <th>Total People</th>\n      <th>Average Chainage</th>\n      <th>Start_LRP</th>\n      <th>End_LRP</th>\n    </tr>\n  </thead>\n  <tbody>\n    <tr>\n      <th>0</th>\n      <td>N1-1L</td>\n      <td>Jatrabari - Int.with Z1101 (Left) (Left)</td>\n      <td>7391.0</td>\n      <td>10845.0</td>\n      <td>0.4110</td>\n      <td>LRPS</td>\n      <td>LRPS</td>\n    </tr>\n    <tr>\n      <th>1</th>\n      <td>N1-1R</td>\n      <td>Jatrabari - Int.with Z1101 (Left) (Right)</td>\n      <td>8369.0</td>\n      <td>11867.0</td>\n      <td>0.4110</td>\n      <td>LRPS</td>\n      <td>LRPS</td>\n    </tr>\n    <tr>\n      <th>2</th>\n      <td>N1-2L</td>\n      <td>Int.with Z1101 - Signboard (Left) R111 (Left)</td>\n      <td>8369.0</td>\n      <td>11867.0</td>\n      <td>2.4985</td>\n      <td>LRPS</td>\n      <td>LRPS</td>\n    </tr>\n    <tr>\n      <th>3</th>\n      <td>N1-2R</td>\n      <td>Int.with Z1101 - Signboard (Left) R111 (Right)</td>\n      <td>7391.0</td>\n      <td>10845.0</td>\n      <td>2.4985</td>\n      <td>LRPS</td>\n      <td>LRPS</td>\n    </tr>\n    <tr>\n      <th>4</th>\n      <td>N1-3L</td>\n      <td>Signboard - Shimrail (Left)R110 (Left)</td>\n      <td>4981.0</td>\n      <td>11307.0</td>\n      <td>5.6780</td>\n      <td>LRPS</td>\n      <td>LRPS</td>\n    </tr>\n    <tr>\n      <th>...</th>\n      <td>...</td>\n      <td>...</td>\n      <td>...</td>\n      <td>...</td>\n      <td>...</td>\n      <td>...</td>\n      <td>...</td>\n    </tr>\n    <tr>\n      <th>67</th>\n      <td>N1-34R</td>\n      <td>Mirersarai Z1021 - Baroirdala Z1086 (Right)</td>\n      <td>5449.0</td>\n      <td>6292.0</td>\n      <td>188.0335</td>\n      <td>LRP164</td>\n      <td>LRP197</td>\n    </tr>\n    <tr>\n      <th>68</th>\n      <td>N1-35L</td>\n      <td>Baroirdala Z1086- Barabkunda Z1087 (Left)</td>\n      <td>7205.0</td>\n      <td>7317.0</td>\n      <td>200.5025</td>\n      <td>LRP197</td>\n      <td>LRP209</td>\n    </tr>\n    <tr>\n      <th>69</th>\n      <td>N1-35R</td>\n      <td>Baroirdala Z1086- Barabkunda Z1087 (Right)</td>\n      <td>7903.0</td>\n      <td>7317.0</td>\n      <td>200.5025</td>\n      <td>LRP197</td>\n      <td>LRP209</td>\n    </tr>\n    <tr>\n      <th>70</th>\n      <td>N1-36L</td>\n      <td>Barabkunda Z1087-Fouzderhat Z1016 (Left)</td>\n      <td>7205.0</td>\n      <td>7317.0</td>\n      <td>217.4040</td>\n      <td>LRP209</td>\n      <td>LRP225</td>\n    </tr>\n    <tr>\n      <th>71</th>\n      <td>N1-36R</td>\n      <td>Barabkunda Z1087-Fouzderhat Z1016 (Right)</td>\n      <td>7903.0</td>\n      <td>7317.0</td>\n      <td>217.4040</td>\n      <td>LRP209</td>\n      <td>LRP225</td>\n    </tr>\n  </tbody>\n</table>\n<p>72 rows × 7 columns</p>\n</div>"
     },
     "execution_count": 38,
     "metadata": {},
     "output_type": "execute_result"
    }
   ],
   "source": [
    "duplicates = df_traffic_N1_copy[df_traffic_N1_copy.duplicated(subset = ['Average Chainage'], keep = False)]\n",
    "duplicates"
   ],
   "metadata": {
    "collapsed": false,
    "ExecuteTime": {
     "end_time": "2024-03-28T20:22:39.554983600Z",
     "start_time": "2024-03-28T20:22:39.498236400Z"
    }
   }
  },
  {
   "cell_type": "code",
   "execution_count": 32,
   "outputs": [],
   "source": [
    "y = df_traffic_N1_copy.groupby('Average Chainage')['Total Cargo'].mean()"
   ],
   "metadata": {
    "collapsed": false,
    "ExecuteTime": {
     "end_time": "2024-03-28T20:13:51.647623600Z",
     "start_time": "2024-03-28T20:13:51.627496800Z"
    }
   }
  },
  {
   "cell_type": "code",
   "execution_count": null,
   "outputs": [],
   "source": [],
   "metadata": {
    "collapsed": false
   }
  },
  {
   "cell_type": "code",
   "execution_count": 33,
   "outputs": [],
   "source": [
    "#make a new column, average cargo, that computes the average for the two directions of a link by grouping by link no for cargo average traffic data\n"
   ],
   "metadata": {
    "collapsed": false,
    "ExecuteTime": {
     "end_time": "2024-03-28T20:13:54.677022400Z",
     "start_time": "2024-03-28T20:13:54.613569800Z"
    }
   }
  },
  {
   "cell_type": "code",
   "execution_count": 34,
   "outputs": [
    {
     "data": {
      "text/plain": "                  Total Cargo\nAverage Chainage             \n0.4110                 7880.0\n2.4985                 7880.0\n5.6780                 4831.5\n7.9720                 4556.5\n10.3495                8205.0\n...                       ...\n389.8430                616.0\n403.3195                616.0\n412.2390                616.0\n422.4760                616.0\n445.5810                616.0\n\n[69 rows x 1 columns]",
      "text/html": "<div>\n<style scoped>\n    .dataframe tbody tr th:only-of-type {\n        vertical-align: middle;\n    }\n\n    .dataframe tbody tr th {\n        vertical-align: top;\n    }\n\n    .dataframe thead th {\n        text-align: right;\n    }\n</style>\n<table border=\"1\" class=\"dataframe\">\n  <thead>\n    <tr style=\"text-align: right;\">\n      <th></th>\n      <th>Total Cargo</th>\n    </tr>\n    <tr>\n      <th>Average Chainage</th>\n      <th></th>\n    </tr>\n  </thead>\n  <tbody>\n    <tr>\n      <th>0.4110</th>\n      <td>7880.0</td>\n    </tr>\n    <tr>\n      <th>2.4985</th>\n      <td>7880.0</td>\n    </tr>\n    <tr>\n      <th>5.6780</th>\n      <td>4831.5</td>\n    </tr>\n    <tr>\n      <th>7.9720</th>\n      <td>4556.5</td>\n    </tr>\n    <tr>\n      <th>10.3495</th>\n      <td>8205.0</td>\n    </tr>\n    <tr>\n      <th>...</th>\n      <td>...</td>\n    </tr>\n    <tr>\n      <th>389.8430</th>\n      <td>616.0</td>\n    </tr>\n    <tr>\n      <th>403.3195</th>\n      <td>616.0</td>\n    </tr>\n    <tr>\n      <th>412.2390</th>\n      <td>616.0</td>\n    </tr>\n    <tr>\n      <th>422.4760</th>\n      <td>616.0</td>\n    </tr>\n    <tr>\n      <th>445.5810</th>\n      <td>616.0</td>\n    </tr>\n  </tbody>\n</table>\n<p>69 rows × 1 columns</p>\n</div>"
     },
     "execution_count": 34,
     "metadata": {},
     "output_type": "execute_result"
    }
   ],
   "source": [
    "df_y = pd.DataFrame(y)\n",
    "df_y"
   ],
   "metadata": {
    "collapsed": false,
    "ExecuteTime": {
     "end_time": "2024-03-28T20:13:55.311299300Z",
     "start_time": "2024-03-28T20:13:55.266309600Z"
    }
   }
  },
  {
   "cell_type": "code",
   "execution_count": 39,
   "outputs": [],
   "source": [
    "df_traffic_N1_copy.drop_duplicates(subset = ['Average Chainage'], inplace = True)"
   ],
   "metadata": {
    "collapsed": false,
    "ExecuteTime": {
     "end_time": "2024-03-28T20:25:37.736364200Z",
     "start_time": "2024-03-28T20:25:37.722708500Z"
    }
   }
  },
  {
   "cell_type": "code",
   "execution_count": 45,
   "outputs": [],
   "source": [
    "df_traffic_N1_copy.drop(columns = 'Total Cargo', inplace = True)"
   ],
   "metadata": {
    "collapsed": false,
    "ExecuteTime": {
     "end_time": "2024-03-28T20:35:43.331437800Z",
     "start_time": "2024-03-28T20:35:43.318259300Z"
    }
   }
  },
  {
   "cell_type": "code",
   "execution_count": 42,
   "outputs": [],
   "source": [
    "df_traffic_N1_copy['Road'] = df_traffic_N1_copy['Road'].str[0:2]"
   ],
   "metadata": {
    "collapsed": false,
    "ExecuteTime": {
     "end_time": "2024-03-28T20:28:52.260441100Z",
     "start_time": "2024-03-28T20:28:52.239894300Z"
    }
   }
  },
  {
   "cell_type": "code",
   "execution_count": 43,
   "outputs": [
    {
     "data": {
      "text/plain": "    Road                                           Name  Total Cargo  \\\n0     N1       Jatrabari - Int.with Z1101 (Left) (Left)       7391.0   \n2     N1  Int.with Z1101 - Signboard (Left) R111 (Left)       8369.0   \n4     N1         Signboard - Shimrail (Left)R110 (Left)       4981.0   \n6     N1            Shimrail - Katchpur (Left)N2 (Left)       4439.0   \n8     N1          Katchpur - Madanpur (Left)N105 (Left)       8617.0   \n..   ...                                            ...          ...   \n100   N1         Coxsbazar Link Road N110-Maricha Z1009        616.0   \n101   N1            Maricha Z1009-Ukhia Dakbanglo Z1503        616.0   \n102   N1           Ukhia Dakbanglo Z1503 - Gundum Z1504        616.0   \n103   N1             GundumGundum Z1504 - Whykong Z1133        616.0   \n104   N1                         Whykong Z1133 - Teknaf        616.0   \n\n     Total People  Average Chainage Start_LRP End_LRP  \n0         10845.0            0.4110      LRPS    LRPS  \n2         11867.0            2.4985      LRPS    LRPS  \n4         11307.0            5.6780      LRPS    LRPS  \n6         11562.0            7.9720      LRPS  LRP009  \n8         13974.0           10.3495    LRP009  LRP012  \n..            ...               ...       ...     ...  \n100        4065.0          389.8430    LRP386  LRP403  \n101        4065.0          403.3195    LRP403  LRP413  \n102        4065.0          412.2390    LRP413  LRP420  \n103        4065.0          422.4760    LRP420  LRP433  \n104        4065.0          445.5810    LRP433  LRP467  \n\n[69 rows x 7 columns]",
      "text/html": "<div>\n<style scoped>\n    .dataframe tbody tr th:only-of-type {\n        vertical-align: middle;\n    }\n\n    .dataframe tbody tr th {\n        vertical-align: top;\n    }\n\n    .dataframe thead th {\n        text-align: right;\n    }\n</style>\n<table border=\"1\" class=\"dataframe\">\n  <thead>\n    <tr style=\"text-align: right;\">\n      <th></th>\n      <th>Road</th>\n      <th>Name</th>\n      <th>Total Cargo</th>\n      <th>Total People</th>\n      <th>Average Chainage</th>\n      <th>Start_LRP</th>\n      <th>End_LRP</th>\n    </tr>\n  </thead>\n  <tbody>\n    <tr>\n      <th>0</th>\n      <td>N1</td>\n      <td>Jatrabari - Int.with Z1101 (Left) (Left)</td>\n      <td>7391.0</td>\n      <td>10845.0</td>\n      <td>0.4110</td>\n      <td>LRPS</td>\n      <td>LRPS</td>\n    </tr>\n    <tr>\n      <th>2</th>\n      <td>N1</td>\n      <td>Int.with Z1101 - Signboard (Left) R111 (Left)</td>\n      <td>8369.0</td>\n      <td>11867.0</td>\n      <td>2.4985</td>\n      <td>LRPS</td>\n      <td>LRPS</td>\n    </tr>\n    <tr>\n      <th>4</th>\n      <td>N1</td>\n      <td>Signboard - Shimrail (Left)R110 (Left)</td>\n      <td>4981.0</td>\n      <td>11307.0</td>\n      <td>5.6780</td>\n      <td>LRPS</td>\n      <td>LRPS</td>\n    </tr>\n    <tr>\n      <th>6</th>\n      <td>N1</td>\n      <td>Shimrail - Katchpur (Left)N2 (Left)</td>\n      <td>4439.0</td>\n      <td>11562.0</td>\n      <td>7.9720</td>\n      <td>LRPS</td>\n      <td>LRP009</td>\n    </tr>\n    <tr>\n      <th>8</th>\n      <td>N1</td>\n      <td>Katchpur - Madanpur (Left)N105 (Left)</td>\n      <td>8617.0</td>\n      <td>13974.0</td>\n      <td>10.3495</td>\n      <td>LRP009</td>\n      <td>LRP012</td>\n    </tr>\n    <tr>\n      <th>...</th>\n      <td>...</td>\n      <td>...</td>\n      <td>...</td>\n      <td>...</td>\n      <td>...</td>\n      <td>...</td>\n      <td>...</td>\n    </tr>\n    <tr>\n      <th>100</th>\n      <td>N1</td>\n      <td>Coxsbazar Link Road N110-Maricha Z1009</td>\n      <td>616.0</td>\n      <td>4065.0</td>\n      <td>389.8430</td>\n      <td>LRP386</td>\n      <td>LRP403</td>\n    </tr>\n    <tr>\n      <th>101</th>\n      <td>N1</td>\n      <td>Maricha Z1009-Ukhia Dakbanglo Z1503</td>\n      <td>616.0</td>\n      <td>4065.0</td>\n      <td>403.3195</td>\n      <td>LRP403</td>\n      <td>LRP413</td>\n    </tr>\n    <tr>\n      <th>102</th>\n      <td>N1</td>\n      <td>Ukhia Dakbanglo Z1503 - Gundum Z1504</td>\n      <td>616.0</td>\n      <td>4065.0</td>\n      <td>412.2390</td>\n      <td>LRP413</td>\n      <td>LRP420</td>\n    </tr>\n    <tr>\n      <th>103</th>\n      <td>N1</td>\n      <td>GundumGundum Z1504 - Whykong Z1133</td>\n      <td>616.0</td>\n      <td>4065.0</td>\n      <td>422.4760</td>\n      <td>LRP420</td>\n      <td>LRP433</td>\n    </tr>\n    <tr>\n      <th>104</th>\n      <td>N1</td>\n      <td>Whykong Z1133 - Teknaf</td>\n      <td>616.0</td>\n      <td>4065.0</td>\n      <td>445.5810</td>\n      <td>LRP433</td>\n      <td>LRP467</td>\n    </tr>\n  </tbody>\n</table>\n<p>69 rows × 7 columns</p>\n</div>"
     },
     "execution_count": 43,
     "metadata": {},
     "output_type": "execute_result"
    }
   ],
   "source": [
    "df_traffic_N1_copy"
   ],
   "metadata": {
    "collapsed": false,
    "ExecuteTime": {
     "end_time": "2024-03-28T20:28:56.970951400Z",
     "start_time": "2024-03-28T20:28:56.943925500Z"
    }
   }
  },
  {
   "cell_type": "code",
   "execution_count": 50,
   "outputs": [],
   "source": [
    "df_traffic_N1_copy = df_traffic_N1_copy.join(df_y, on='Average Chainage')"
   ],
   "metadata": {
    "collapsed": false,
    "ExecuteTime": {
     "end_time": "2024-03-28T20:39:24.831501400Z",
     "start_time": "2024-03-28T20:39:24.815539Z"
    }
   }
  },
  {
   "cell_type": "code",
   "execution_count": 47,
   "outputs": [
    {
     "data": {
      "text/plain": "                  Total People\nAverage Chainage              \n0.4110                 10845.0\n2.4985                 11867.0\n5.6780                 11307.0\n7.9720                 11562.0\n10.3495                13974.0\n...                        ...\n389.8430                4065.0\n403.3195                4065.0\n412.2390                4065.0\n422.4760                4065.0\n445.5810                4065.0\n\n[69 rows x 1 columns]",
      "text/html": "<div>\n<style scoped>\n    .dataframe tbody tr th:only-of-type {\n        vertical-align: middle;\n    }\n\n    .dataframe tbody tr th {\n        vertical-align: top;\n    }\n\n    .dataframe thead th {\n        text-align: right;\n    }\n</style>\n<table border=\"1\" class=\"dataframe\">\n  <thead>\n    <tr style=\"text-align: right;\">\n      <th></th>\n      <th>Total People</th>\n    </tr>\n    <tr>\n      <th>Average Chainage</th>\n      <th></th>\n    </tr>\n  </thead>\n  <tbody>\n    <tr>\n      <th>0.4110</th>\n      <td>10845.0</td>\n    </tr>\n    <tr>\n      <th>2.4985</th>\n      <td>11867.0</td>\n    </tr>\n    <tr>\n      <th>5.6780</th>\n      <td>11307.0</td>\n    </tr>\n    <tr>\n      <th>7.9720</th>\n      <td>11562.0</td>\n    </tr>\n    <tr>\n      <th>10.3495</th>\n      <td>13974.0</td>\n    </tr>\n    <tr>\n      <th>...</th>\n      <td>...</td>\n    </tr>\n    <tr>\n      <th>389.8430</th>\n      <td>4065.0</td>\n    </tr>\n    <tr>\n      <th>403.3195</th>\n      <td>4065.0</td>\n    </tr>\n    <tr>\n      <th>412.2390</th>\n      <td>4065.0</td>\n    </tr>\n    <tr>\n      <th>422.4760</th>\n      <td>4065.0</td>\n    </tr>\n    <tr>\n      <th>445.5810</th>\n      <td>4065.0</td>\n    </tr>\n  </tbody>\n</table>\n<p>69 rows × 1 columns</p>\n</div>"
     },
     "execution_count": 47,
     "metadata": {},
     "output_type": "execute_result"
    }
   ],
   "source": [
    "#also do the same for average people vehicles\n",
    "x = df_traffic_N1_copy.groupby('Average Chainage')['Total People'].mean()\n",
    "x_df = pd.DataFrame(x)\n",
    "x_df"
   ],
   "metadata": {
    "collapsed": false,
    "ExecuteTime": {
     "end_time": "2024-03-28T20:37:35.824621Z",
     "start_time": "2024-03-28T20:37:35.803666600Z"
    }
   }
  },
  {
   "cell_type": "code",
   "execution_count": 48,
   "outputs": [],
   "source": [
    "df_traffic_N1_copy.drop(columns = 'Total People', inplace = True)"
   ],
   "metadata": {
    "collapsed": false,
    "ExecuteTime": {
     "end_time": "2024-03-28T20:38:17.577373600Z",
     "start_time": "2024-03-28T20:38:17.545599100Z"
    }
   }
  },
  {
   "cell_type": "code",
   "execution_count": 51,
   "outputs": [],
   "source": [
    "df_traffic_N1_copy= df_traffic_N1_copy.join(x_df, on = 'Average Chainage')"
   ],
   "metadata": {
    "collapsed": false,
    "ExecuteTime": {
     "end_time": "2024-03-28T20:40:09.746625900Z",
     "start_time": "2024-03-28T20:40:09.730602600Z"
    }
   }
  },
  {
   "cell_type": "code",
   "execution_count": 10,
   "outputs": [
    {
     "ename": "NameError",
     "evalue": "name 'df_traffic_N1_copy' is not defined",
     "output_type": "error",
     "traceback": [
      "\u001B[1;31m---------------------------------------------------------------------------\u001B[0m",
      "\u001B[1;31mNameError\u001B[0m                                 Traceback (most recent call last)",
      "Cell \u001B[1;32mIn[10], line 1\u001B[0m\n\u001B[1;32m----> 1\u001B[0m \u001B[43mdf_traffic_N1_copy\u001B[49m\u001B[38;5;241m.\u001B[39mreset_index(inplace\u001B[38;5;241m=\u001B[39m\u001B[38;5;28;01mTrue\u001B[39;00m, keep\u001B[38;5;241m=\u001B[39m\u001B[38;5;28;01mFalse\u001B[39;00m)\n",
      "\u001B[1;31mNameError\u001B[0m: name 'df_traffic_N1_copy' is not defined"
     ]
    }
   ],
   "source": [
    "df_traffic_N1_copy.reset_index(inplace=True, keep=False)"
   ],
   "metadata": {
    "collapsed": false,
    "ExecuteTime": {
     "end_time": "2024-03-28T21:35:17.504627500Z",
     "start_time": "2024-03-28T21:35:17.425600400Z"
    }
   }
  },
  {
   "cell_type": "code",
   "execution_count": 54,
   "outputs": [
    {
     "data": {
      "text/plain": "    index Road                                           Name  \\\n0       0   N1       Jatrabari - Int.with Z1101 (Left) (Left)   \n1       2   N1  Int.with Z1101 - Signboard (Left) R111 (Left)   \n2       4   N1         Signboard - Shimrail (Left)R110 (Left)   \n3       6   N1            Shimrail - Katchpur (Left)N2 (Left)   \n4       8   N1          Katchpur - Madanpur (Left)N105 (Left)   \n..    ...  ...                                            ...   \n64    100   N1         Coxsbazar Link Road N110-Maricha Z1009   \n65    101   N1            Maricha Z1009-Ukhia Dakbanglo Z1503   \n66    102   N1           Ukhia Dakbanglo Z1503 - Gundum Z1504   \n67    103   N1             GundumGundum Z1504 - Whykong Z1133   \n68    104   N1                         Whykong Z1133 - Teknaf   \n\n    Average Chainage Start_LRP End_LRP  Total Cargo  Total People  \n0             0.4110      LRPS    LRPS       7880.0       10845.0  \n1             2.4985      LRPS    LRPS       7880.0       11867.0  \n2             5.6780      LRPS    LRPS       4831.5       11307.0  \n3             7.9720      LRPS  LRP009       4556.5       11562.0  \n4            10.3495    LRP009  LRP012       8205.0       13974.0  \n..               ...       ...     ...          ...           ...  \n64          389.8430    LRP386  LRP403        616.0        4065.0  \n65          403.3195    LRP403  LRP413        616.0        4065.0  \n66          412.2390    LRP413  LRP420        616.0        4065.0  \n67          422.4760    LRP420  LRP433        616.0        4065.0  \n68          445.5810    LRP433  LRP467        616.0        4065.0  \n\n[69 rows x 8 columns]",
      "text/html": "<div>\n<style scoped>\n    .dataframe tbody tr th:only-of-type {\n        vertical-align: middle;\n    }\n\n    .dataframe tbody tr th {\n        vertical-align: top;\n    }\n\n    .dataframe thead th {\n        text-align: right;\n    }\n</style>\n<table border=\"1\" class=\"dataframe\">\n  <thead>\n    <tr style=\"text-align: right;\">\n      <th></th>\n      <th>index</th>\n      <th>Road</th>\n      <th>Name</th>\n      <th>Average Chainage</th>\n      <th>Start_LRP</th>\n      <th>End_LRP</th>\n      <th>Total Cargo</th>\n      <th>Total People</th>\n    </tr>\n  </thead>\n  <tbody>\n    <tr>\n      <th>0</th>\n      <td>0</td>\n      <td>N1</td>\n      <td>Jatrabari - Int.with Z1101 (Left) (Left)</td>\n      <td>0.4110</td>\n      <td>LRPS</td>\n      <td>LRPS</td>\n      <td>7880.0</td>\n      <td>10845.0</td>\n    </tr>\n    <tr>\n      <th>1</th>\n      <td>2</td>\n      <td>N1</td>\n      <td>Int.with Z1101 - Signboard (Left) R111 (Left)</td>\n      <td>2.4985</td>\n      <td>LRPS</td>\n      <td>LRPS</td>\n      <td>7880.0</td>\n      <td>11867.0</td>\n    </tr>\n    <tr>\n      <th>2</th>\n      <td>4</td>\n      <td>N1</td>\n      <td>Signboard - Shimrail (Left)R110 (Left)</td>\n      <td>5.6780</td>\n      <td>LRPS</td>\n      <td>LRPS</td>\n      <td>4831.5</td>\n      <td>11307.0</td>\n    </tr>\n    <tr>\n      <th>3</th>\n      <td>6</td>\n      <td>N1</td>\n      <td>Shimrail - Katchpur (Left)N2 (Left)</td>\n      <td>7.9720</td>\n      <td>LRPS</td>\n      <td>LRP009</td>\n      <td>4556.5</td>\n      <td>11562.0</td>\n    </tr>\n    <tr>\n      <th>4</th>\n      <td>8</td>\n      <td>N1</td>\n      <td>Katchpur - Madanpur (Left)N105 (Left)</td>\n      <td>10.3495</td>\n      <td>LRP009</td>\n      <td>LRP012</td>\n      <td>8205.0</td>\n      <td>13974.0</td>\n    </tr>\n    <tr>\n      <th>...</th>\n      <td>...</td>\n      <td>...</td>\n      <td>...</td>\n      <td>...</td>\n      <td>...</td>\n      <td>...</td>\n      <td>...</td>\n      <td>...</td>\n    </tr>\n    <tr>\n      <th>64</th>\n      <td>100</td>\n      <td>N1</td>\n      <td>Coxsbazar Link Road N110-Maricha Z1009</td>\n      <td>389.8430</td>\n      <td>LRP386</td>\n      <td>LRP403</td>\n      <td>616.0</td>\n      <td>4065.0</td>\n    </tr>\n    <tr>\n      <th>65</th>\n      <td>101</td>\n      <td>N1</td>\n      <td>Maricha Z1009-Ukhia Dakbanglo Z1503</td>\n      <td>403.3195</td>\n      <td>LRP403</td>\n      <td>LRP413</td>\n      <td>616.0</td>\n      <td>4065.0</td>\n    </tr>\n    <tr>\n      <th>66</th>\n      <td>102</td>\n      <td>N1</td>\n      <td>Ukhia Dakbanglo Z1503 - Gundum Z1504</td>\n      <td>412.2390</td>\n      <td>LRP413</td>\n      <td>LRP420</td>\n      <td>616.0</td>\n      <td>4065.0</td>\n    </tr>\n    <tr>\n      <th>67</th>\n      <td>103</td>\n      <td>N1</td>\n      <td>GundumGundum Z1504 - Whykong Z1133</td>\n      <td>422.4760</td>\n      <td>LRP420</td>\n      <td>LRP433</td>\n      <td>616.0</td>\n      <td>4065.0</td>\n    </tr>\n    <tr>\n      <th>68</th>\n      <td>104</td>\n      <td>N1</td>\n      <td>Whykong Z1133 - Teknaf</td>\n      <td>445.5810</td>\n      <td>LRP433</td>\n      <td>LRP467</td>\n      <td>616.0</td>\n      <td>4065.0</td>\n    </tr>\n  </tbody>\n</table>\n<p>69 rows × 8 columns</p>\n</div>"
     },
     "execution_count": 54,
     "metadata": {},
     "output_type": "execute_result"
    }
   ],
   "source": [
    "df_traffic_N1_copy\n"
   ],
   "metadata": {
    "collapsed": false,
    "ExecuteTime": {
     "end_time": "2024-03-28T20:44:56.534106800Z",
     "start_time": "2024-03-28T20:44:56.505360300Z"
    }
   }
  },
  {
   "cell_type": "code",
   "execution_count": null,
   "outputs": [],
   "source": [],
   "metadata": {
    "collapsed": false
   }
  }
 ],
 "metadata": {
  "kernelspec": {
   "display_name": "Python 3",
   "language": "python",
   "name": "python3"
  },
  "language_info": {
   "codemirror_mode": {
    "name": "ipython",
    "version": 2
   },
   "file_extension": ".py",
   "mimetype": "text/x-python",
   "name": "python",
   "nbconvert_exporter": "python",
   "pygments_lexer": "ipython2",
   "version": "2.7.6"
  }
 },
 "nbformat": 4,
 "nbformat_minor": 0
}
