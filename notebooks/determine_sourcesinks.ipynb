{
 "cells": [
  {
   "cell_type": "code",
   "execution_count": 1,
   "id": "c2e6c80b-b5c2-4a02-92ff-0f88e6fa0812",
   "metadata": {
    "ExecuteTime": {
     "end_time": "2024-04-04T19:35:37.157435600Z",
     "start_time": "2024-04-04T19:35:36.465337200Z"
    }
   },
   "outputs": [],
   "source": [
    "import pandas as pd"
   ]
  },
  {
   "cell_type": "code",
   "execution_count": 2,
   "id": "2eab0e48-7841-452c-9d49-b3459e1a9466",
   "metadata": {
    "ExecuteTime": {
     "end_time": "2024-04-04T19:35:37.198807500Z",
     "start_time": "2024-04-04T19:35:37.158435400Z"
    }
   },
   "outputs": [],
   "source": [
    "df = pd.read_csv('../data/cleaned_traffic_flows.csv')\n",
    "df.drop('Unnamed: 0', axis=1, inplace=True)\n",
    "df['Total Transport'] = df['Total Cargo'] + df['Total People']\n",
    "df['Total Transport Weight'] = df['Total Transport']/sum(df['Total Transport'])"
   ]
  },
  {
   "cell_type": "code",
   "outputs": [
    {
     "data": {
      "text/plain": "     Road                                               Name  \\\n0      N1           Jatrabari - Int.with Z1101 (Left) (Left)   \n1      N1      Int.with Z1101 - Signboard (Left) R111 (Left)   \n2      N1             Signboard - Shimrail (Left)R110 (Left)   \n3      N1                Shimrail - Katchpur (Left)N2 (Left)   \n4      N1              Katchpur - Madanpur (Left)N105 (Left)   \n..    ...                                                ...   \n163  N208                         Moulvibazar-Int.with Z2002   \n164  N208            Int.with Z2002-Rajnagar (Int.with R281)   \n165  N208  Rajnagar(Int.with R281)-Daudabad (Int.with Z2832)   \n166  N208  Daudabad (Int.with Z2832)-Royal City Chottor(i...   \n167  N208      Royal City Chottor(int.with N210)-Int.with N2   \n\n     Average Chainage Start_LRP End_LRP  Total Cargo  Total People  \\\n0              0.0000      LRPS    LRPS       7880.0       11356.0   \n1              2.4985      LRPS    LRPS       7880.0       11356.0   \n2              5.6780      LRPS    LRPS       4831.5       11035.0   \n3              7.9720      LRPS  LRP009       4556.5       11442.0   \n4             10.3495    LRP009  LRP012       8205.0       14361.0   \n..                ...       ...     ...          ...           ...   \n163            0.0000      LRPS    LRPS        964.0        6550.0   \n164            3.1900      LRPS  LRP012        964.0        6550.0   \n165           32.2555    LRP012  LRP052        920.0        4408.0   \n166           53.3420    LRP052  LRP054        920.0        4408.0   \n167           57.4950    LRP054  LRP058       2191.0        7297.0   \n\n     Total Transport  Total Transport Weight  \n0            19236.0                0.012165  \n1            19236.0                0.012165  \n2            15866.5                0.010034  \n3            15998.5                0.010118  \n4            22566.0                0.014271  \n..               ...                     ...  \n163           7514.0                0.004752  \n164           7514.0                0.004752  \n165           5328.0                0.003370  \n166           5328.0                0.003370  \n167           9488.0                0.006001  \n\n[168 rows x 9 columns]",
      "text/html": "<div>\n<style scoped>\n    .dataframe tbody tr th:only-of-type {\n        vertical-align: middle;\n    }\n\n    .dataframe tbody tr th {\n        vertical-align: top;\n    }\n\n    .dataframe thead th {\n        text-align: right;\n    }\n</style>\n<table border=\"1\" class=\"dataframe\">\n  <thead>\n    <tr style=\"text-align: right;\">\n      <th></th>\n      <th>Road</th>\n      <th>Name</th>\n      <th>Average Chainage</th>\n      <th>Start_LRP</th>\n      <th>End_LRP</th>\n      <th>Total Cargo</th>\n      <th>Total People</th>\n      <th>Total Transport</th>\n      <th>Total Transport Weight</th>\n    </tr>\n  </thead>\n  <tbody>\n    <tr>\n      <th>0</th>\n      <td>N1</td>\n      <td>Jatrabari - Int.with Z1101 (Left) (Left)</td>\n      <td>0.0000</td>\n      <td>LRPS</td>\n      <td>LRPS</td>\n      <td>7880.0</td>\n      <td>11356.0</td>\n      <td>19236.0</td>\n      <td>0.012165</td>\n    </tr>\n    <tr>\n      <th>1</th>\n      <td>N1</td>\n      <td>Int.with Z1101 - Signboard (Left) R111 (Left)</td>\n      <td>2.4985</td>\n      <td>LRPS</td>\n      <td>LRPS</td>\n      <td>7880.0</td>\n      <td>11356.0</td>\n      <td>19236.0</td>\n      <td>0.012165</td>\n    </tr>\n    <tr>\n      <th>2</th>\n      <td>N1</td>\n      <td>Signboard - Shimrail (Left)R110 (Left)</td>\n      <td>5.6780</td>\n      <td>LRPS</td>\n      <td>LRPS</td>\n      <td>4831.5</td>\n      <td>11035.0</td>\n      <td>15866.5</td>\n      <td>0.010034</td>\n    </tr>\n    <tr>\n      <th>3</th>\n      <td>N1</td>\n      <td>Shimrail - Katchpur (Left)N2 (Left)</td>\n      <td>7.9720</td>\n      <td>LRPS</td>\n      <td>LRP009</td>\n      <td>4556.5</td>\n      <td>11442.0</td>\n      <td>15998.5</td>\n      <td>0.010118</td>\n    </tr>\n    <tr>\n      <th>4</th>\n      <td>N1</td>\n      <td>Katchpur - Madanpur (Left)N105 (Left)</td>\n      <td>10.3495</td>\n      <td>LRP009</td>\n      <td>LRP012</td>\n      <td>8205.0</td>\n      <td>14361.0</td>\n      <td>22566.0</td>\n      <td>0.014271</td>\n    </tr>\n    <tr>\n      <th>...</th>\n      <td>...</td>\n      <td>...</td>\n      <td>...</td>\n      <td>...</td>\n      <td>...</td>\n      <td>...</td>\n      <td>...</td>\n      <td>...</td>\n      <td>...</td>\n    </tr>\n    <tr>\n      <th>163</th>\n      <td>N208</td>\n      <td>Moulvibazar-Int.with Z2002</td>\n      <td>0.0000</td>\n      <td>LRPS</td>\n      <td>LRPS</td>\n      <td>964.0</td>\n      <td>6550.0</td>\n      <td>7514.0</td>\n      <td>0.004752</td>\n    </tr>\n    <tr>\n      <th>164</th>\n      <td>N208</td>\n      <td>Int.with Z2002-Rajnagar (Int.with R281)</td>\n      <td>3.1900</td>\n      <td>LRPS</td>\n      <td>LRP012</td>\n      <td>964.0</td>\n      <td>6550.0</td>\n      <td>7514.0</td>\n      <td>0.004752</td>\n    </tr>\n    <tr>\n      <th>165</th>\n      <td>N208</td>\n      <td>Rajnagar(Int.with R281)-Daudabad (Int.with Z2832)</td>\n      <td>32.2555</td>\n      <td>LRP012</td>\n      <td>LRP052</td>\n      <td>920.0</td>\n      <td>4408.0</td>\n      <td>5328.0</td>\n      <td>0.003370</td>\n    </tr>\n    <tr>\n      <th>166</th>\n      <td>N208</td>\n      <td>Daudabad (Int.with Z2832)-Royal City Chottor(i...</td>\n      <td>53.3420</td>\n      <td>LRP052</td>\n      <td>LRP054</td>\n      <td>920.0</td>\n      <td>4408.0</td>\n      <td>5328.0</td>\n      <td>0.003370</td>\n    </tr>\n    <tr>\n      <th>167</th>\n      <td>N208</td>\n      <td>Royal City Chottor(int.with N210)-Int.with N2</td>\n      <td>57.4950</td>\n      <td>LRP054</td>\n      <td>LRP058</td>\n      <td>2191.0</td>\n      <td>7297.0</td>\n      <td>9488.0</td>\n      <td>0.006001</td>\n    </tr>\n  </tbody>\n</table>\n<p>168 rows × 9 columns</p>\n</div>"
     },
     "execution_count": 3,
     "metadata": {},
     "output_type": "execute_result"
    }
   ],
   "source": [
    "df"
   ],
   "metadata": {
    "collapsed": false,
    "ExecuteTime": {
     "end_time": "2024-04-04T19:35:37.223340500Z",
     "start_time": "2024-04-04T19:35:37.186809300Z"
    }
   },
   "id": "7066ba27216b5d83",
   "execution_count": 3
  },
  {
   "cell_type": "code",
   "execution_count": 4,
   "id": "60dbe0e4-44b7-4df4-93b1-e906a81f616b",
   "metadata": {
    "ExecuteTime": {
     "end_time": "2024-04-04T19:35:37.223340500Z",
     "start_time": "2024-04-04T19:35:37.211333500Z"
    }
   },
   "outputs": [],
   "source": [
    "def determine_sourcesinks(df, n_sourcesinks):\n",
    "    sort_df = df.sort_values(by='Total Transport Weight', ascending=False).reset_index(drop=True)\n",
    "    sourcesinks = sort_df.iloc[:n_sourcesinks]\n",
    "    sourcesinks['SourceSink Cargo Weight'] = sourcesinks['Total Cargo']/sum(sourcesinks['Total Cargo'])\n",
    "    sourcesinks['SourceSink People Weight'] = sourcesinks['Total People']/sum(sourcesinks['Total People'])\n",
    "    return sourcesinks"
   ]
  },
  {
   "cell_type": "code",
   "execution_count": 5,
   "id": "2bf8e4dc-f993-42bc-99d2-94bbb0f395f8",
   "metadata": {
    "ExecuteTime": {
     "end_time": "2024-04-04T19:35:37.257938300Z",
     "start_time": "2024-04-04T19:35:37.219341800Z"
    }
   },
   "outputs": [
    {
     "name": "stderr",
     "output_type": "stream",
     "text": [
      "C:\\Users\\simon\\AppData\\Local\\Temp\\ipykernel_9408\\3230064848.py:4: SettingWithCopyWarning: \n",
      "A value is trying to be set on a copy of a slice from a DataFrame.\n",
      "Try using .loc[row_indexer,col_indexer] = value instead\n",
      "\n",
      "See the caveats in the documentation: https://pandas.pydata.org/pandas-docs/stable/user_guide/indexing.html#returning-a-view-versus-a-copy\n",
      "  sourcesinks['SourceSink Cargo Weight'] = sourcesinks['Total Cargo']/sum(sourcesinks['Total Cargo'])\n",
      "C:\\Users\\simon\\AppData\\Local\\Temp\\ipykernel_9408\\3230064848.py:5: SettingWithCopyWarning: \n",
      "A value is trying to be set on a copy of a slice from a DataFrame.\n",
      "Try using .loc[row_indexer,col_indexer] = value instead\n",
      "\n",
      "See the caveats in the documentation: https://pandas.pydata.org/pandas-docs/stable/user_guide/indexing.html#returning-a-view-versus-a-copy\n",
      "  sourcesinks['SourceSink People Weight'] = sourcesinks['Total People']/sum(sourcesinks['Total People'])\n"
     ]
    },
    {
     "data": {
      "text/plain": "  Road                                               Name  Average Chainage  \\\n0   N2                    Katchpur-Tarabo (Int with R201)            0.0000   \n1   N1              Katchpur - Madanpur (Left)N105 (Left)           10.3495   \n2   N1           Madanpur - Langalband (Left)Z1061 (Left)           13.9355   \n3   N1  Langalband - Mograpara Chowrasta (Left)Z1089 (...           17.9895   \n4   N8                   Jatrabari-Jurain (int.with R810)            0.0000   \n\n  Start_LRP End_LRP  Total Cargo  Total People  Total Transport  \\\n0      LRPS  LRP002       6710.0       16598.0          23308.0   \n1    LRP009  LRP012       8205.0       14361.0          22566.0   \n2    LRP012  LRP013       8205.0       14361.0          22566.0   \n3    LRP013  LRP013       8205.0       14361.0          22566.0   \n4      LRPS    LRPS       3677.0       17946.0          21623.0   \n\n   Total Transport Weight  SourceSink Cargo Weight  SourceSink People Weight  \n0                0.014741                 0.191703                  0.213817  \n1                0.014271                 0.234415                  0.185000  \n2                0.014271                 0.234415                  0.185000  \n3                0.014271                 0.234415                  0.185000  \n4                0.013675                 0.105051                  0.231182  ",
      "text/html": "<div>\n<style scoped>\n    .dataframe tbody tr th:only-of-type {\n        vertical-align: middle;\n    }\n\n    .dataframe tbody tr th {\n        vertical-align: top;\n    }\n\n    .dataframe thead th {\n        text-align: right;\n    }\n</style>\n<table border=\"1\" class=\"dataframe\">\n  <thead>\n    <tr style=\"text-align: right;\">\n      <th></th>\n      <th>Road</th>\n      <th>Name</th>\n      <th>Average Chainage</th>\n      <th>Start_LRP</th>\n      <th>End_LRP</th>\n      <th>Total Cargo</th>\n      <th>Total People</th>\n      <th>Total Transport</th>\n      <th>Total Transport Weight</th>\n      <th>SourceSink Cargo Weight</th>\n      <th>SourceSink People Weight</th>\n    </tr>\n  </thead>\n  <tbody>\n    <tr>\n      <th>0</th>\n      <td>N2</td>\n      <td>Katchpur-Tarabo (Int with R201)</td>\n      <td>0.0000</td>\n      <td>LRPS</td>\n      <td>LRP002</td>\n      <td>6710.0</td>\n      <td>16598.0</td>\n      <td>23308.0</td>\n      <td>0.014741</td>\n      <td>0.191703</td>\n      <td>0.213817</td>\n    </tr>\n    <tr>\n      <th>1</th>\n      <td>N1</td>\n      <td>Katchpur - Madanpur (Left)N105 (Left)</td>\n      <td>10.3495</td>\n      <td>LRP009</td>\n      <td>LRP012</td>\n      <td>8205.0</td>\n      <td>14361.0</td>\n      <td>22566.0</td>\n      <td>0.014271</td>\n      <td>0.234415</td>\n      <td>0.185000</td>\n    </tr>\n    <tr>\n      <th>2</th>\n      <td>N1</td>\n      <td>Madanpur - Langalband (Left)Z1061 (Left)</td>\n      <td>13.9355</td>\n      <td>LRP012</td>\n      <td>LRP013</td>\n      <td>8205.0</td>\n      <td>14361.0</td>\n      <td>22566.0</td>\n      <td>0.014271</td>\n      <td>0.234415</td>\n      <td>0.185000</td>\n    </tr>\n    <tr>\n      <th>3</th>\n      <td>N1</td>\n      <td>Langalband - Mograpara Chowrasta (Left)Z1089 (...</td>\n      <td>17.9895</td>\n      <td>LRP013</td>\n      <td>LRP013</td>\n      <td>8205.0</td>\n      <td>14361.0</td>\n      <td>22566.0</td>\n      <td>0.014271</td>\n      <td>0.234415</td>\n      <td>0.185000</td>\n    </tr>\n    <tr>\n      <th>4</th>\n      <td>N8</td>\n      <td>Jatrabari-Jurain (int.with R810)</td>\n      <td>0.0000</td>\n      <td>LRPS</td>\n      <td>LRPS</td>\n      <td>3677.0</td>\n      <td>17946.0</td>\n      <td>21623.0</td>\n      <td>0.013675</td>\n      <td>0.105051</td>\n      <td>0.231182</td>\n    </tr>\n  </tbody>\n</table>\n</div>"
     },
     "execution_count": 5,
     "metadata": {},
     "output_type": "execute_result"
    }
   ],
   "source": [
    "sourcesinks = determine_sourcesinks(df, 5)\n",
    "sourcesinks"
   ]
  },
  {
   "cell_type": "code",
   "outputs": [],
   "source": [
    "# get roads\n",
    "roads = df['Road'].unique().tolist()\n",
    "# for each road in list roads\n",
    "for road in roads:\n",
    "    road_subset = df[df['Road'] == road]\n",
    "    # retrieve index of last row\n",
    "    road_last_index = road_subset.index[-1]\n",
    "    # retrieve full row of last index\n",
    "    road_last_row = df.iloc[road_last_index]\n",
    "    # add to sourcesinks\n",
    "    sourcesinks.loc[len(sourcesinks.index)] = road_last_row\n",
    "    # retrieve index of first row\n",
    "    road_first_index = road_subset.index[0]\n",
    "    # retrieve full row of first index\n",
    "    road_first_row = df.iloc[road_first_index]\n",
    "    # add to sourcesinks\n",
    "    sourcesinks.loc[len(sourcesinks.index)] = road_first_row\n",
    "    "
   ],
   "metadata": {
    "collapsed": false,
    "ExecuteTime": {
     "end_time": "2024-04-04T19:35:37.359754100Z",
     "start_time": "2024-04-04T19:35:37.243810400Z"
    }
   },
   "id": "a04c863a389914ba",
   "execution_count": 6
  },
  {
   "cell_type": "code",
   "outputs": [
    {
     "data": {
      "text/plain": "    Road                                               Name  Average Chainage  \\\n0     N2                    Katchpur-Tarabo (Int with R201)            0.0000   \n1     N1              Katchpur - Madanpur (Left)N105 (Left)           10.3495   \n2     N1           Madanpur - Langalband (Left)Z1061 (Left)           13.9355   \n3     N1  Langalband - Mograpara Chowrasta (Left)Z1089 (...           17.9895   \n4     N8                   Jatrabari-Jurain (int.with R810)            0.0000   \n5     N1                             Whykong Z1133 - Teknaf          462.2540   \n6     N1           Jatrabari - Int.with Z1101 (Left) (Left)            0.0000   \n7     N2                     Tamabil(Int.with N212)-Jaflong          286.5160   \n8     N2                    Katchpur-Tarabo (Int with R201)            0.0000   \n9   N102  Gathuria(Int. with N103)-Sarail(Kathihat, int....           83.3820   \n10  N102    Mainamati-Kangsanagar (Intersection with Z1219)            0.0000   \n11  N104                    Maijdee(Int.with Z1429)-Sonapur           49.6300   \n12  N104  Feni (Trank Road)-Feni (Mohipal Chourasta) Int...            0.0000   \n13  N105  Vogra Bypass(Int.with N3)-End of Road (Int.wit...           48.8810   \n14  N105  Madanpur (13th km of N1)-Nayapur, Bostail (Int...            0.0000   \n15    N8              Lebukhali (Int. with Z8806)-End of N8          205.1270   \n16    N8                   Jatrabari-Jurain (int.with R810)            0.0000   \n17  N204          Chunarughat (Int.with Z2008)-Shaisthaganj           34.4210   \n18  N204           Jagadishpur-Chunarughat (Int.with Z2008)            0.0000   \n19  N207                Moulvibazar (Int.with N208)-Sherpur           67.9850   \n20  N207                Mirpur-Natun Bazar (Int.with Z2008)            0.0000   \n21  N208      Royal City Chottor(int.with N210)-Int.with N2           57.4950   \n22  N208                         Moulvibazar-Int.with Z2002            0.0000   \n\n   Start_LRP End_LRP  Total Cargo  Total People  Total Transport  \\\n0       LRPS  LRP002       6710.0       16598.0          23308.0   \n1     LRP009  LRP012       8205.0       14361.0          22566.0   \n2     LRP012  LRP013       8205.0       14361.0          22566.0   \n3     LRP013  LRP013       8205.0       14361.0          22566.0   \n4       LRPS    LRPS       3677.0       17946.0          21623.0   \n5     LRP433  LRP467        616.0        4065.0           4681.0   \n6       LRPS    LRPS       7880.0       11356.0          19236.0   \n7     LRP282  LRP287       2031.0        2712.0           4743.0   \n8       LRPS  LRP002       6710.0       16598.0          23308.0   \n9     LRP070    LRPE       2602.0        8919.0          11521.0   \n10      LRPS  LRP009       1737.0        7362.0           9099.0   \n11    LRP044    LRPE       1190.0        6708.0           7898.0   \n12      LRPS    LRPS       1171.0        6628.0           7799.0   \n13    LRP045    LRPE       5216.0        5157.0          10373.0   \n14      LRPS  LRP006       4999.0        8112.0          13111.0   \n15    LRP194  LRP205        955.0        3533.0           4488.0   \n16      LRPS    LRPS       3677.0       17946.0          21623.0   \n17    LRP022    LRPE        366.0        1905.0           2271.0   \n18      LRPS  LRP022        366.0        1905.0           2271.0   \n19    LRP043    LRPE        766.0        4272.0           5038.0   \n20      LRPS  LRP001        766.0        4272.0           5038.0   \n21    LRP054  LRP058       2191.0        7297.0           9488.0   \n22      LRPS    LRPS        964.0        6550.0           7514.0   \n\n    Total Transport Weight  SourceSink Cargo Weight  SourceSink People Weight  \n0                 0.014741                 0.191703                  0.213817  \n1                 0.014271                 0.234415                  0.185000  \n2                 0.014271                 0.234415                  0.185000  \n3                 0.014271                 0.234415                  0.185000  \n4                 0.013675                 0.105051                  0.231182  \n5                 0.002960                      NaN                       NaN  \n6                 0.012165                      NaN                       NaN  \n7                 0.003000                      NaN                       NaN  \n8                 0.014741                      NaN                       NaN  \n9                 0.007286                      NaN                       NaN  \n10                0.005754                      NaN                       NaN  \n11                0.004995                      NaN                       NaN  \n12                0.004932                      NaN                       NaN  \n13                0.006560                      NaN                       NaN  \n14                0.008292                      NaN                       NaN  \n15                0.002838                      NaN                       NaN  \n16                0.013675                      NaN                       NaN  \n17                0.001436                      NaN                       NaN  \n18                0.001436                      NaN                       NaN  \n19                0.003186                      NaN                       NaN  \n20                0.003186                      NaN                       NaN  \n21                0.006001                      NaN                       NaN  \n22                0.004752                      NaN                       NaN  ",
      "text/html": "<div>\n<style scoped>\n    .dataframe tbody tr th:only-of-type {\n        vertical-align: middle;\n    }\n\n    .dataframe tbody tr th {\n        vertical-align: top;\n    }\n\n    .dataframe thead th {\n        text-align: right;\n    }\n</style>\n<table border=\"1\" class=\"dataframe\">\n  <thead>\n    <tr style=\"text-align: right;\">\n      <th></th>\n      <th>Road</th>\n      <th>Name</th>\n      <th>Average Chainage</th>\n      <th>Start_LRP</th>\n      <th>End_LRP</th>\n      <th>Total Cargo</th>\n      <th>Total People</th>\n      <th>Total Transport</th>\n      <th>Total Transport Weight</th>\n      <th>SourceSink Cargo Weight</th>\n      <th>SourceSink People Weight</th>\n    </tr>\n  </thead>\n  <tbody>\n    <tr>\n      <th>0</th>\n      <td>N2</td>\n      <td>Katchpur-Tarabo (Int with R201)</td>\n      <td>0.0000</td>\n      <td>LRPS</td>\n      <td>LRP002</td>\n      <td>6710.0</td>\n      <td>16598.0</td>\n      <td>23308.0</td>\n      <td>0.014741</td>\n      <td>0.191703</td>\n      <td>0.213817</td>\n    </tr>\n    <tr>\n      <th>1</th>\n      <td>N1</td>\n      <td>Katchpur - Madanpur (Left)N105 (Left)</td>\n      <td>10.3495</td>\n      <td>LRP009</td>\n      <td>LRP012</td>\n      <td>8205.0</td>\n      <td>14361.0</td>\n      <td>22566.0</td>\n      <td>0.014271</td>\n      <td>0.234415</td>\n      <td>0.185000</td>\n    </tr>\n    <tr>\n      <th>2</th>\n      <td>N1</td>\n      <td>Madanpur - Langalband (Left)Z1061 (Left)</td>\n      <td>13.9355</td>\n      <td>LRP012</td>\n      <td>LRP013</td>\n      <td>8205.0</td>\n      <td>14361.0</td>\n      <td>22566.0</td>\n      <td>0.014271</td>\n      <td>0.234415</td>\n      <td>0.185000</td>\n    </tr>\n    <tr>\n      <th>3</th>\n      <td>N1</td>\n      <td>Langalband - Mograpara Chowrasta (Left)Z1089 (...</td>\n      <td>17.9895</td>\n      <td>LRP013</td>\n      <td>LRP013</td>\n      <td>8205.0</td>\n      <td>14361.0</td>\n      <td>22566.0</td>\n      <td>0.014271</td>\n      <td>0.234415</td>\n      <td>0.185000</td>\n    </tr>\n    <tr>\n      <th>4</th>\n      <td>N8</td>\n      <td>Jatrabari-Jurain (int.with R810)</td>\n      <td>0.0000</td>\n      <td>LRPS</td>\n      <td>LRPS</td>\n      <td>3677.0</td>\n      <td>17946.0</td>\n      <td>21623.0</td>\n      <td>0.013675</td>\n      <td>0.105051</td>\n      <td>0.231182</td>\n    </tr>\n    <tr>\n      <th>5</th>\n      <td>N1</td>\n      <td>Whykong Z1133 - Teknaf</td>\n      <td>462.2540</td>\n      <td>LRP433</td>\n      <td>LRP467</td>\n      <td>616.0</td>\n      <td>4065.0</td>\n      <td>4681.0</td>\n      <td>0.002960</td>\n      <td>NaN</td>\n      <td>NaN</td>\n    </tr>\n    <tr>\n      <th>6</th>\n      <td>N1</td>\n      <td>Jatrabari - Int.with Z1101 (Left) (Left)</td>\n      <td>0.0000</td>\n      <td>LRPS</td>\n      <td>LRPS</td>\n      <td>7880.0</td>\n      <td>11356.0</td>\n      <td>19236.0</td>\n      <td>0.012165</td>\n      <td>NaN</td>\n      <td>NaN</td>\n    </tr>\n    <tr>\n      <th>7</th>\n      <td>N2</td>\n      <td>Tamabil(Int.with N212)-Jaflong</td>\n      <td>286.5160</td>\n      <td>LRP282</td>\n      <td>LRP287</td>\n      <td>2031.0</td>\n      <td>2712.0</td>\n      <td>4743.0</td>\n      <td>0.003000</td>\n      <td>NaN</td>\n      <td>NaN</td>\n    </tr>\n    <tr>\n      <th>8</th>\n      <td>N2</td>\n      <td>Katchpur-Tarabo (Int with R201)</td>\n      <td>0.0000</td>\n      <td>LRPS</td>\n      <td>LRP002</td>\n      <td>6710.0</td>\n      <td>16598.0</td>\n      <td>23308.0</td>\n      <td>0.014741</td>\n      <td>NaN</td>\n      <td>NaN</td>\n    </tr>\n    <tr>\n      <th>9</th>\n      <td>N102</td>\n      <td>Gathuria(Int. with N103)-Sarail(Kathihat, int....</td>\n      <td>83.3820</td>\n      <td>LRP070</td>\n      <td>LRPE</td>\n      <td>2602.0</td>\n      <td>8919.0</td>\n      <td>11521.0</td>\n      <td>0.007286</td>\n      <td>NaN</td>\n      <td>NaN</td>\n    </tr>\n    <tr>\n      <th>10</th>\n      <td>N102</td>\n      <td>Mainamati-Kangsanagar (Intersection with Z1219)</td>\n      <td>0.0000</td>\n      <td>LRPS</td>\n      <td>LRP009</td>\n      <td>1737.0</td>\n      <td>7362.0</td>\n      <td>9099.0</td>\n      <td>0.005754</td>\n      <td>NaN</td>\n      <td>NaN</td>\n    </tr>\n    <tr>\n      <th>11</th>\n      <td>N104</td>\n      <td>Maijdee(Int.with Z1429)-Sonapur</td>\n      <td>49.6300</td>\n      <td>LRP044</td>\n      <td>LRPE</td>\n      <td>1190.0</td>\n      <td>6708.0</td>\n      <td>7898.0</td>\n      <td>0.004995</td>\n      <td>NaN</td>\n      <td>NaN</td>\n    </tr>\n    <tr>\n      <th>12</th>\n      <td>N104</td>\n      <td>Feni (Trank Road)-Feni (Mohipal Chourasta) Int...</td>\n      <td>0.0000</td>\n      <td>LRPS</td>\n      <td>LRPS</td>\n      <td>1171.0</td>\n      <td>6628.0</td>\n      <td>7799.0</td>\n      <td>0.004932</td>\n      <td>NaN</td>\n      <td>NaN</td>\n    </tr>\n    <tr>\n      <th>13</th>\n      <td>N105</td>\n      <td>Vogra Bypass(Int.with N3)-End of Road (Int.wit...</td>\n      <td>48.8810</td>\n      <td>LRP045</td>\n      <td>LRPE</td>\n      <td>5216.0</td>\n      <td>5157.0</td>\n      <td>10373.0</td>\n      <td>0.006560</td>\n      <td>NaN</td>\n      <td>NaN</td>\n    </tr>\n    <tr>\n      <th>14</th>\n      <td>N105</td>\n      <td>Madanpur (13th km of N1)-Nayapur, Bostail (Int...</td>\n      <td>0.0000</td>\n      <td>LRPS</td>\n      <td>LRP006</td>\n      <td>4999.0</td>\n      <td>8112.0</td>\n      <td>13111.0</td>\n      <td>0.008292</td>\n      <td>NaN</td>\n      <td>NaN</td>\n    </tr>\n    <tr>\n      <th>15</th>\n      <td>N8</td>\n      <td>Lebukhali (Int. with Z8806)-End of N8</td>\n      <td>205.1270</td>\n      <td>LRP194</td>\n      <td>LRP205</td>\n      <td>955.0</td>\n      <td>3533.0</td>\n      <td>4488.0</td>\n      <td>0.002838</td>\n      <td>NaN</td>\n      <td>NaN</td>\n    </tr>\n    <tr>\n      <th>16</th>\n      <td>N8</td>\n      <td>Jatrabari-Jurain (int.with R810)</td>\n      <td>0.0000</td>\n      <td>LRPS</td>\n      <td>LRPS</td>\n      <td>3677.0</td>\n      <td>17946.0</td>\n      <td>21623.0</td>\n      <td>0.013675</td>\n      <td>NaN</td>\n      <td>NaN</td>\n    </tr>\n    <tr>\n      <th>17</th>\n      <td>N204</td>\n      <td>Chunarughat (Int.with Z2008)-Shaisthaganj</td>\n      <td>34.4210</td>\n      <td>LRP022</td>\n      <td>LRPE</td>\n      <td>366.0</td>\n      <td>1905.0</td>\n      <td>2271.0</td>\n      <td>0.001436</td>\n      <td>NaN</td>\n      <td>NaN</td>\n    </tr>\n    <tr>\n      <th>18</th>\n      <td>N204</td>\n      <td>Jagadishpur-Chunarughat (Int.with Z2008)</td>\n      <td>0.0000</td>\n      <td>LRPS</td>\n      <td>LRP022</td>\n      <td>366.0</td>\n      <td>1905.0</td>\n      <td>2271.0</td>\n      <td>0.001436</td>\n      <td>NaN</td>\n      <td>NaN</td>\n    </tr>\n    <tr>\n      <th>19</th>\n      <td>N207</td>\n      <td>Moulvibazar (Int.with N208)-Sherpur</td>\n      <td>67.9850</td>\n      <td>LRP043</td>\n      <td>LRPE</td>\n      <td>766.0</td>\n      <td>4272.0</td>\n      <td>5038.0</td>\n      <td>0.003186</td>\n      <td>NaN</td>\n      <td>NaN</td>\n    </tr>\n    <tr>\n      <th>20</th>\n      <td>N207</td>\n      <td>Mirpur-Natun Bazar (Int.with Z2008)</td>\n      <td>0.0000</td>\n      <td>LRPS</td>\n      <td>LRP001</td>\n      <td>766.0</td>\n      <td>4272.0</td>\n      <td>5038.0</td>\n      <td>0.003186</td>\n      <td>NaN</td>\n      <td>NaN</td>\n    </tr>\n    <tr>\n      <th>21</th>\n      <td>N208</td>\n      <td>Royal City Chottor(int.with N210)-Int.with N2</td>\n      <td>57.4950</td>\n      <td>LRP054</td>\n      <td>LRP058</td>\n      <td>2191.0</td>\n      <td>7297.0</td>\n      <td>9488.0</td>\n      <td>0.006001</td>\n      <td>NaN</td>\n      <td>NaN</td>\n    </tr>\n    <tr>\n      <th>22</th>\n      <td>N208</td>\n      <td>Moulvibazar-Int.with Z2002</td>\n      <td>0.0000</td>\n      <td>LRPS</td>\n      <td>LRPS</td>\n      <td>964.0</td>\n      <td>6550.0</td>\n      <td>7514.0</td>\n      <td>0.004752</td>\n      <td>NaN</td>\n      <td>NaN</td>\n    </tr>\n  </tbody>\n</table>\n</div>"
     },
     "execution_count": 7,
     "metadata": {},
     "output_type": "execute_result"
    }
   ],
   "source": [
    "sourcesinks"
   ],
   "metadata": {
    "collapsed": false,
    "ExecuteTime": {
     "end_time": "2024-04-04T19:35:37.425210700Z",
     "start_time": "2024-04-04T19:35:37.280291800Z"
    }
   },
   "id": "59d811bc1ccc4a6c",
   "execution_count": 7
  },
  {
   "cell_type": "code",
   "outputs": [],
   "source": [
    "duplicates = sourcesinks[sourcesinks.duplicated(subset=['Road', 'Average Chainage'])]"
   ],
   "metadata": {
    "collapsed": false,
    "ExecuteTime": {
     "end_time": "2024-04-04T19:35:37.425210700Z",
     "start_time": "2024-04-04T19:35:37.298623Z"
    }
   },
   "id": "fad3c73af130e0db",
   "execution_count": 8
  },
  {
   "cell_type": "code",
   "outputs": [
    {
     "data": {
      "text/plain": "   Road                              Name  Average Chainage Start_LRP End_LRP  \\\n8    N2   Katchpur-Tarabo (Int with R201)               0.0      LRPS  LRP002   \n16   N8  Jatrabari-Jurain (int.with R810)               0.0      LRPS    LRPS   \n\n    Total Cargo  Total People  Total Transport  Total Transport Weight  \\\n8        6710.0       16598.0          23308.0                0.014741   \n16       3677.0       17946.0          21623.0                0.013675   \n\n    SourceSink Cargo Weight  SourceSink People Weight  \n8                       NaN                       NaN  \n16                      NaN                       NaN  ",
      "text/html": "<div>\n<style scoped>\n    .dataframe tbody tr th:only-of-type {\n        vertical-align: middle;\n    }\n\n    .dataframe tbody tr th {\n        vertical-align: top;\n    }\n\n    .dataframe thead th {\n        text-align: right;\n    }\n</style>\n<table border=\"1\" class=\"dataframe\">\n  <thead>\n    <tr style=\"text-align: right;\">\n      <th></th>\n      <th>Road</th>\n      <th>Name</th>\n      <th>Average Chainage</th>\n      <th>Start_LRP</th>\n      <th>End_LRP</th>\n      <th>Total Cargo</th>\n      <th>Total People</th>\n      <th>Total Transport</th>\n      <th>Total Transport Weight</th>\n      <th>SourceSink Cargo Weight</th>\n      <th>SourceSink People Weight</th>\n    </tr>\n  </thead>\n  <tbody>\n    <tr>\n      <th>8</th>\n      <td>N2</td>\n      <td>Katchpur-Tarabo (Int with R201)</td>\n      <td>0.0</td>\n      <td>LRPS</td>\n      <td>LRP002</td>\n      <td>6710.0</td>\n      <td>16598.0</td>\n      <td>23308.0</td>\n      <td>0.014741</td>\n      <td>NaN</td>\n      <td>NaN</td>\n    </tr>\n    <tr>\n      <th>16</th>\n      <td>N8</td>\n      <td>Jatrabari-Jurain (int.with R810)</td>\n      <td>0.0</td>\n      <td>LRPS</td>\n      <td>LRPS</td>\n      <td>3677.0</td>\n      <td>17946.0</td>\n      <td>21623.0</td>\n      <td>0.013675</td>\n      <td>NaN</td>\n      <td>NaN</td>\n    </tr>\n  </tbody>\n</table>\n</div>"
     },
     "execution_count": 9,
     "metadata": {},
     "output_type": "execute_result"
    }
   ],
   "source": [
    "duplicates"
   ],
   "metadata": {
    "collapsed": false,
    "ExecuteTime": {
     "end_time": "2024-04-04T19:35:37.426210100Z",
     "start_time": "2024-04-04T19:35:37.310058900Z"
    }
   },
   "id": "c37f83890b42d9de",
   "execution_count": 9
  },
  {
   "cell_type": "code",
   "outputs": [],
   "source": [
    "sourcesinks = sourcesinks.drop_duplicates(subset=['Road', 'Average Chainage'], keep='last')"
   ],
   "metadata": {
    "collapsed": false,
    "ExecuteTime": {
     "end_time": "2024-04-04T19:35:37.426210100Z",
     "start_time": "2024-04-04T19:35:37.321783800Z"
    }
   },
   "id": "6a6864dd714cb694",
   "execution_count": 10
  },
  {
   "cell_type": "code",
   "outputs": [
    {
     "data": {
      "text/plain": "    Road                                               Name  Average Chainage  \\\n1     N1              Katchpur - Madanpur (Left)N105 (Left)           10.3495   \n2     N1           Madanpur - Langalband (Left)Z1061 (Left)           13.9355   \n3     N1  Langalband - Mograpara Chowrasta (Left)Z1089 (...           17.9895   \n5     N1                             Whykong Z1133 - Teknaf          462.2540   \n6     N1           Jatrabari - Int.with Z1101 (Left) (Left)            0.0000   \n7     N2                     Tamabil(Int.with N212)-Jaflong          286.5160   \n8     N2                    Katchpur-Tarabo (Int with R201)            0.0000   \n9   N102  Gathuria(Int. with N103)-Sarail(Kathihat, int....           83.3820   \n10  N102    Mainamati-Kangsanagar (Intersection with Z1219)            0.0000   \n11  N104                    Maijdee(Int.with Z1429)-Sonapur           49.6300   \n12  N104  Feni (Trank Road)-Feni (Mohipal Chourasta) Int...            0.0000   \n13  N105  Vogra Bypass(Int.with N3)-End of Road (Int.wit...           48.8810   \n14  N105  Madanpur (13th km of N1)-Nayapur, Bostail (Int...            0.0000   \n15    N8              Lebukhali (Int. with Z8806)-End of N8          205.1270   \n16    N8                   Jatrabari-Jurain (int.with R810)            0.0000   \n17  N204          Chunarughat (Int.with Z2008)-Shaisthaganj           34.4210   \n18  N204           Jagadishpur-Chunarughat (Int.with Z2008)            0.0000   \n19  N207                Moulvibazar (Int.with N208)-Sherpur           67.9850   \n20  N207                Mirpur-Natun Bazar (Int.with Z2008)            0.0000   \n21  N208      Royal City Chottor(int.with N210)-Int.with N2           57.4950   \n22  N208                         Moulvibazar-Int.with Z2002            0.0000   \n\n   Start_LRP End_LRP  Total Cargo  Total People  Total Transport  \\\n1     LRP009  LRP012       8205.0       14361.0          22566.0   \n2     LRP012  LRP013       8205.0       14361.0          22566.0   \n3     LRP013  LRP013       8205.0       14361.0          22566.0   \n5     LRP433  LRP467        616.0        4065.0           4681.0   \n6       LRPS    LRPS       7880.0       11356.0          19236.0   \n7     LRP282  LRP287       2031.0        2712.0           4743.0   \n8       LRPS  LRP002       6710.0       16598.0          23308.0   \n9     LRP070    LRPE       2602.0        8919.0          11521.0   \n10      LRPS  LRP009       1737.0        7362.0           9099.0   \n11    LRP044    LRPE       1190.0        6708.0           7898.0   \n12      LRPS    LRPS       1171.0        6628.0           7799.0   \n13    LRP045    LRPE       5216.0        5157.0          10373.0   \n14      LRPS  LRP006       4999.0        8112.0          13111.0   \n15    LRP194  LRP205        955.0        3533.0           4488.0   \n16      LRPS    LRPS       3677.0       17946.0          21623.0   \n17    LRP022    LRPE        366.0        1905.0           2271.0   \n18      LRPS  LRP022        366.0        1905.0           2271.0   \n19    LRP043    LRPE        766.0        4272.0           5038.0   \n20      LRPS  LRP001        766.0        4272.0           5038.0   \n21    LRP054  LRP058       2191.0        7297.0           9488.0   \n22      LRPS    LRPS        964.0        6550.0           7514.0   \n\n    Total Transport Weight  SourceSink Cargo Weight  SourceSink People Weight  \n1                 0.014271                 0.234415                     0.185  \n2                 0.014271                 0.234415                     0.185  \n3                 0.014271                 0.234415                     0.185  \n5                 0.002960                      NaN                       NaN  \n6                 0.012165                      NaN                       NaN  \n7                 0.003000                      NaN                       NaN  \n8                 0.014741                      NaN                       NaN  \n9                 0.007286                      NaN                       NaN  \n10                0.005754                      NaN                       NaN  \n11                0.004995                      NaN                       NaN  \n12                0.004932                      NaN                       NaN  \n13                0.006560                      NaN                       NaN  \n14                0.008292                      NaN                       NaN  \n15                0.002838                      NaN                       NaN  \n16                0.013675                      NaN                       NaN  \n17                0.001436                      NaN                       NaN  \n18                0.001436                      NaN                       NaN  \n19                0.003186                      NaN                       NaN  \n20                0.003186                      NaN                       NaN  \n21                0.006001                      NaN                       NaN  \n22                0.004752                      NaN                       NaN  ",
      "text/html": "<div>\n<style scoped>\n    .dataframe tbody tr th:only-of-type {\n        vertical-align: middle;\n    }\n\n    .dataframe tbody tr th {\n        vertical-align: top;\n    }\n\n    .dataframe thead th {\n        text-align: right;\n    }\n</style>\n<table border=\"1\" class=\"dataframe\">\n  <thead>\n    <tr style=\"text-align: right;\">\n      <th></th>\n      <th>Road</th>\n      <th>Name</th>\n      <th>Average Chainage</th>\n      <th>Start_LRP</th>\n      <th>End_LRP</th>\n      <th>Total Cargo</th>\n      <th>Total People</th>\n      <th>Total Transport</th>\n      <th>Total Transport Weight</th>\n      <th>SourceSink Cargo Weight</th>\n      <th>SourceSink People Weight</th>\n    </tr>\n  </thead>\n  <tbody>\n    <tr>\n      <th>1</th>\n      <td>N1</td>\n      <td>Katchpur - Madanpur (Left)N105 (Left)</td>\n      <td>10.3495</td>\n      <td>LRP009</td>\n      <td>LRP012</td>\n      <td>8205.0</td>\n      <td>14361.0</td>\n      <td>22566.0</td>\n      <td>0.014271</td>\n      <td>0.234415</td>\n      <td>0.185</td>\n    </tr>\n    <tr>\n      <th>2</th>\n      <td>N1</td>\n      <td>Madanpur - Langalband (Left)Z1061 (Left)</td>\n      <td>13.9355</td>\n      <td>LRP012</td>\n      <td>LRP013</td>\n      <td>8205.0</td>\n      <td>14361.0</td>\n      <td>22566.0</td>\n      <td>0.014271</td>\n      <td>0.234415</td>\n      <td>0.185</td>\n    </tr>\n    <tr>\n      <th>3</th>\n      <td>N1</td>\n      <td>Langalband - Mograpara Chowrasta (Left)Z1089 (...</td>\n      <td>17.9895</td>\n      <td>LRP013</td>\n      <td>LRP013</td>\n      <td>8205.0</td>\n      <td>14361.0</td>\n      <td>22566.0</td>\n      <td>0.014271</td>\n      <td>0.234415</td>\n      <td>0.185</td>\n    </tr>\n    <tr>\n      <th>5</th>\n      <td>N1</td>\n      <td>Whykong Z1133 - Teknaf</td>\n      <td>462.2540</td>\n      <td>LRP433</td>\n      <td>LRP467</td>\n      <td>616.0</td>\n      <td>4065.0</td>\n      <td>4681.0</td>\n      <td>0.002960</td>\n      <td>NaN</td>\n      <td>NaN</td>\n    </tr>\n    <tr>\n      <th>6</th>\n      <td>N1</td>\n      <td>Jatrabari - Int.with Z1101 (Left) (Left)</td>\n      <td>0.0000</td>\n      <td>LRPS</td>\n      <td>LRPS</td>\n      <td>7880.0</td>\n      <td>11356.0</td>\n      <td>19236.0</td>\n      <td>0.012165</td>\n      <td>NaN</td>\n      <td>NaN</td>\n    </tr>\n    <tr>\n      <th>7</th>\n      <td>N2</td>\n      <td>Tamabil(Int.with N212)-Jaflong</td>\n      <td>286.5160</td>\n      <td>LRP282</td>\n      <td>LRP287</td>\n      <td>2031.0</td>\n      <td>2712.0</td>\n      <td>4743.0</td>\n      <td>0.003000</td>\n      <td>NaN</td>\n      <td>NaN</td>\n    </tr>\n    <tr>\n      <th>8</th>\n      <td>N2</td>\n      <td>Katchpur-Tarabo (Int with R201)</td>\n      <td>0.0000</td>\n      <td>LRPS</td>\n      <td>LRP002</td>\n      <td>6710.0</td>\n      <td>16598.0</td>\n      <td>23308.0</td>\n      <td>0.014741</td>\n      <td>NaN</td>\n      <td>NaN</td>\n    </tr>\n    <tr>\n      <th>9</th>\n      <td>N102</td>\n      <td>Gathuria(Int. with N103)-Sarail(Kathihat, int....</td>\n      <td>83.3820</td>\n      <td>LRP070</td>\n      <td>LRPE</td>\n      <td>2602.0</td>\n      <td>8919.0</td>\n      <td>11521.0</td>\n      <td>0.007286</td>\n      <td>NaN</td>\n      <td>NaN</td>\n    </tr>\n    <tr>\n      <th>10</th>\n      <td>N102</td>\n      <td>Mainamati-Kangsanagar (Intersection with Z1219)</td>\n      <td>0.0000</td>\n      <td>LRPS</td>\n      <td>LRP009</td>\n      <td>1737.0</td>\n      <td>7362.0</td>\n      <td>9099.0</td>\n      <td>0.005754</td>\n      <td>NaN</td>\n      <td>NaN</td>\n    </tr>\n    <tr>\n      <th>11</th>\n      <td>N104</td>\n      <td>Maijdee(Int.with Z1429)-Sonapur</td>\n      <td>49.6300</td>\n      <td>LRP044</td>\n      <td>LRPE</td>\n      <td>1190.0</td>\n      <td>6708.0</td>\n      <td>7898.0</td>\n      <td>0.004995</td>\n      <td>NaN</td>\n      <td>NaN</td>\n    </tr>\n    <tr>\n      <th>12</th>\n      <td>N104</td>\n      <td>Feni (Trank Road)-Feni (Mohipal Chourasta) Int...</td>\n      <td>0.0000</td>\n      <td>LRPS</td>\n      <td>LRPS</td>\n      <td>1171.0</td>\n      <td>6628.0</td>\n      <td>7799.0</td>\n      <td>0.004932</td>\n      <td>NaN</td>\n      <td>NaN</td>\n    </tr>\n    <tr>\n      <th>13</th>\n      <td>N105</td>\n      <td>Vogra Bypass(Int.with N3)-End of Road (Int.wit...</td>\n      <td>48.8810</td>\n      <td>LRP045</td>\n      <td>LRPE</td>\n      <td>5216.0</td>\n      <td>5157.0</td>\n      <td>10373.0</td>\n      <td>0.006560</td>\n      <td>NaN</td>\n      <td>NaN</td>\n    </tr>\n    <tr>\n      <th>14</th>\n      <td>N105</td>\n      <td>Madanpur (13th km of N1)-Nayapur, Bostail (Int...</td>\n      <td>0.0000</td>\n      <td>LRPS</td>\n      <td>LRP006</td>\n      <td>4999.0</td>\n      <td>8112.0</td>\n      <td>13111.0</td>\n      <td>0.008292</td>\n      <td>NaN</td>\n      <td>NaN</td>\n    </tr>\n    <tr>\n      <th>15</th>\n      <td>N8</td>\n      <td>Lebukhali (Int. with Z8806)-End of N8</td>\n      <td>205.1270</td>\n      <td>LRP194</td>\n      <td>LRP205</td>\n      <td>955.0</td>\n      <td>3533.0</td>\n      <td>4488.0</td>\n      <td>0.002838</td>\n      <td>NaN</td>\n      <td>NaN</td>\n    </tr>\n    <tr>\n      <th>16</th>\n      <td>N8</td>\n      <td>Jatrabari-Jurain (int.with R810)</td>\n      <td>0.0000</td>\n      <td>LRPS</td>\n      <td>LRPS</td>\n      <td>3677.0</td>\n      <td>17946.0</td>\n      <td>21623.0</td>\n      <td>0.013675</td>\n      <td>NaN</td>\n      <td>NaN</td>\n    </tr>\n    <tr>\n      <th>17</th>\n      <td>N204</td>\n      <td>Chunarughat (Int.with Z2008)-Shaisthaganj</td>\n      <td>34.4210</td>\n      <td>LRP022</td>\n      <td>LRPE</td>\n      <td>366.0</td>\n      <td>1905.0</td>\n      <td>2271.0</td>\n      <td>0.001436</td>\n      <td>NaN</td>\n      <td>NaN</td>\n    </tr>\n    <tr>\n      <th>18</th>\n      <td>N204</td>\n      <td>Jagadishpur-Chunarughat (Int.with Z2008)</td>\n      <td>0.0000</td>\n      <td>LRPS</td>\n      <td>LRP022</td>\n      <td>366.0</td>\n      <td>1905.0</td>\n      <td>2271.0</td>\n      <td>0.001436</td>\n      <td>NaN</td>\n      <td>NaN</td>\n    </tr>\n    <tr>\n      <th>19</th>\n      <td>N207</td>\n      <td>Moulvibazar (Int.with N208)-Sherpur</td>\n      <td>67.9850</td>\n      <td>LRP043</td>\n      <td>LRPE</td>\n      <td>766.0</td>\n      <td>4272.0</td>\n      <td>5038.0</td>\n      <td>0.003186</td>\n      <td>NaN</td>\n      <td>NaN</td>\n    </tr>\n    <tr>\n      <th>20</th>\n      <td>N207</td>\n      <td>Mirpur-Natun Bazar (Int.with Z2008)</td>\n      <td>0.0000</td>\n      <td>LRPS</td>\n      <td>LRP001</td>\n      <td>766.0</td>\n      <td>4272.0</td>\n      <td>5038.0</td>\n      <td>0.003186</td>\n      <td>NaN</td>\n      <td>NaN</td>\n    </tr>\n    <tr>\n      <th>21</th>\n      <td>N208</td>\n      <td>Royal City Chottor(int.with N210)-Int.with N2</td>\n      <td>57.4950</td>\n      <td>LRP054</td>\n      <td>LRP058</td>\n      <td>2191.0</td>\n      <td>7297.0</td>\n      <td>9488.0</td>\n      <td>0.006001</td>\n      <td>NaN</td>\n      <td>NaN</td>\n    </tr>\n    <tr>\n      <th>22</th>\n      <td>N208</td>\n      <td>Moulvibazar-Int.with Z2002</td>\n      <td>0.0000</td>\n      <td>LRPS</td>\n      <td>LRPS</td>\n      <td>964.0</td>\n      <td>6550.0</td>\n      <td>7514.0</td>\n      <td>0.004752</td>\n      <td>NaN</td>\n      <td>NaN</td>\n    </tr>\n  </tbody>\n</table>\n</div>"
     },
     "execution_count": 11,
     "metadata": {},
     "output_type": "execute_result"
    }
   ],
   "source": [
    "sourcesinks"
   ],
   "metadata": {
    "collapsed": false,
    "ExecuteTime": {
     "end_time": "2024-04-04T19:35:37.427212100Z",
     "start_time": "2024-04-04T19:35:37.329081700Z"
    }
   },
   "id": "d4750dfe44ee8daa",
   "execution_count": 11
  },
  {
   "cell_type": "code",
   "outputs": [
    {
     "name": "stdout",
     "output_type": "stream",
     "text": [
      "0\n"
     ]
    }
   ],
   "source": [
    "duplicates = sourcesinks[sourcesinks.duplicated(subset=['Road', 'Average Chainage'])]\n",
    "print(len(duplicates))"
   ],
   "metadata": {
    "collapsed": false,
    "ExecuteTime": {
     "end_time": "2024-04-04T19:35:37.428211300Z",
     "start_time": "2024-04-04T19:35:37.350899700Z"
    }
   },
   "id": "702c290671e0c28d",
   "execution_count": 12
  },
  {
   "cell_type": "code",
   "outputs": [
    {
     "name": "stderr",
     "output_type": "stream",
     "text": [
      "C:\\Users\\simon\\AppData\\Local\\Temp\\ipykernel_9408\\2398464544.py:1: SettingWithCopyWarning: \n",
      "A value is trying to be set on a copy of a slice from a DataFrame.\n",
      "Try using .loc[row_indexer,col_indexer] = value instead\n",
      "\n",
      "See the caveats in the documentation: https://pandas.pydata.org/pandas-docs/stable/user_guide/indexing.html#returning-a-view-versus-a-copy\n",
      "  sourcesinks['SourceSink Cargo Weight'] = sourcesinks['Total Cargo']/sum(sourcesinks['Total Cargo'])\n",
      "C:\\Users\\simon\\AppData\\Local\\Temp\\ipykernel_9408\\2398464544.py:2: SettingWithCopyWarning: \n",
      "A value is trying to be set on a copy of a slice from a DataFrame.\n",
      "Try using .loc[row_indexer,col_indexer] = value instead\n",
      "\n",
      "See the caveats in the documentation: https://pandas.pydata.org/pandas-docs/stable/user_guide/indexing.html#returning-a-view-versus-a-copy\n",
      "  sourcesinks['SourceSink People Weight'] = sourcesinks['Total People']/sum(sourcesinks['Total People'])\n"
     ]
    }
   ],
   "source": [
    "sourcesinks['SourceSink Cargo Weight'] = sourcesinks['Total Cargo']/sum(sourcesinks['Total Cargo'])\n",
    "sourcesinks['SourceSink People Weight'] = sourcesinks['Total People']/sum(sourcesinks['Total People'])"
   ],
   "metadata": {
    "collapsed": false,
    "ExecuteTime": {
     "end_time": "2024-04-04T19:35:37.428211300Z",
     "start_time": "2024-04-04T19:35:37.355426900Z"
    }
   },
   "id": "c3ad30b630a80941",
   "execution_count": 13
  },
  {
   "cell_type": "code",
   "outputs": [
    {
     "data": {
      "text/plain": "    Road                                               Name  Average Chainage  \\\n1     N1              Katchpur - Madanpur (Left)N105 (Left)           10.3495   \n2     N1           Madanpur - Langalband (Left)Z1061 (Left)           13.9355   \n3     N1  Langalband - Mograpara Chowrasta (Left)Z1089 (...           17.9895   \n5     N1                             Whykong Z1133 - Teknaf          462.2540   \n6     N1           Jatrabari - Int.with Z1101 (Left) (Left)            0.0000   \n7     N2                     Tamabil(Int.with N212)-Jaflong          286.5160   \n8     N2                    Katchpur-Tarabo (Int with R201)            0.0000   \n9   N102  Gathuria(Int. with N103)-Sarail(Kathihat, int....           83.3820   \n10  N102    Mainamati-Kangsanagar (Intersection with Z1219)            0.0000   \n11  N104                    Maijdee(Int.with Z1429)-Sonapur           49.6300   \n12  N104  Feni (Trank Road)-Feni (Mohipal Chourasta) Int...            0.0000   \n13  N105  Vogra Bypass(Int.with N3)-End of Road (Int.wit...           48.8810   \n14  N105  Madanpur (13th km of N1)-Nayapur, Bostail (Int...            0.0000   \n15    N8              Lebukhali (Int. with Z8806)-End of N8          205.1270   \n16    N8                   Jatrabari-Jurain (int.with R810)            0.0000   \n17  N204          Chunarughat (Int.with Z2008)-Shaisthaganj           34.4210   \n18  N204           Jagadishpur-Chunarughat (Int.with Z2008)            0.0000   \n19  N207                Moulvibazar (Int.with N208)-Sherpur           67.9850   \n20  N207                Mirpur-Natun Bazar (Int.with Z2008)            0.0000   \n21  N208      Royal City Chottor(int.with N210)-Int.with N2           57.4950   \n22  N208                         Moulvibazar-Int.with Z2002            0.0000   \n\n   Start_LRP End_LRP  Total Cargo  Total People  Total Transport  \\\n1     LRP009  LRP012       8205.0       14361.0          22566.0   \n2     LRP012  LRP013       8205.0       14361.0          22566.0   \n3     LRP013  LRP013       8205.0       14361.0          22566.0   \n5     LRP433  LRP467        616.0        4065.0           4681.0   \n6       LRPS    LRPS       7880.0       11356.0          19236.0   \n7     LRP282  LRP287       2031.0        2712.0           4743.0   \n8       LRPS  LRP002       6710.0       16598.0          23308.0   \n9     LRP070    LRPE       2602.0        8919.0          11521.0   \n10      LRPS  LRP009       1737.0        7362.0           9099.0   \n11    LRP044    LRPE       1190.0        6708.0           7898.0   \n12      LRPS    LRPS       1171.0        6628.0           7799.0   \n13    LRP045    LRPE       5216.0        5157.0          10373.0   \n14      LRPS  LRP006       4999.0        8112.0          13111.0   \n15    LRP194  LRP205        955.0        3533.0           4488.0   \n16      LRPS    LRPS       3677.0       17946.0          21623.0   \n17    LRP022    LRPE        366.0        1905.0           2271.0   \n18      LRPS  LRP022        366.0        1905.0           2271.0   \n19    LRP043    LRPE        766.0        4272.0           5038.0   \n20      LRPS  LRP001        766.0        4272.0           5038.0   \n21    LRP054  LRP058       2191.0        7297.0           9488.0   \n22      LRPS    LRPS        964.0        6550.0           7514.0   \n\n    Total Transport Weight  SourceSink Cargo Weight  SourceSink People Weight  \n1                 0.014271                 0.119228                  0.085289  \n2                 0.014271                 0.119228                  0.085289  \n3                 0.014271                 0.119228                  0.085289  \n5                 0.002960                 0.008951                  0.024142  \n6                 0.012165                 0.114505                  0.067443  \n7                 0.003000                 0.029513                  0.016106  \n8                 0.014741                 0.097504                  0.098575  \n9                 0.007286                 0.037810                  0.052969  \n10                0.005754                 0.025240                  0.043723  \n11                0.004995                 0.017292                  0.039838  \n12                0.004932                 0.017016                  0.039363  \n13                0.006560                 0.075794                  0.030627  \n14                0.008292                 0.072641                  0.048177  \n15                0.002838                 0.013877                  0.020982  \n16                0.013675                 0.053431                  0.106580  \n17                0.001436                 0.005318                  0.011314  \n18                0.001436                 0.005318                  0.011314  \n19                0.003186                 0.011131                  0.025371  \n20                0.003186                 0.011131                  0.025371  \n21                0.006001                 0.031838                  0.043337  \n22                0.004752                 0.014008                  0.038900  ",
      "text/html": "<div>\n<style scoped>\n    .dataframe tbody tr th:only-of-type {\n        vertical-align: middle;\n    }\n\n    .dataframe tbody tr th {\n        vertical-align: top;\n    }\n\n    .dataframe thead th {\n        text-align: right;\n    }\n</style>\n<table border=\"1\" class=\"dataframe\">\n  <thead>\n    <tr style=\"text-align: right;\">\n      <th></th>\n      <th>Road</th>\n      <th>Name</th>\n      <th>Average Chainage</th>\n      <th>Start_LRP</th>\n      <th>End_LRP</th>\n      <th>Total Cargo</th>\n      <th>Total People</th>\n      <th>Total Transport</th>\n      <th>Total Transport Weight</th>\n      <th>SourceSink Cargo Weight</th>\n      <th>SourceSink People Weight</th>\n    </tr>\n  </thead>\n  <tbody>\n    <tr>\n      <th>1</th>\n      <td>N1</td>\n      <td>Katchpur - Madanpur (Left)N105 (Left)</td>\n      <td>10.3495</td>\n      <td>LRP009</td>\n      <td>LRP012</td>\n      <td>8205.0</td>\n      <td>14361.0</td>\n      <td>22566.0</td>\n      <td>0.014271</td>\n      <td>0.119228</td>\n      <td>0.085289</td>\n    </tr>\n    <tr>\n      <th>2</th>\n      <td>N1</td>\n      <td>Madanpur - Langalband (Left)Z1061 (Left)</td>\n      <td>13.9355</td>\n      <td>LRP012</td>\n      <td>LRP013</td>\n      <td>8205.0</td>\n      <td>14361.0</td>\n      <td>22566.0</td>\n      <td>0.014271</td>\n      <td>0.119228</td>\n      <td>0.085289</td>\n    </tr>\n    <tr>\n      <th>3</th>\n      <td>N1</td>\n      <td>Langalband - Mograpara Chowrasta (Left)Z1089 (...</td>\n      <td>17.9895</td>\n      <td>LRP013</td>\n      <td>LRP013</td>\n      <td>8205.0</td>\n      <td>14361.0</td>\n      <td>22566.0</td>\n      <td>0.014271</td>\n      <td>0.119228</td>\n      <td>0.085289</td>\n    </tr>\n    <tr>\n      <th>5</th>\n      <td>N1</td>\n      <td>Whykong Z1133 - Teknaf</td>\n      <td>462.2540</td>\n      <td>LRP433</td>\n      <td>LRP467</td>\n      <td>616.0</td>\n      <td>4065.0</td>\n      <td>4681.0</td>\n      <td>0.002960</td>\n      <td>0.008951</td>\n      <td>0.024142</td>\n    </tr>\n    <tr>\n      <th>6</th>\n      <td>N1</td>\n      <td>Jatrabari - Int.with Z1101 (Left) (Left)</td>\n      <td>0.0000</td>\n      <td>LRPS</td>\n      <td>LRPS</td>\n      <td>7880.0</td>\n      <td>11356.0</td>\n      <td>19236.0</td>\n      <td>0.012165</td>\n      <td>0.114505</td>\n      <td>0.067443</td>\n    </tr>\n    <tr>\n      <th>7</th>\n      <td>N2</td>\n      <td>Tamabil(Int.with N212)-Jaflong</td>\n      <td>286.5160</td>\n      <td>LRP282</td>\n      <td>LRP287</td>\n      <td>2031.0</td>\n      <td>2712.0</td>\n      <td>4743.0</td>\n      <td>0.003000</td>\n      <td>0.029513</td>\n      <td>0.016106</td>\n    </tr>\n    <tr>\n      <th>8</th>\n      <td>N2</td>\n      <td>Katchpur-Tarabo (Int with R201)</td>\n      <td>0.0000</td>\n      <td>LRPS</td>\n      <td>LRP002</td>\n      <td>6710.0</td>\n      <td>16598.0</td>\n      <td>23308.0</td>\n      <td>0.014741</td>\n      <td>0.097504</td>\n      <td>0.098575</td>\n    </tr>\n    <tr>\n      <th>9</th>\n      <td>N102</td>\n      <td>Gathuria(Int. with N103)-Sarail(Kathihat, int....</td>\n      <td>83.3820</td>\n      <td>LRP070</td>\n      <td>LRPE</td>\n      <td>2602.0</td>\n      <td>8919.0</td>\n      <td>11521.0</td>\n      <td>0.007286</td>\n      <td>0.037810</td>\n      <td>0.052969</td>\n    </tr>\n    <tr>\n      <th>10</th>\n      <td>N102</td>\n      <td>Mainamati-Kangsanagar (Intersection with Z1219)</td>\n      <td>0.0000</td>\n      <td>LRPS</td>\n      <td>LRP009</td>\n      <td>1737.0</td>\n      <td>7362.0</td>\n      <td>9099.0</td>\n      <td>0.005754</td>\n      <td>0.025240</td>\n      <td>0.043723</td>\n    </tr>\n    <tr>\n      <th>11</th>\n      <td>N104</td>\n      <td>Maijdee(Int.with Z1429)-Sonapur</td>\n      <td>49.6300</td>\n      <td>LRP044</td>\n      <td>LRPE</td>\n      <td>1190.0</td>\n      <td>6708.0</td>\n      <td>7898.0</td>\n      <td>0.004995</td>\n      <td>0.017292</td>\n      <td>0.039838</td>\n    </tr>\n    <tr>\n      <th>12</th>\n      <td>N104</td>\n      <td>Feni (Trank Road)-Feni (Mohipal Chourasta) Int...</td>\n      <td>0.0000</td>\n      <td>LRPS</td>\n      <td>LRPS</td>\n      <td>1171.0</td>\n      <td>6628.0</td>\n      <td>7799.0</td>\n      <td>0.004932</td>\n      <td>0.017016</td>\n      <td>0.039363</td>\n    </tr>\n    <tr>\n      <th>13</th>\n      <td>N105</td>\n      <td>Vogra Bypass(Int.with N3)-End of Road (Int.wit...</td>\n      <td>48.8810</td>\n      <td>LRP045</td>\n      <td>LRPE</td>\n      <td>5216.0</td>\n      <td>5157.0</td>\n      <td>10373.0</td>\n      <td>0.006560</td>\n      <td>0.075794</td>\n      <td>0.030627</td>\n    </tr>\n    <tr>\n      <th>14</th>\n      <td>N105</td>\n      <td>Madanpur (13th km of N1)-Nayapur, Bostail (Int...</td>\n      <td>0.0000</td>\n      <td>LRPS</td>\n      <td>LRP006</td>\n      <td>4999.0</td>\n      <td>8112.0</td>\n      <td>13111.0</td>\n      <td>0.008292</td>\n      <td>0.072641</td>\n      <td>0.048177</td>\n    </tr>\n    <tr>\n      <th>15</th>\n      <td>N8</td>\n      <td>Lebukhali (Int. with Z8806)-End of N8</td>\n      <td>205.1270</td>\n      <td>LRP194</td>\n      <td>LRP205</td>\n      <td>955.0</td>\n      <td>3533.0</td>\n      <td>4488.0</td>\n      <td>0.002838</td>\n      <td>0.013877</td>\n      <td>0.020982</td>\n    </tr>\n    <tr>\n      <th>16</th>\n      <td>N8</td>\n      <td>Jatrabari-Jurain (int.with R810)</td>\n      <td>0.0000</td>\n      <td>LRPS</td>\n      <td>LRPS</td>\n      <td>3677.0</td>\n      <td>17946.0</td>\n      <td>21623.0</td>\n      <td>0.013675</td>\n      <td>0.053431</td>\n      <td>0.106580</td>\n    </tr>\n    <tr>\n      <th>17</th>\n      <td>N204</td>\n      <td>Chunarughat (Int.with Z2008)-Shaisthaganj</td>\n      <td>34.4210</td>\n      <td>LRP022</td>\n      <td>LRPE</td>\n      <td>366.0</td>\n      <td>1905.0</td>\n      <td>2271.0</td>\n      <td>0.001436</td>\n      <td>0.005318</td>\n      <td>0.011314</td>\n    </tr>\n    <tr>\n      <th>18</th>\n      <td>N204</td>\n      <td>Jagadishpur-Chunarughat (Int.with Z2008)</td>\n      <td>0.0000</td>\n      <td>LRPS</td>\n      <td>LRP022</td>\n      <td>366.0</td>\n      <td>1905.0</td>\n      <td>2271.0</td>\n      <td>0.001436</td>\n      <td>0.005318</td>\n      <td>0.011314</td>\n    </tr>\n    <tr>\n      <th>19</th>\n      <td>N207</td>\n      <td>Moulvibazar (Int.with N208)-Sherpur</td>\n      <td>67.9850</td>\n      <td>LRP043</td>\n      <td>LRPE</td>\n      <td>766.0</td>\n      <td>4272.0</td>\n      <td>5038.0</td>\n      <td>0.003186</td>\n      <td>0.011131</td>\n      <td>0.025371</td>\n    </tr>\n    <tr>\n      <th>20</th>\n      <td>N207</td>\n      <td>Mirpur-Natun Bazar (Int.with Z2008)</td>\n      <td>0.0000</td>\n      <td>LRPS</td>\n      <td>LRP001</td>\n      <td>766.0</td>\n      <td>4272.0</td>\n      <td>5038.0</td>\n      <td>0.003186</td>\n      <td>0.011131</td>\n      <td>0.025371</td>\n    </tr>\n    <tr>\n      <th>21</th>\n      <td>N208</td>\n      <td>Royal City Chottor(int.with N210)-Int.with N2</td>\n      <td>57.4950</td>\n      <td>LRP054</td>\n      <td>LRP058</td>\n      <td>2191.0</td>\n      <td>7297.0</td>\n      <td>9488.0</td>\n      <td>0.006001</td>\n      <td>0.031838</td>\n      <td>0.043337</td>\n    </tr>\n    <tr>\n      <th>22</th>\n      <td>N208</td>\n      <td>Moulvibazar-Int.with Z2002</td>\n      <td>0.0000</td>\n      <td>LRPS</td>\n      <td>LRPS</td>\n      <td>964.0</td>\n      <td>6550.0</td>\n      <td>7514.0</td>\n      <td>0.004752</td>\n      <td>0.014008</td>\n      <td>0.038900</td>\n    </tr>\n  </tbody>\n</table>\n</div>"
     },
     "execution_count": 14,
     "metadata": {},
     "output_type": "execute_result"
    }
   ],
   "source": [
    "sourcesinks"
   ],
   "metadata": {
    "collapsed": false,
    "ExecuteTime": {
     "end_time": "2024-04-04T19:35:37.486762900Z",
     "start_time": "2024-04-04T19:35:37.362754Z"
    }
   },
   "id": "13c688254c53a8e7",
   "execution_count": 14
  },
  {
   "cell_type": "code",
   "execution_count": 15,
   "id": "f331c227-558d-4f27-89d6-22abc27ff517",
   "metadata": {
    "ExecuteTime": {
     "end_time": "2024-04-04T19:35:37.486762900Z",
     "start_time": "2024-04-04T19:35:37.379980600Z"
    }
   },
   "outputs": [],
   "source": [
    "sourcesinks.to_csv('../data/sourcesinks.csv')"
   ]
  },
  {
   "cell_type": "code",
   "outputs": [],
   "source": [],
   "metadata": {
    "collapsed": false,
    "ExecuteTime": {
     "end_time": "2024-04-04T19:35:37.487716Z",
     "start_time": "2024-04-04T19:35:37.386700600Z"
    }
   },
   "id": "c789db5d7f66e779",
   "execution_count": 15
  }
 ],
 "metadata": {
  "kernelspec": {
   "display_name": "Python 3 (ipykernel)",
   "language": "python",
   "name": "python3"
  },
  "language_info": {
   "codemirror_mode": {
    "name": "ipython",
    "version": 3
   },
   "file_extension": ".py",
   "mimetype": "text/x-python",
   "name": "python",
   "nbconvert_exporter": "python",
   "pygments_lexer": "ipython3",
   "version": "3.10.9"
  }
 },
 "nbformat": 4,
 "nbformat_minor": 5
}
