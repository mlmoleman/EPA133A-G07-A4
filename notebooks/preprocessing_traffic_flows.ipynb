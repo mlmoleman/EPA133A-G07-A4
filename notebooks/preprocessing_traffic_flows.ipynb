{
 "cells": [
  {
   "cell_type": "code",
   "execution_count": 1,
   "metadata": {
    "collapsed": true,
    "ExecuteTime": {
     "end_time": "2024-03-28T22:37:29.493556400Z",
     "start_time": "2024-03-28T22:37:28.746859500Z"
    }
   },
   "outputs": [],
   "source": [
    "import pandas as pd"
   ]
  },
  {
   "cell_type": "code",
   "execution_count": 2,
   "outputs": [],
   "source": [
    "def process_traffic_flows(road):\n",
    "    \"\"\"Process the traffic flow data for traffic flow dataframes \"\"\"\n",
    "    #read csv file into dataframe\n",
    "    path = \"../data/traffic_\"+road+\".csv\"\n",
    "    df = pd.read_csv(path, header=[0,1])\n",
    "\n",
    "    str_length_road = len(road) #use this string length later to determine what road prefix to keep\n",
    "\n",
    "    #1 make two transport categories: cargo and people\n",
    "    # Total cargo is the sum of heavy, medium and small truck\n",
    "    df[('Aggregate Traffic Data', 'Total Cargo')] = (df[('Traffic Data', 'Heavy Truck')] + df[('Traffic Data', 'Medium Truck')] + df[('Traffic Data', 'Small Truck')])\n",
    "    # People is the sum of other motorized vehicles\n",
    "    df[('Aggregate Traffic Data', 'Total People')] = (df[('Traffic Data', 'Large Bus')] + df[('Traffic Data', 'Medium Bus')] + df[('Traffic Data', 'Micro Bus')] + df[('Traffic Data', 'Utility')] + df[('Traffic Data', 'Car')] + df[('Traffic Data', 'Motor Cycle')] + df[('Traffic Data', 'Auto Rickshaw')])\n",
    "\n",
    "    #compute average chainage\n",
    "    df[('Average Traffic Data', 'Average Chainage')] = (df[('Start location', 'Chainage')] + df[('End location', 'Chainage')]) / 2\n",
    "\n",
    "    #drop columns on multi-index level 1\n",
    "    df.drop(columns = ['Heavy Truck', 'Medium Truck', 'Small Truck', 'Large Bus', 'Medium Bus', 'Micro Bus', 'Utility', 'Car', 'Auto Rickshaw', 'Motor Cycle', 'Bi-Cycle', 'Cycle Rickshaw', 'Cart', 'Motorized', 'Non Motorized', 'Total AADT', '(Km)', '(AADT)', 'Offset', 'Chainage'], level = 1, inplace=True)\n",
    "\n",
    "    #drop columns on multi-index level 0\n",
    "    df.drop(columns = ['Unnamed: 0_level_0', 'Traffic', 'Length'], level = 0, inplace=True)\n",
    "\n",
    "    #rename column LRP column names\n",
    "\n",
    "    df[(\"Start location\", \"Start_LRP\")] = df[(\"Start location\", \"LRP\")]\n",
    "\n",
    "    df[(\"End location\", \"End_LRP\")] = df[(\"End location\", \"LRP\")]\n",
    "\n",
    "    #drop LRP columns\n",
    "    df.drop(columns = [(\"Start location\", \"LRP\")], inplace=True)\n",
    "    df.drop(columns = [(\"End location\", \"LRP\")], inplace=True)\n",
    "\n",
    "    #drop remaining upper multi-index level\n",
    "    df= df.droplevel(0,1)\n",
    "\n",
    "    #rename columns\n",
    "    df.rename(columns = {'Unnamed: 0_level_1': 'Road', 'Unnamed: 1_level_1': 'Name'}, inplace= True)\n",
    "\n",
    "    #create dataframe that calculates the average cargo AADT for both road directions\n",
    "    y = df.groupby('Average Chainage')['Total Cargo'].mean()\n",
    "    df_y = pd.DataFrame(y)\n",
    "\n",
    "    #create dataframe that calculates the average people AADT for both road directions\n",
    "    x = df.groupby('Average Chainage')['Total People'].mean()\n",
    "    df_x = pd.DataFrame(x)\n",
    "\n",
    "    #Now that total cargo and total people have been used, they can be dropped\n",
    "    df.drop(columns = ['Total Cargo', 'Total People'], inplace = True)\n",
    "\n",
    "    #Also drop the duplicates\n",
    "    df.drop_duplicates(subset = ['Average Chainage'], inplace = True)\n",
    "\n",
    "    #rename road values to road prefix\n",
    "    #remember: str_length_road\n",
    "    df['Road'] = df['Road'].str[0:str_length_road]\n",
    "\n",
    "    #join the df on the x and y df's constructed earlier\n",
    "    df= df.join(df_y, on='Average Chainage')\n",
    "    df= df.join(df_x, on = 'Average Chainage')\n",
    "\n",
    "    #reset index\n",
    "    df.reset_index(inplace=True, drop=True)\n",
    "\n",
    "    return df"
   ],
   "metadata": {
    "collapsed": false,
    "ExecuteTime": {
     "end_time": "2024-03-28T22:37:29.513180600Z",
     "start_time": "2024-03-28T22:37:29.498432600Z"
    }
   }
  },
  {
   "cell_type": "code",
   "execution_count": 3,
   "outputs": [
    {
     "data": {
      "text/plain": "['N1', 'N2', 'N102', 'N104', 'N105', 'N8', 'N204', 'N207', 'N208']"
     },
     "execution_count": 3,
     "metadata": {},
     "output_type": "execute_result"
    }
   ],
   "source": [
    "intersections_network = pd.read_csv(\"../data/intersections.csv\")\n",
    "\n",
    "intersections_roads = list(intersections_network.road.unique())\n",
    "intersections_roads"
   ],
   "metadata": {
    "collapsed": false,
    "ExecuteTime": {
     "end_time": "2024-03-28T22:37:29.540858500Z",
     "start_time": "2024-03-28T22:37:29.513180600Z"
    }
   }
  },
  {
   "cell_type": "code",
   "execution_count": 4,
   "outputs": [],
   "source": [
    "flows_dict = {}\n",
    "df_names_list = []\n",
    "for road in intersections_roads:\n",
    "    df_name = f\"traffic_{road}\"\n",
    "    df = process_traffic_flows(road)\n",
    "    flows_dict[df_name] = df"
   ],
   "metadata": {
    "collapsed": false,
    "ExecuteTime": {
     "end_time": "2024-03-28T22:37:29.695031300Z",
     "start_time": "2024-03-28T22:37:29.530926200Z"
    }
   }
  },
  {
   "cell_type": "code",
   "execution_count": 5,
   "outputs": [],
   "source": [
    "df_flows = pd.concat([df for df_name, df in flows_dict.items()] , ignore_index = True)\n",
    "#save to csv\n",
    "df_flows.to_csv(\"../data/cleaned_traffic_flows.csv\")"
   ],
   "metadata": {
    "collapsed": false,
    "ExecuteTime": {
     "end_time": "2024-03-28T22:37:29.704649400Z",
     "start_time": "2024-03-28T22:37:29.695031300Z"
    }
   }
  }
 ],
 "metadata": {
  "kernelspec": {
   "display_name": "Python 3",
   "language": "python",
   "name": "python3"
  },
  "language_info": {
   "codemirror_mode": {
    "name": "ipython",
    "version": 2
   },
   "file_extension": ".py",
   "mimetype": "text/x-python",
   "name": "python",
   "nbconvert_exporter": "python",
   "pygments_lexer": "ipython2",
   "version": "2.7.6"
  }
 },
 "nbformat": 4,
 "nbformat_minor": 0
}
